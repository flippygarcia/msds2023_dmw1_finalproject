{
 "cells": [
  {
   "cell_type": "code",
   "execution_count": 1,
   "id": "eecd3bf4",
   "metadata": {
    "ExecuteTime": {
     "end_time": "2022-12-06T09:54:21.303184Z",
     "start_time": "2022-12-06T09:54:21.289343Z"
    }
   },
   "outputs": [
    {
     "data": {
      "text/html": [
       "\n",
       "<script src=\"https://cdnjs.cloudflare.com/ajax/libs/jquery/2.0.3/jquery.min.js \"></script>\n",
       "<script>\n",
       "code_show=true;\n",
       "function code_toggle() {\n",
       "if (code_show){\n",
       "$('div.jp-CodeCell > div.jp-Cell-inputWrapper').hide();\n",
       "} else {\n",
       "$('div.jp-CodeCell > div.jp-Cell-inputWrapper').show();\n",
       "}\n",
       "code_show = !code_show\n",
       "}\n",
       "$( document ).ready(code_toggle);\n",
       "</script>\n",
       "<form action=\"javascript:code_toggle()\"><input type=\"submit\" value=\"Click here to toggle on/off the raw code.\"></form>\n"
      ],
      "text/plain": [
       "<IPython.core.display.HTML object>"
      ]
     },
     "execution_count": 1,
     "metadata": {},
     "output_type": "execute_result"
    }
   ],
   "source": [
    "from IPython.display import HTML\n",
    "HTML('''\n",
    "<script src=\"https://cdnjs.cloudflare.com/ajax/libs/jquery/2.0.3/jquery.min.js \"></script>\n",
    "<script>\n",
    "code_show=true;\n",
    "function code_toggle() {\n",
    "if (code_show){\n",
    "$('div.jp-CodeCell > div.jp-Cell-inputWrapper').hide();\n",
    "} else {\n",
    "$('div.jp-CodeCell > div.jp-Cell-inputWrapper').show();\n",
    "}\n",
    "code_show = !code_show\n",
    "}\n",
    "$( document ).ready(code_toggle);\n",
    "</script>\n",
    "<form action=\"javascript:code_toggle()\"><input type=\"submit\" value=\"Click here to toggle on/off the raw code.\"></form>\n",
    "''')"
   ]
  },
  {
   "cell_type": "markdown",
   "id": "e1950a9a",
   "metadata": {},
   "source": [
    "<h1 style=\"color:#DA5F70\">Title</h1>"
   ]
  },
  {
   "cell_type": "markdown",
   "id": "c522b3f2",
   "metadata": {},
   "source": [
    "<font size=\"6\" style=\"color:#952333\">**Paws and Reflect:** </font> <font size=\"6\" style=\"color:#554232\">**Which Dog Should I Select?**</font><br>\n",
    "<center><img src=\"./Paws and Reflect.png\" width=\"90%\" height=\"90%\"></center>\n",
    "<center> Image 01. Paws and Reflect. </center>"
   ]
  },
  {
   "cell_type": "markdown",
   "id": "f71701a7",
   "metadata": {},
   "source": [
    "<h1 style=\"color:#DA5F70\">Executive Summary</h1>"
   ]
  },
  {
   "cell_type": "markdown",
   "id": "d146d655",
   "metadata": {},
   "source": [
    "<b><ins>Paws-ing and Reflecting on Selecting a Dog? The Solution is Here for You</b><ins>    \n",
    "\n",
    "As an aspiring dog owner paws-es and reflects on which dog he/she should select, the team developed a solution to find the intelligent match between an aspiring dog owner and the dog that best fits his/her lifestyle and preferences.\n",
    "    \n",
    "<b><ins>Dimensionality Reduction and Information Retrieval Pipeline</b><ins>\n",
    "    \n",
    "To go about the solution, the team performed the following:\n",
    "    \n",
    "1) **Data Extraction** of the Dogs Dataset comprising of 231 breeds via API [1];<br>\n",
    "2) **Data Processing** through checking of missing/null values, correction of erroneous data, and feature engineering;<br> 3) **Exploratory Data Analysis** to visualize the distribution of dogs by feature and checking the correlation heatmap;<br>\n",
    "4) **Dimensionality Reduction** by a) **Principal Components Analysis (PCA)** to determine the minimum number of Principal Components (PCs) that can account for 80% of Cumulative Variance Explained; and b) **Nonnegative Matrix Factorization (NMF)** to determine the optimal number of latent factors and to take advantage of the symmetrical formulation of NMF to group the dogs into possible clusters;<br>\n",
    "5) **Information Retrieval** through **cosine distance** to yield the closest match to the dog query entered by the aspiring dog owner;and<br>\n",
    "6) **Recommendation** of the Top 3 Dogs that best match the features reflecting the aspiring dog owner's preferences and lifestyle.\n",
    "\n",
    "<b><ins>Results, Insights, and Business Value</b><ins>\n",
    "\n",
    "Using PCA and NMF, the team was able to: i) find out that the minimum PCs to achieve at least 80% cumulative variance explained is 8; ii) determine that 7 is the optimal number of latent factors; and iii) uncover 7 clusters of dogs classified by the top features per latent factor.\n",
    "\n",
    "The following insights were gathered:\n",
    "1) The reduced-dimension has 8 important features:\n",
    "['energy', 'barking', 'protectiveness', 'shedding', 'ave_life_expectancy', 'drooling', 'ave_height', 'good_with_strangers']<br>\n",
    "2) Eight (8) latent factors can explain the features in the dataset.<br>\n",
    "3) The common themes per cluster in the 8 dog clusters are:<br>\n",
    "\n",
    "Cluster 1: Energetic Big Child-friendly Dogs<br>\n",
    "Cluster 2: Big Protective Dogs<br>\n",
    "Cluster 3: High Maintenance Socially Well Dogs<br>\n",
    "Cluster 4: Loud Dogs<br>\n",
    "Cluster 5: Energetic Tall Dogs<br>\n",
    "Cluster 6: Protective yet Playful Dogs<br>\n",
    "Cluster 7: Easily Trained Active Dogs<br>\n",
    "Cluster 8: Socially Behaved Dogs <br>\n",
    "\n",
    "4) To measure success and accuracy, the team set 80% as a threshold for success. Upon measuring information retrieval results using reduced dimensions with a full information retrieval (using all features), the Team obtained a 90% match, which is higher than the expected or set threshold for success.\n",
    "    \n",
    "The business value lies in the potential of the solution to serve as a tool (in a kiosk or an app) that pet store owners can use in converting inquiries and clicks into sales. Interested and aspiring dog owners can visit the pet store, the website, or the app and be led to the **Paws and Reflect Solution** to help them make the decision on which dog to select and ultimately welcome to his/her home and family.\n",
    "    \n",
    "<b><ins>Outlook</b><ins>\n",
    "\n",
    "While the initial gains in the **Paws and Reflect Solution** obtained in this Project have exceeded the performance threshold expectations set by the team, future studies can still be conducted using more data and other sophisticated clustering methods."
   ]
  },
  {
   "cell_type": "markdown",
   "id": "63e8d853",
   "metadata": {},
   "source": [
    "<h1 style=\"color:#DA5F70\">Problem Statement</h1>"
   ]
  },
  {
   "cell_type": "markdown",
   "id": "addba22a",
   "metadata": {
    "ExecuteTime": {
     "end_time": "2022-11-28T06:26:25.091440Z",
     "start_time": "2022-11-28T06:26:25.071190Z"
    }
   },
   "source": [
    "Problem Statement:\n",
    "With abundant breeds of dogs, the customer does not necessarily know the exact dog  to select.<br>\n",
    "The team is solving the following problem:\n",
    "1) How can the team yield top dog results that match the aspiring dog owner's preference and lifestyle?<br>\n",
    "\n",
    "From a business perspective, these are the important business questions:<br>\n",
    "1) The main question of the customer is what dog to select ? What if you have not decided on the dog's features yet? If you wanted the best value for your money by getting the top dog choices, where would you turn to? <br>\n",
    "2) As a business owner, you would want to give the best customer satisfaction and experience. You want to help the customers make the best possible decision . How do you create this great value-add for  your customers? in the end, it would be a win-win since happier customers translate to loyal customers, and that would most likely drive higher revenues for your business."
   ]
  },
  {
   "cell_type": "markdown",
   "id": "27d7cc58",
   "metadata": {},
   "source": [
    "<h1 style=\"color:#DA5F70\">Introduction</h1>"
   ]
  },
  {
   "cell_type": "markdown",
   "id": "cec8432d",
   "metadata": {
    "ExecuteTime": {
     "end_time": "2022-11-28T06:28:20.067184Z",
     "start_time": "2022-11-28T06:28:20.048006Z"
    }
   },
   "source": [
    "<b><ins>Joy in Owning a Dog</ins></b>\n",
    "    \n",
    "The team believes that many people find joy in owning a dog. The remarkable interaction with the dogs we live it stay with us for life. \n",
    "\n",
    "Dogs have amazing social intelligence that they have perfected through time being in the presence of humans. Dogs know when it is time for bath, food and walks - partly based on the family routine and partly based on the dogs’ good sense of light change, cycles, and smell.[2]\n",
    "    \n",
    "<b><ins>With Good Dogs Come Great Responsibility</ins></b>\n",
    "    \n",
    "They are a delight to have around and play with but they also require consistent care. Dogs have to be fed, exercised, groomed, bathed, and given routine veterinary care.\n",
    "\n",
    "<b><ins>Dog Search Using Technologies</ins></b>\n",
    "\n",
    "Artificial Intelligence has been used to identify dogs by breed through What-Dog.net and other applications in the App Store. One can identify a dog's breed, learn about its temperament, find similar dogs, and more online.[3] The team aimed to take the dog search technology a bit further.\n",
    "    \n",
    "<b><ins>Paw-fect Match</ins></b>\n",
    "\n",
    "The **Paws and Reflect Solution** developed by the team narrows down the match to Top 3 Dogs to aid the aspiring dog owner in finally making a decision in which dog to bring home."
   ]
  },
  {
   "cell_type": "markdown",
   "id": "49e6a346",
   "metadata": {},
   "source": [
    "<h1 style=\"color:#DA5F70\">Methodology</h1>"
   ]
  },
  {
   "cell_type": "markdown",
   "id": "a7b39402",
   "metadata": {},
   "source": [
    "A high-level methodology description of the steps taken by the team to create the project."
   ]
  },
  {
   "cell_type": "markdown",
   "id": "7d1d7930",
   "metadata": {
    "ExecuteTime": {
     "end_time": "2022-12-06T06:19:15.294075Z",
     "start_time": "2022-12-06T06:19:15.287745Z"
    }
   },
   "source": [
    "<h2 style=\"color:#BC7E7E\">Data Collection</h2>"
   ]
  },
  {
   "cell_type": "markdown",
   "id": "286105c7",
   "metadata": {},
   "source": [
    "For the data collection, the team utilized the Dogs API to perform the data extraction. The team followed the documentation from the source API to conduct multiple API calls to extract all data available."
   ]
  },
  {
   "cell_type": "markdown",
   "id": "32451c3f",
   "metadata": {},
   "source": [
    "<h2 style=\"color:#BC7E7E\">Data Preprocessing</h2>"
   ]
  },
  {
   "cell_type": "markdown",
   "id": "a0087ea3",
   "metadata": {},
   "source": [
    "For the data preprocessing, the team conducted these steps:\n",
    "- **Data Cleaning**\n",
    "    - checked for duplicate data\n",
    "    - corrected the value of outliers\n",
    "    - checked for missing data\n",
    "    - validated the data\n",
    "- **Feature Engineering**\n",
    "    - created new features by combining data from existing features\n",
    "    - dropped sourced features for the new features\n",
    "    - created bins for features to properly scale the data"
   ]
  },
  {
   "cell_type": "markdown",
   "id": "0d06e491",
   "metadata": {},
   "source": [
    "<h2 style=\"color:#BC7E7E\">Exploratory Data Analysis (EDA)</h2>"
   ]
  },
  {
   "cell_type": "markdown",
   "id": "27471c12",
   "metadata": {},
   "source": [
    "For the EDA, the team analyses the dataset to see information such as:\n",
    "- Social\n",
    "- Personality\n",
    "- Physical\n",
    "- Size and Life"
   ]
  },
  {
   "cell_type": "markdown",
   "id": "5fcd105c",
   "metadata": {},
   "source": [
    "<h2 style=\"color:#BC7E7E\">Dimensionality Reduction</h2>"
   ]
  },
  {
   "cell_type": "markdown",
   "id": "f7e27e10",
   "metadata": {},
   "source": [
    "For the dimensionality reduction, the team performed:\n",
    "- Principal Component Analysis (PCA)\n",
    "- Non-negative matrix factorization (NMF)"
   ]
  },
  {
   "cell_type": "markdown",
   "id": "840e5303",
   "metadata": {},
   "source": [
    "<h2 style=\"color:#BC7E7E\">Information Retrieval</h2>"
   ]
  },
  {
   "cell_type": "markdown",
   "id": "c921afa5",
   "metadata": {},
   "source": [
    "For the information retrieval, the team used Cosine distance to retrieve the top 10 Dog Breeds nearest to the query. Also performed was another information retrieval, but this time, the features used for the query were reduced based on the results of the dimensionality reduction."
   ]
  },
  {
   "cell_type": "markdown",
   "id": "208881d0",
   "metadata": {},
   "source": [
    "<h1 style=\"color:#DA5F70\">Data Sources and Description</h1>"
   ]
  },
  {
   "cell_type": "markdown",
   "id": "812660c0",
   "metadata": {
    "ExecuteTime": {
     "end_time": "2022-11-28T06:28:03.748088Z",
     "start_time": "2022-11-28T06:28:03.726889Z"
    }
   },
   "source": [
    "- The team aim to identify what breed of dogs should be selected as such the team choose to extract data from Dogs API. [[1]](https://api-ninjas.com/api/dogs)\n",
    "- The Dogs API provides detailed, qualitative information on over 200 different breeds of dogs.\n",
    "\n",
    "- A brief presentation of the data table with its description. [[4]](https://www.akc.org/dog-breeds/)\n",
    "\n",
    "<table style=\"width:100%\">\n",
    "    <tr style=\"background-color: pink;\">\n",
    "      <th style=\"width:15%; text-align:center\">Variable Name</th>\n",
    "      <th style=\"width:70%; text-align:center\" >Data Description</th>\n",
    "      <th style=\"width:10%; text-align:center\">Data Type</th>\n",
    "    </tr>\n",
    "    <tr>\n",
    "        <td style=\"text-align:left\">name</td>\n",
    "        <td style=\"text-align:left\">The name of breed</td>\n",
    "        <td style=\"text-align:left\">String</td>\n",
    "      </tr>\n",
    "   <tr>\n",
    "      <td style=\"text-align:left\">barking</td>\n",
    "      <td style=\"text-align:left\">How often this breed vocalizes, whether it's with barks or howls. <br> Possible values: 1, 2, 3, 4, 5 <br> Where 1 indicates Only To Alert and 5 indicates Very Vocal.</td>\n",
    "      <td style=\"text-align:left\">Int</td>\n",
    "    </tr>\n",
    "   <tr>\n",
    "      <td style=\"text-align:left\">coat_length</td>\n",
    "      <td style=\"text-align:left\">How long the breed's coat is expected to be. <br> Possible values: 1 and 2 <br> Where 1 indicates short/medium coat and 2 indicates long coat.</td>\n",
    "      <td style=\"text-align:left\">Int</td>\n",
    "    </tr>\n",
    "    <tr>\n",
    "      <td style=\"text-align:left\">energy</td>\n",
    "      <td style=\"text-align:left\">The amount of exercise and mental stimulation a breed needs. <br> Possible values: 1, 2, 3, 4, 5 <br> Where 1 indicates Couch Potato and 5 indicates High Energy.</td>\n",
    "      <td style=\"text-align:left\">Int</td>\n",
    "    </tr>\n",
    "    <tr>\n",
    "      <td style=\"text-align:left\">good_with_children</td>\n",
    "      <td style=\"text-align:left\">A breed's level of tolerance and patience with childrens' behavior, and overall family-friendly nature. <br> Possible values: 1, 2, 3, 4, 5 <br>Where 1 indicates Not Recommended and 5 indicates Good with children.</td>\n",
    "      <td style=\"text-align:left\">Int</td>\n",
    "    </tr>\n",
    "    <tr>\n",
    "      <td style=\"text-align:left\">good_with_other_dogs</td>\n",
    "      <td style=\"text-align:left\">How generally friendly a breed is towards other dogs. <br> Possible values: 1, 2, 3, 4, 5 <br>Where 1 indicates Not Recommended and 5 indicates Good with other dogs.</td>\n",
    "      <td style=\"text-align:left\">Int</td>\n",
    "    </tr>\n",
    "    <tr>\n",
    "      <td style=\"text-align:left\">good_with_strangers</td>\n",
    "      <td style=\"text-align:left\">How welcoming a breed is likely to be towards strangers. <br> Possible values: 1, 2, 3, 4, 5 <br> Where 1 indicates Reserved and 5 indicates Everyone is my best friend.</td>\n",
    "      <td style=\"text-align:left\">Int</td>\n",
    "    </tr>\n",
    "    <tr>\n",
    "      <td style=\"text-align:left\">playfulness</td>\n",
    "      <td style=\"text-align:left\">How enthusiastic about play a breed is likely to be, even past the age of puppyhood. <br> Possible values: 1, 2, 3, 4, 5 <br> Where 1 indicates Only When You Want To Play and 5 indicates Non-Stop.</td>\n",
    "      <td style=\"text-align:left\">Int</td>\n",
    "    </tr>\n",
    "    <tr>\n",
    "      <td style=\"text-align:left\">protectiveness</td>\n",
    "      <td style=\"text-align:left\">A breed's tendency to alert you that strangers are around. Possible values: 1, 2, 3, 4, 5 <br> Where 1 indicates What's Mine Is Yours and 5 indicates Vigilant.</td>\n",
    "      <td style=\"text-align:left\">Int</td>\n",
    "    </tr>\n",
    "    <tr>\n",
    "      <td style=\"text-align:left\">shedding</td>\n",
    "      <td style=\"text-align:left\">How much fur and hair you can expect the breed to leave behind. <br>Possible values: 1, 2, 3, 4, 5 <br> Where 1 indicates no shedding and 5 indicates Hair Everywhere</td>\n",
    "      <td style=\"text-align:left\">Int</td>\n",
    "    </tr>\n",
    "    <tr>\n",
    "      <td style=\"text-align:left\">trainability</td>\n",
    "      <td style=\"text-align:left\">How easy it will be to train your dog, and how willing your dog will be to learn new things. <br> Possible values: 1, 2, 3, 4, 5, where 1 indicates Self-Willed and 5 indicates Eager to Please.</td>\n",
    "      <td style=\"text-align:left\">Int</td>\n",
    "    </tr>\n",
    "    <tr>\n",
    "      <td style=\"text-align:left\">grooming</td>\n",
    "      <td style=\"text-align:left\">How frequently a breed requires bathing, brushing, trimming, or other kinds of coat maintenance. <br> Possible values: 1, 2, 3, 4, 5 <br> Where 1 indicates Monthly and 5 indicates Daily</td>\n",
    "      <td style=\"text-align:left\">Int</td>\n",
    "    </tr>\n",
    "    <tr>\n",
    "        <td style=\"text-align:left\">drooling</td>\n",
    "        <td style=\"text-align:left\">How drool-prone a breed tends to be. <br> Possible values: 1, 2, 3, 4, 5 <br>Where 1 indicates less likely to drool and 5 indicates always have a towel.</td>\n",
    "        <td style=\"text-align:left\">Int</td>\n",
    "    </tr>\n",
    "    <tr>\n",
    "      <td style=\"text-align:left\">max_life_expectancy</td>\n",
    "      <td style=\"text-align:left\">Maximum height in years.</td>\n",
    "      <td style=\"text-align:left\">Float</td>\n",
    "    </tr>\n",
    "    <tr>\n",
    "      <td style=\"text-align:left\">min_life_expectancy</td>\n",
    "      <td style=\"text-align:left\">Minimmum height in years.</td>\n",
    "      <td style=\"text-align:left\">Float</td>\n",
    "    </tr>\n",
    "    <tr>\n",
    "      <td style=\"text-align:left\">max_height_male</td>\n",
    "      <td style=\"text-align:left\">Maximum height of male breed in inches.</td>\n",
    "      <td style=\"text-align:left\">Float</td>\n",
    "    </tr>\n",
    "    <tr>\n",
    "      <td style=\"text-align:left\">max_height_female</td>\n",
    "      <td style=\"text-align:left\">Maximum height of female breed in inches.</td>\n",
    "      <td style=\"text-align:left\">Float</td>\n",
    "    </tr>\n",
    "    <tr>\n",
    "      <td style=\"text-align:left\">min_height_male</td>\n",
    "      <td style=\"text-align:left\">Minimum height of male breed in inches.</td>\n",
    "      <td style=\"text-align:left\">Float</td>\n",
    "    </tr>\n",
    "    <tr>\n",
    "      <td style=\"text-align:left\">min_height_female</td>\n",
    "      <td style=\"text-align:left\">Minimum height of female breed in inches.</td>\n",
    "      <td style=\"text-align:left\">Float</td>\n",
    "    </tr>\n",
    "    <tr>\n",
    "      <td style=\"text-align:left\">max_weight_male</td>\n",
    "      <td style=\"text-align:left\">Maximum weight of male breed in pounds.</td>\n",
    "      <td style=\"text-align:left\">Float</td>\n",
    "    </tr>\n",
    "    <tr>\n",
    "      <td style=\"text-align:left\">max_weight_female</td>\n",
    "      <td style=\"text-align:left\">Maximum weight of female breed in pounds.</td>\n",
    "      <td style=\"text-align:left\">Float</td>\n",
    "    </tr>\n",
    "    <tr>\n",
    "      <td style=\"text-align:left\">min_weight_male</td>\n",
    "      <td style=\"text-align:left\">Minimum weight of male breed in pounds.</td>\n",
    "      <td style=\"text-align:left\">Float</td>\n",
    "    </tr>\n",
    "    <tr>\n",
    "      <td style=\"text-align:left\">min_weight_female</td>\n",
    "      <td style=\"text-align:left\">Minimum weight of female breed in pounds.</td>\n",
    "      <td style=\"text-align:left\">Float</td>\n",
    "    </tr>\n",
    "    <tr>\n",
    "      <td style=\"text-align:left\">image_link</td>\n",
    "      <td style=\"text-align:left\">The links for the image sources</td>\n",
    "      <td style=\"text-align:left\">String</td>\n",
    "    </tr>\n",
    "  </table>"
   ]
  },
  {
   "cell_type": "markdown",
   "id": "e1356352",
   "metadata": {},
   "source": [
    "<h1 style=\"color:#DA5F70\">Data Processing</h1>"
   ]
  },
  {
   "cell_type": "markdown",
   "id": "6d106efc",
   "metadata": {},
   "source": [
    "<h2 style=\"color:#BC7E7E\">Import Libraries</h2>"
   ]
  },
  {
   "cell_type": "markdown",
   "id": "70e93153",
   "metadata": {},
   "source": [
    "To solve the problem presented, the team imported first all necessary libraries. The imports can be divided into: \n",
    "* Basic Imports\n",
    "* API\n",
    "* Dimensionality Reduction\n",
    "* Information Retrieval"
   ]
  },
  {
   "cell_type": "code",
   "execution_count": 47,
   "id": "dd13791e",
   "metadata": {
    "ExecuteTime": {
     "end_time": "2022-12-06T09:55:26.618855Z",
     "start_time": "2022-12-06T09:55:26.611528Z"
    },
    "scrolled": true
   },
   "outputs": [],
   "source": [
    "# Basic Imports\n",
    "import numpy as np\n",
    "import pandas as pd\n",
    "import math\n",
    "import seaborn as sns\n",
    "import matplotlib.pyplot as plt\n",
    "from matplotlib.ticker import MaxNLocator\n",
    "from IPython.display import display, clear_output\n",
    "\n",
    "# API\n",
    "import requests\n",
    "\n",
    "# Dimensionality Reduction\n",
    "from sklearn.decomposition import PCA, NMF\n",
    "\n",
    "# Information Retrieval\n",
    "from scipy.spatial import distance\n",
    "import ipywidgets as widgets\n",
    "from PIL import Image\n",
    "from io import BytesIO"
   ]
  },
  {
   "cell_type": "markdown",
   "id": "fced1e13",
   "metadata": {},
   "source": [
    "<h2 style=\"color:#BC7E7E\">API Request</h2>"
   ]
  },
  {
   "cell_type": "markdown",
   "id": "3d6fc551",
   "metadata": {},
   "source": [
    "The team used **Dog Dataset** to answer the question: *Which Dog Should I Select?*. \n",
    "\n",
    "The dog dataset was extracted using the API of api-ninjas.com using an API key. [[2]](https://api-ninjas.com/api/dogs)"
   ]
  },
  {
   "cell_type": "markdown",
   "id": "d28c9c61",
   "metadata": {},
   "source": [
    "<center><img src=\"./api_ninjas.jpg\" width=\"800\" height=\"700\"></center>\n",
    "<center><i> Image 02. Webpage of api-ninjas.com. </i></center>"
   ]
  },
  {
   "cell_type": "code",
   "execution_count": 3,
   "id": "8f0f3ff1",
   "metadata": {
    "ExecuteTime": {
     "end_time": "2022-12-06T09:54:33.649397Z",
     "start_time": "2022-12-06T09:54:23.709214Z"
    }
   },
   "outputs": [],
   "source": [
    "# Endpt and API key setup\n",
    "api_key = \"o3NqUjG9GfPYi2830ju6Jg==ZCPKK5C8AG1AOhIB\"\n",
    "end_pt = \"https://api.api-ninjas.com/v1/dogs\"\n",
    "headers = {'X-Api-Key': api_key}\n",
    "params = {}\n",
    "ls_dogs = []\n",
    "\n",
    "# Retrieved data from API\n",
    "for barking_i in range(1, 6):\n",
    "    params.update({'barking': barking_i})\n",
    "    for offset_i in range(1, 101, 20):\n",
    "        params.update({'offset': offset_i})\n",
    "        resp = requests.get(end_pt, params=params, headers=headers).json()\n",
    "        if len(resp) == 0:\n",
    "            break\n",
    "        else:\n",
    "            ls_dogs.extend(resp)"
   ]
  },
  {
   "cell_type": "markdown",
   "id": "3a13b8f5",
   "metadata": {},
   "source": [
    "<h2 style=\"color:#BC7E7E\">Data Cleaning</h2>"
   ]
  },
  {
   "cell_type": "markdown",
   "id": "f4d03bfe",
   "metadata": {},
   "source": [
    "To visualize the data the team used *Pandas DataFrame*. Shown below is the raw data extracted from the API."
   ]
  },
  {
   "cell_type": "code",
   "execution_count": 4,
   "id": "12f99f80",
   "metadata": {
    "ExecuteTime": {
     "end_time": "2022-12-06T09:54:33.695682Z",
     "start_time": "2022-12-06T09:54:33.653184Z"
    }
   },
   "outputs": [
    {
     "data": {
      "text/html": [
       "<div>\n",
       "<style scoped>\n",
       "    .dataframe tbody tr th:only-of-type {\n",
       "        vertical-align: middle;\n",
       "    }\n",
       "\n",
       "    .dataframe tbody tr th {\n",
       "        vertical-align: top;\n",
       "    }\n",
       "\n",
       "    .dataframe thead th {\n",
       "        text-align: right;\n",
       "    }\n",
       "</style>\n",
       "<table border=\"1\" class=\"dataframe\">\n",
       "  <thead>\n",
       "    <tr style=\"text-align: right;\">\n",
       "      <th></th>\n",
       "      <th>image_link</th>\n",
       "      <th>good_with_children</th>\n",
       "      <th>good_with_other_dogs</th>\n",
       "      <th>shedding</th>\n",
       "      <th>grooming</th>\n",
       "      <th>drooling</th>\n",
       "      <th>coat_length</th>\n",
       "      <th>good_with_strangers</th>\n",
       "      <th>playfulness</th>\n",
       "      <th>protectiveness</th>\n",
       "      <th>...</th>\n",
       "      <th>max_life_expectancy</th>\n",
       "      <th>max_height_male</th>\n",
       "      <th>max_height_female</th>\n",
       "      <th>max_weight_male</th>\n",
       "      <th>max_weight_female</th>\n",
       "      <th>min_height_male</th>\n",
       "      <th>min_height_female</th>\n",
       "      <th>min_weight_male</th>\n",
       "      <th>min_weight_female</th>\n",
       "      <th>name</th>\n",
       "    </tr>\n",
       "  </thead>\n",
       "  <tbody>\n",
       "    <tr>\n",
       "      <th>0</th>\n",
       "      <td>https://api-ninjas.com/images/dogs/australian_...</td>\n",
       "      <td>3</td>\n",
       "      <td>3</td>\n",
       "      <td>3</td>\n",
       "      <td>1</td>\n",
       "      <td>1</td>\n",
       "      <td>1</td>\n",
       "      <td>3</td>\n",
       "      <td>3</td>\n",
       "      <td>4</td>\n",
       "      <td>...</td>\n",
       "      <td>16.0</td>\n",
       "      <td>20.0</td>\n",
       "      <td>20.0</td>\n",
       "      <td>50.0</td>\n",
       "      <td>50.0</td>\n",
       "      <td>18.0</td>\n",
       "      <td>18.0</td>\n",
       "      <td>35.0</td>\n",
       "      <td>35.0</td>\n",
       "      <td>Australian Cattle Dog</td>\n",
       "    </tr>\n",
       "    <tr>\n",
       "      <th>1</th>\n",
       "      <td>https://api-ninjas.com/images/dogs/australian_...</td>\n",
       "      <td>3</td>\n",
       "      <td>3</td>\n",
       "      <td>3</td>\n",
       "      <td>1</td>\n",
       "      <td>1</td>\n",
       "      <td>1</td>\n",
       "      <td>3</td>\n",
       "      <td>3</td>\n",
       "      <td>4</td>\n",
       "      <td>...</td>\n",
       "      <td>13.0</td>\n",
       "      <td>20.0</td>\n",
       "      <td>20.0</td>\n",
       "      <td>50.0</td>\n",
       "      <td>50.0</td>\n",
       "      <td>17.0</td>\n",
       "      <td>17.0</td>\n",
       "      <td>35.0</td>\n",
       "      <td>35.0</td>\n",
       "      <td>Australian Kelpie</td>\n",
       "    </tr>\n",
       "    <tr>\n",
       "      <th>2</th>\n",
       "      <td>https://api-ninjas.com/images/dogs/australian_...</td>\n",
       "      <td>3</td>\n",
       "      <td>1</td>\n",
       "      <td>3</td>\n",
       "      <td>3</td>\n",
       "      <td>1</td>\n",
       "      <td>1</td>\n",
       "      <td>1</td>\n",
       "      <td>3</td>\n",
       "      <td>3</td>\n",
       "      <td>...</td>\n",
       "      <td>15.0</td>\n",
       "      <td>20.0</td>\n",
       "      <td>20.0</td>\n",
       "      <td>45.0</td>\n",
       "      <td>35.0</td>\n",
       "      <td>18.0</td>\n",
       "      <td>18.0</td>\n",
       "      <td>38.0</td>\n",
       "      <td>32.0</td>\n",
       "      <td>Australian Stumpy Tail Cattle Dog</td>\n",
       "    </tr>\n",
       "    <tr>\n",
       "      <th>3</th>\n",
       "      <td>https://api-ninjas.com/images/dogs/azawakh.jpg</td>\n",
       "      <td>3</td>\n",
       "      <td>3</td>\n",
       "      <td>2</td>\n",
       "      <td>2</td>\n",
       "      <td>1</td>\n",
       "      <td>1</td>\n",
       "      <td>1</td>\n",
       "      <td>3</td>\n",
       "      <td>3</td>\n",
       "      <td>...</td>\n",
       "      <td>15.0</td>\n",
       "      <td>29.0</td>\n",
       "      <td>29.0</td>\n",
       "      <td>55.0</td>\n",
       "      <td>44.0</td>\n",
       "      <td>25.0</td>\n",
       "      <td>25.0</td>\n",
       "      <td>44.0</td>\n",
       "      <td>33.0</td>\n",
       "      <td>Azawakh</td>\n",
       "    </tr>\n",
       "    <tr>\n",
       "      <th>4</th>\n",
       "      <td>https://api-ninjas.com/images/dogs/basenji.jpg</td>\n",
       "      <td>3</td>\n",
       "      <td>3</td>\n",
       "      <td>2</td>\n",
       "      <td>1</td>\n",
       "      <td>1</td>\n",
       "      <td>1</td>\n",
       "      <td>3</td>\n",
       "      <td>3</td>\n",
       "      <td>3</td>\n",
       "      <td>...</td>\n",
       "      <td>14.0</td>\n",
       "      <td>17.0</td>\n",
       "      <td>17.0</td>\n",
       "      <td>24.0</td>\n",
       "      <td>22.0</td>\n",
       "      <td>17.0</td>\n",
       "      <td>17.0</td>\n",
       "      <td>24.0</td>\n",
       "      <td>22.0</td>\n",
       "      <td>Basenji</td>\n",
       "    </tr>\n",
       "    <tr>\n",
       "      <th>...</th>\n",
       "      <td>...</td>\n",
       "      <td>...</td>\n",
       "      <td>...</td>\n",
       "      <td>...</td>\n",
       "      <td>...</td>\n",
       "      <td>...</td>\n",
       "      <td>...</td>\n",
       "      <td>...</td>\n",
       "      <td>...</td>\n",
       "      <td>...</td>\n",
       "      <td>...</td>\n",
       "      <td>...</td>\n",
       "      <td>...</td>\n",
       "      <td>...</td>\n",
       "      <td>...</td>\n",
       "      <td>...</td>\n",
       "      <td>...</td>\n",
       "      <td>...</td>\n",
       "      <td>...</td>\n",
       "      <td>...</td>\n",
       "      <td>...</td>\n",
       "    </tr>\n",
       "    <tr>\n",
       "      <th>226</th>\n",
       "      <td>https://api-ninjas.com/images/dogs/shetland_sh...</td>\n",
       "      <td>5</td>\n",
       "      <td>5</td>\n",
       "      <td>3</td>\n",
       "      <td>3</td>\n",
       "      <td>1</td>\n",
       "      <td>1</td>\n",
       "      <td>2</td>\n",
       "      <td>5</td>\n",
       "      <td>5</td>\n",
       "      <td>...</td>\n",
       "      <td>14.0</td>\n",
       "      <td>16.0</td>\n",
       "      <td>16.0</td>\n",
       "      <td>25.0</td>\n",
       "      <td>25.0</td>\n",
       "      <td>13.0</td>\n",
       "      <td>13.0</td>\n",
       "      <td>15.0</td>\n",
       "      <td>15.0</td>\n",
       "      <td>Shetland Sheepdog</td>\n",
       "    </tr>\n",
       "    <tr>\n",
       "      <th>227</th>\n",
       "      <td>https://api-ninjas.com/images/dogs/siberian_hu...</td>\n",
       "      <td>5</td>\n",
       "      <td>5</td>\n",
       "      <td>4</td>\n",
       "      <td>2</td>\n",
       "      <td>1</td>\n",
       "      <td>1</td>\n",
       "      <td>5</td>\n",
       "      <td>5</td>\n",
       "      <td>1</td>\n",
       "      <td>...</td>\n",
       "      <td>14.0</td>\n",
       "      <td>23.5</td>\n",
       "      <td>23.5</td>\n",
       "      <td>60.0</td>\n",
       "      <td>50.0</td>\n",
       "      <td>21.0</td>\n",
       "      <td>21.0</td>\n",
       "      <td>45.0</td>\n",
       "      <td>35.0</td>\n",
       "      <td>Siberian Husky</td>\n",
       "    </tr>\n",
       "    <tr>\n",
       "      <th>228</th>\n",
       "      <td>https://api-ninjas.com/images/dogs/smooth_fox_...</td>\n",
       "      <td>3</td>\n",
       "      <td>3</td>\n",
       "      <td>3</td>\n",
       "      <td>2</td>\n",
       "      <td>1</td>\n",
       "      <td>1</td>\n",
       "      <td>3</td>\n",
       "      <td>4</td>\n",
       "      <td>5</td>\n",
       "      <td>...</td>\n",
       "      <td>15.0</td>\n",
       "      <td>15.5</td>\n",
       "      <td>15.5</td>\n",
       "      <td>18.0</td>\n",
       "      <td>17.0</td>\n",
       "      <td>15.5</td>\n",
       "      <td>15.5</td>\n",
       "      <td>18.0</td>\n",
       "      <td>15.0</td>\n",
       "      <td>Smooth Fox Terrier</td>\n",
       "    </tr>\n",
       "    <tr>\n",
       "      <th>229</th>\n",
       "      <td>https://api-ninjas.com/images/dogs/treeing_ten...</td>\n",
       "      <td>3</td>\n",
       "      <td>5</td>\n",
       "      <td>2</td>\n",
       "      <td>2</td>\n",
       "      <td>3</td>\n",
       "      <td>1</td>\n",
       "      <td>3</td>\n",
       "      <td>3</td>\n",
       "      <td>3</td>\n",
       "      <td>...</td>\n",
       "      <td>12.0</td>\n",
       "      <td>24.0</td>\n",
       "      <td>24.0</td>\n",
       "      <td>50.0</td>\n",
       "      <td>50.0</td>\n",
       "      <td>16.0</td>\n",
       "      <td>16.0</td>\n",
       "      <td>30.0</td>\n",
       "      <td>30.0</td>\n",
       "      <td>Treeing Tennessee Brindle</td>\n",
       "    </tr>\n",
       "    <tr>\n",
       "      <th>230</th>\n",
       "      <td>https://api-ninjas.com/images/dogs/west_highla...</td>\n",
       "      <td>5</td>\n",
       "      <td>3</td>\n",
       "      <td>3</td>\n",
       "      <td>3</td>\n",
       "      <td>1</td>\n",
       "      <td>1</td>\n",
       "      <td>4</td>\n",
       "      <td>5</td>\n",
       "      <td>5</td>\n",
       "      <td>...</td>\n",
       "      <td>15.0</td>\n",
       "      <td>11.0</td>\n",
       "      <td>11.0</td>\n",
       "      <td>20.0</td>\n",
       "      <td>20.0</td>\n",
       "      <td>11.0</td>\n",
       "      <td>11.0</td>\n",
       "      <td>15.0</td>\n",
       "      <td>15.0</td>\n",
       "      <td>West Highland White Terrier</td>\n",
       "    </tr>\n",
       "  </tbody>\n",
       "</table>\n",
       "<p>231 rows × 24 columns</p>\n",
       "</div>"
      ],
      "text/plain": [
       "                                            image_link  good_with_children  \\\n",
       "0    https://api-ninjas.com/images/dogs/australian_...                   3   \n",
       "1    https://api-ninjas.com/images/dogs/australian_...                   3   \n",
       "2    https://api-ninjas.com/images/dogs/australian_...                   3   \n",
       "3       https://api-ninjas.com/images/dogs/azawakh.jpg                   3   \n",
       "4       https://api-ninjas.com/images/dogs/basenji.jpg                   3   \n",
       "..                                                 ...                 ...   \n",
       "226  https://api-ninjas.com/images/dogs/shetland_sh...                   5   \n",
       "227  https://api-ninjas.com/images/dogs/siberian_hu...                   5   \n",
       "228  https://api-ninjas.com/images/dogs/smooth_fox_...                   3   \n",
       "229  https://api-ninjas.com/images/dogs/treeing_ten...                   3   \n",
       "230  https://api-ninjas.com/images/dogs/west_highla...                   5   \n",
       "\n",
       "     good_with_other_dogs  shedding  grooming  drooling  coat_length  \\\n",
       "0                       3         3         1         1            1   \n",
       "1                       3         3         1         1            1   \n",
       "2                       1         3         3         1            1   \n",
       "3                       3         2         2         1            1   \n",
       "4                       3         2         1         1            1   \n",
       "..                    ...       ...       ...       ...          ...   \n",
       "226                     5         3         3         1            1   \n",
       "227                     5         4         2         1            1   \n",
       "228                     3         3         2         1            1   \n",
       "229                     5         2         2         3            1   \n",
       "230                     3         3         3         1            1   \n",
       "\n",
       "     good_with_strangers  playfulness  protectiveness  ...  \\\n",
       "0                      3            3               4  ...   \n",
       "1                      3            3               4  ...   \n",
       "2                      1            3               3  ...   \n",
       "3                      1            3               3  ...   \n",
       "4                      3            3               3  ...   \n",
       "..                   ...          ...             ...  ...   \n",
       "226                    2            5               5  ...   \n",
       "227                    5            5               1  ...   \n",
       "228                    3            4               5  ...   \n",
       "229                    3            3               3  ...   \n",
       "230                    4            5               5  ...   \n",
       "\n",
       "     max_life_expectancy  max_height_male  max_height_female  max_weight_male  \\\n",
       "0                   16.0             20.0               20.0             50.0   \n",
       "1                   13.0             20.0               20.0             50.0   \n",
       "2                   15.0             20.0               20.0             45.0   \n",
       "3                   15.0             29.0               29.0             55.0   \n",
       "4                   14.0             17.0               17.0             24.0   \n",
       "..                   ...              ...                ...              ...   \n",
       "226                 14.0             16.0               16.0             25.0   \n",
       "227                 14.0             23.5               23.5             60.0   \n",
       "228                 15.0             15.5               15.5             18.0   \n",
       "229                 12.0             24.0               24.0             50.0   \n",
       "230                 15.0             11.0               11.0             20.0   \n",
       "\n",
       "     max_weight_female  min_height_male  min_height_female  min_weight_male  \\\n",
       "0                 50.0             18.0               18.0             35.0   \n",
       "1                 50.0             17.0               17.0             35.0   \n",
       "2                 35.0             18.0               18.0             38.0   \n",
       "3                 44.0             25.0               25.0             44.0   \n",
       "4                 22.0             17.0               17.0             24.0   \n",
       "..                 ...              ...                ...              ...   \n",
       "226               25.0             13.0               13.0             15.0   \n",
       "227               50.0             21.0               21.0             45.0   \n",
       "228               17.0             15.5               15.5             18.0   \n",
       "229               50.0             16.0               16.0             30.0   \n",
       "230               20.0             11.0               11.0             15.0   \n",
       "\n",
       "     min_weight_female                               name  \n",
       "0                 35.0              Australian Cattle Dog  \n",
       "1                 35.0                  Australian Kelpie  \n",
       "2                 32.0  Australian Stumpy Tail Cattle Dog  \n",
       "3                 33.0                            Azawakh  \n",
       "4                 22.0                            Basenji  \n",
       "..                 ...                                ...  \n",
       "226               15.0                  Shetland Sheepdog  \n",
       "227               35.0                     Siberian Husky  \n",
       "228               15.0                 Smooth Fox Terrier  \n",
       "229               30.0          Treeing Tennessee Brindle  \n",
       "230               15.0        West Highland White Terrier  \n",
       "\n",
       "[231 rows x 24 columns]"
      ]
     },
     "metadata": {},
     "output_type": "display_data"
    }
   ],
   "source": [
    "data = pd.DataFrame(ls_dogs)\n",
    "display(data)"
   ]
  },
  {
   "cell_type": "markdown",
   "id": "374b4c50",
   "metadata": {},
   "source": [
    "Before we do anything with the dataset, the team first verifies the datatype, missing values, and erroneous data. Shown below are the data types of each column."
   ]
  },
  {
   "cell_type": "code",
   "execution_count": 5,
   "id": "688fe105",
   "metadata": {
    "ExecuteTime": {
     "end_time": "2022-12-06T09:54:33.705082Z",
     "start_time": "2022-12-06T09:54:33.698253Z"
    }
   },
   "outputs": [
    {
     "data": {
      "text/plain": [
       "image_link               object\n",
       "good_with_children        int64\n",
       "good_with_other_dogs      int64\n",
       "shedding                  int64\n",
       "grooming                  int64\n",
       "drooling                  int64\n",
       "coat_length               int64\n",
       "good_with_strangers       int64\n",
       "playfulness               int64\n",
       "protectiveness            int64\n",
       "trainability              int64\n",
       "energy                    int64\n",
       "barking                   int64\n",
       "min_life_expectancy     float64\n",
       "max_life_expectancy     float64\n",
       "max_height_male         float64\n",
       "max_height_female       float64\n",
       "max_weight_male         float64\n",
       "max_weight_female       float64\n",
       "min_height_male         float64\n",
       "min_height_female       float64\n",
       "min_weight_male         float64\n",
       "min_weight_female       float64\n",
       "name                     object\n",
       "dtype: object"
      ]
     },
     "metadata": {},
     "output_type": "display_data"
    }
   ],
   "source": [
    "display(data.dtypes)"
   ]
  },
  {
   "cell_type": "markdown",
   "id": "98a04d8f",
   "metadata": {},
   "source": [
    "The team verified that all numerical columns are of type int or float from the output. In addition, there are only two object datatypes: `image_link` and `name`. These two object datatype was expected, given that those columns are strings. Therefore **all data types are correct**.\n",
    "\n",
    "The next step is to check if the dataset has missing values. NaN represents missing values."
   ]
  },
  {
   "cell_type": "code",
   "execution_count": 6,
   "id": "de87cfae",
   "metadata": {
    "ExecuteTime": {
     "end_time": "2022-12-06T09:54:33.715814Z",
     "start_time": "2022-12-06T09:54:33.707605Z"
    }
   },
   "outputs": [
    {
     "data": {
      "text/plain": [
       "image_link              0\n",
       "good_with_children      0\n",
       "good_with_other_dogs    0\n",
       "shedding                0\n",
       "grooming                0\n",
       "drooling                0\n",
       "coat_length             0\n",
       "good_with_strangers     0\n",
       "playfulness             0\n",
       "protectiveness          0\n",
       "trainability            0\n",
       "energy                  0\n",
       "barking                 0\n",
       "min_life_expectancy     0\n",
       "max_life_expectancy     0\n",
       "max_height_male         0\n",
       "max_height_female       0\n",
       "max_weight_male         0\n",
       "max_weight_female       0\n",
       "min_height_male         0\n",
       "min_height_female       0\n",
       "min_weight_male         0\n",
       "min_weight_female       0\n",
       "name                    0\n",
       "dtype: int64"
      ]
     },
     "metadata": {},
     "output_type": "display_data"
    }
   ],
   "source": [
    "display(data.isna().sum())"
   ]
  },
  {
   "cell_type": "markdown",
   "id": "abe099dd",
   "metadata": {},
   "source": [
    "The count of missing values per column is displayed. From this, the team verified that there are **no missing values in the dataset**.\n",
    "\n",
    "The next step is to check for erroneous data (extreme outliers). This step is done by displaying the range of values for each numerical column."
   ]
  },
  {
   "cell_type": "code",
   "execution_count": 7,
   "id": "c2398a1c",
   "metadata": {
    "ExecuteTime": {
     "end_time": "2022-12-06T09:54:33.729459Z",
     "start_time": "2022-12-06T09:54:33.718976Z"
    }
   },
   "outputs": [
    {
     "name": "stdout",
     "output_type": "stream",
     "text": [
      "Column value range:\n",
      "\n",
      "good_with_children has a value range of 1 to 5.\n",
      "good_with_other_dogs has a value range of 1 to 5.\n",
      "shedding has a value range of 1 to 5.\n",
      "grooming has a value range of 0 to 5.\n",
      "drooling has a value range of 0 to 5.\n",
      "coat_length has a value range of 1 to 2.\n",
      "good_with_strangers has a value range of 0 to 5.\n",
      "playfulness has a value range of 0 to 5.\n",
      "protectiveness has a value range of 0 to 5.\n",
      "trainability has a value range of 1 to 5.\n",
      "energy has a value range of 2 to 5.\n",
      "barking has a value range of 1 to 5.\n",
      "min_life_expectancy has a value range of 5.0 to 1214.0.\n",
      "max_life_expectancy has a value range of 7.0 to 1214.0.\n",
      "max_height_male has a value range of 7.0 to 36.0.\n",
      "max_height_female has a value range of 7.0 to 36.0.\n",
      "max_weight_male has a value range of 6.0 to 240.0.\n",
      "max_weight_female has a value range of 6.0 to 240.0.\n",
      "min_height_male has a value range of 5.0 to 32.0.\n",
      "min_height_female has a value range of 5.0 to 32.0.\n",
      "min_weight_male has a value range of 3.0 to 160.0.\n",
      "min_weight_female has a value range of 3.0 to 150.0.\n"
     ]
    }
   ],
   "source": [
    "print(\"Column value range:\\n\")\n",
    "for col_name in data.columns[1:-1]:\n",
    "    print(f\"{col_name} has a value range of {data[col_name].min()} \"\n",
    "          f\"to {data[col_name].max()}.\")"
   ]
  },
  {
   "cell_type": "markdown",
   "id": "8449b386",
   "metadata": {},
   "source": [
    "In the output, the team observed that `min_life_expectancy` and `max_life_expectancy` have erroneous data, a dog with 1214 expected life years. So the team checked the dog's name and searched for the correct value."
   ]
  },
  {
   "cell_type": "code",
   "execution_count": 8,
   "id": "57caf322",
   "metadata": {
    "ExecuteTime": {
     "end_time": "2022-12-06T09:54:33.737615Z",
     "start_time": "2022-12-06T09:54:33.732101Z"
    }
   },
   "outputs": [
    {
     "name": "stdout",
     "output_type": "stream",
     "text": [
      "In the database, Small Munsterlander has minimum life expectancy of 1214.0 and  maximum life expectancy of 1214.0.\n"
     ]
    }
   ],
   "source": [
    "old = data.loc[data['max_life_expectancy'] >= 1214.0, 'name'].index[0]\n",
    "print(f\"In the database, {data.loc[old, 'name']} has minimum life \"\n",
    "      f\"expectancy of {data.loc[old, 'min_life_expectancy']} and \"\n",
    "      f\" maximum life expectancy of {data.loc[old, 'max_life_expectancy']}.\")"
   ]
  },
  {
   "cell_type": "markdown",
   "id": "2232e383",
   "metadata": {},
   "source": [
    "From the website of dogtime.com, *Small Munsterlander* has a `min_life_expectancy` of 12 and `max_life_expectancy` of 14. The error might have been caused by the accidental removal of the hyphen in 12-14 years, resulting in 1214 years. The team corrected this in the dataset. [[5]](https://dogtime.com/dog-breeds/small-munsterlander-pointer#/slide/1)"
   ]
  },
  {
   "cell_type": "code",
   "execution_count": 9,
   "id": "560c5f55",
   "metadata": {
    "ExecuteTime": {
     "end_time": "2022-12-06T09:54:33.749313Z",
     "start_time": "2022-12-06T09:54:33.744323Z"
    }
   },
   "outputs": [],
   "source": [
    "data.loc[old, 'min_life_expectancy'] = 12\n",
    "data.loc[old, 'max_life_expectancy'] = 14"
   ]
  },
  {
   "cell_type": "markdown",
   "id": "7f98f003",
   "metadata": {},
   "source": [
    "The team verified the value range of minimum and maximum life expectancy again."
   ]
  },
  {
   "cell_type": "code",
   "execution_count": 10,
   "id": "d68ab65d",
   "metadata": {
    "ExecuteTime": {
     "end_time": "2022-12-06T09:54:33.756626Z",
     "start_time": "2022-12-06T09:54:33.751781Z"
    }
   },
   "outputs": [
    {
     "name": "stdout",
     "output_type": "stream",
     "text": [
      "Column value range:\n",
      "\n",
      "min_life_expectancy has a value range of 5.0 to 17.0.\n",
      "max_life_expectancy has a value range of 7.0 to 19.0.\n"
     ]
    }
   ],
   "source": [
    "print(\"Column value range:\\n\")\n",
    "for col_name in ['min_life_expectancy', 'max_life_expectancy']:\n",
    "    print(f\"{col_name} has a value range of {data[col_name].min()} \"\n",
    "          f\"to {data[col_name].max()}.\")"
   ]
  },
  {
   "cell_type": "markdown",
   "id": "06d4f1d8",
   "metadata": {},
   "source": [
    "The numerical columns values were now **all cleaned and within the reasonable range**.\n",
    "\n",
    "The last step in data cleaning is to sort the dataframe based on `name` and set it as the index. Shown below is the updated database."
   ]
  },
  {
   "cell_type": "code",
   "execution_count": 11,
   "id": "9e8fb11b",
   "metadata": {
    "ExecuteTime": {
     "end_time": "2022-12-06T09:54:33.793998Z",
     "start_time": "2022-12-06T09:54:33.758898Z"
    }
   },
   "outputs": [
    {
     "data": {
      "text/html": [
       "<div>\n",
       "<style scoped>\n",
       "    .dataframe tbody tr th:only-of-type {\n",
       "        vertical-align: middle;\n",
       "    }\n",
       "\n",
       "    .dataframe tbody tr th {\n",
       "        vertical-align: top;\n",
       "    }\n",
       "\n",
       "    .dataframe thead th {\n",
       "        text-align: right;\n",
       "    }\n",
       "</style>\n",
       "<table border=\"1\" class=\"dataframe\">\n",
       "  <thead>\n",
       "    <tr style=\"text-align: right;\">\n",
       "      <th></th>\n",
       "      <th>image_link</th>\n",
       "      <th>good_with_children</th>\n",
       "      <th>good_with_other_dogs</th>\n",
       "      <th>shedding</th>\n",
       "      <th>grooming</th>\n",
       "      <th>drooling</th>\n",
       "      <th>coat_length</th>\n",
       "      <th>good_with_strangers</th>\n",
       "      <th>playfulness</th>\n",
       "      <th>protectiveness</th>\n",
       "      <th>...</th>\n",
       "      <th>min_life_expectancy</th>\n",
       "      <th>max_life_expectancy</th>\n",
       "      <th>max_height_male</th>\n",
       "      <th>max_height_female</th>\n",
       "      <th>max_weight_male</th>\n",
       "      <th>max_weight_female</th>\n",
       "      <th>min_height_male</th>\n",
       "      <th>min_height_female</th>\n",
       "      <th>min_weight_male</th>\n",
       "      <th>min_weight_female</th>\n",
       "    </tr>\n",
       "    <tr>\n",
       "      <th>name</th>\n",
       "      <th></th>\n",
       "      <th></th>\n",
       "      <th></th>\n",
       "      <th></th>\n",
       "      <th></th>\n",
       "      <th></th>\n",
       "      <th></th>\n",
       "      <th></th>\n",
       "      <th></th>\n",
       "      <th></th>\n",
       "      <th></th>\n",
       "      <th></th>\n",
       "      <th></th>\n",
       "      <th></th>\n",
       "      <th></th>\n",
       "      <th></th>\n",
       "      <th></th>\n",
       "      <th></th>\n",
       "      <th></th>\n",
       "      <th></th>\n",
       "      <th></th>\n",
       "    </tr>\n",
       "  </thead>\n",
       "  <tbody>\n",
       "    <tr>\n",
       "      <th>Afghan Hound</th>\n",
       "      <td>https://api-ninjas.com/images/dogs/afghan_houn...</td>\n",
       "      <td>3</td>\n",
       "      <td>3</td>\n",
       "      <td>1</td>\n",
       "      <td>4</td>\n",
       "      <td>1</td>\n",
       "      <td>1</td>\n",
       "      <td>3</td>\n",
       "      <td>3</td>\n",
       "      <td>3</td>\n",
       "      <td>...</td>\n",
       "      <td>12.0</td>\n",
       "      <td>18.0</td>\n",
       "      <td>27.0</td>\n",
       "      <td>27.0</td>\n",
       "      <td>60.0</td>\n",
       "      <td>60.0</td>\n",
       "      <td>25.0</td>\n",
       "      <td>25.0</td>\n",
       "      <td>50.0</td>\n",
       "      <td>50.0</td>\n",
       "    </tr>\n",
       "    <tr>\n",
       "      <th>Airedale Terrier</th>\n",
       "      <td>https://api-ninjas.com/images/dogs/airedale_te...</td>\n",
       "      <td>3</td>\n",
       "      <td>3</td>\n",
       "      <td>1</td>\n",
       "      <td>3</td>\n",
       "      <td>1</td>\n",
       "      <td>2</td>\n",
       "      <td>3</td>\n",
       "      <td>3</td>\n",
       "      <td>5</td>\n",
       "      <td>...</td>\n",
       "      <td>11.0</td>\n",
       "      <td>14.0</td>\n",
       "      <td>23.0</td>\n",
       "      <td>23.0</td>\n",
       "      <td>70.0</td>\n",
       "      <td>70.0</td>\n",
       "      <td>23.0</td>\n",
       "      <td>23.0</td>\n",
       "      <td>50.0</td>\n",
       "      <td>50.0</td>\n",
       "    </tr>\n",
       "    <tr>\n",
       "      <th>Alaskan Malamute</th>\n",
       "      <td>https://api-ninjas.com/images/dogs/alaskan_mal...</td>\n",
       "      <td>3</td>\n",
       "      <td>3</td>\n",
       "      <td>3</td>\n",
       "      <td>3</td>\n",
       "      <td>1</td>\n",
       "      <td>1</td>\n",
       "      <td>3</td>\n",
       "      <td>3</td>\n",
       "      <td>4</td>\n",
       "      <td>...</td>\n",
       "      <td>10.0</td>\n",
       "      <td>14.0</td>\n",
       "      <td>25.0</td>\n",
       "      <td>25.0</td>\n",
       "      <td>85.0</td>\n",
       "      <td>75.0</td>\n",
       "      <td>25.0</td>\n",
       "      <td>25.0</td>\n",
       "      <td>85.0</td>\n",
       "      <td>75.0</td>\n",
       "    </tr>\n",
       "    <tr>\n",
       "      <th>American Eskimo Dog</th>\n",
       "      <td>https://api-ninjas.com/images/dogs/american_es...</td>\n",
       "      <td>5</td>\n",
       "      <td>3</td>\n",
       "      <td>3</td>\n",
       "      <td>3</td>\n",
       "      <td>1</td>\n",
       "      <td>1</td>\n",
       "      <td>5</td>\n",
       "      <td>3</td>\n",
       "      <td>3</td>\n",
       "      <td>...</td>\n",
       "      <td>13.0</td>\n",
       "      <td>15.0</td>\n",
       "      <td>26.0</td>\n",
       "      <td>26.0</td>\n",
       "      <td>65.0</td>\n",
       "      <td>65.0</td>\n",
       "      <td>24.0</td>\n",
       "      <td>24.0</td>\n",
       "      <td>45.0</td>\n",
       "      <td>45.0</td>\n",
       "    </tr>\n",
       "    <tr>\n",
       "      <th>American Hairless Terrier</th>\n",
       "      <td>https://api-ninjas.com/images/dogs/american_ha...</td>\n",
       "      <td>5</td>\n",
       "      <td>3</td>\n",
       "      <td>1</td>\n",
       "      <td>1</td>\n",
       "      <td>1</td>\n",
       "      <td>1</td>\n",
       "      <td>3</td>\n",
       "      <td>3</td>\n",
       "      <td>3</td>\n",
       "      <td>...</td>\n",
       "      <td>14.0</td>\n",
       "      <td>16.0</td>\n",
       "      <td>16.0</td>\n",
       "      <td>16.0</td>\n",
       "      <td>16.0</td>\n",
       "      <td>16.0</td>\n",
       "      <td>12.0</td>\n",
       "      <td>12.0</td>\n",
       "      <td>12.0</td>\n",
       "      <td>12.0</td>\n",
       "    </tr>\n",
       "    <tr>\n",
       "      <th>...</th>\n",
       "      <td>...</td>\n",
       "      <td>...</td>\n",
       "      <td>...</td>\n",
       "      <td>...</td>\n",
       "      <td>...</td>\n",
       "      <td>...</td>\n",
       "      <td>...</td>\n",
       "      <td>...</td>\n",
       "      <td>...</td>\n",
       "      <td>...</td>\n",
       "      <td>...</td>\n",
       "      <td>...</td>\n",
       "      <td>...</td>\n",
       "      <td>...</td>\n",
       "      <td>...</td>\n",
       "      <td>...</td>\n",
       "      <td>...</td>\n",
       "      <td>...</td>\n",
       "      <td>...</td>\n",
       "      <td>...</td>\n",
       "      <td>...</td>\n",
       "    </tr>\n",
       "    <tr>\n",
       "      <th>West Highland White Terrier</th>\n",
       "      <td>https://api-ninjas.com/images/dogs/west_highla...</td>\n",
       "      <td>5</td>\n",
       "      <td>3</td>\n",
       "      <td>3</td>\n",
       "      <td>3</td>\n",
       "      <td>1</td>\n",
       "      <td>1</td>\n",
       "      <td>4</td>\n",
       "      <td>5</td>\n",
       "      <td>5</td>\n",
       "      <td>...</td>\n",
       "      <td>13.0</td>\n",
       "      <td>15.0</td>\n",
       "      <td>11.0</td>\n",
       "      <td>11.0</td>\n",
       "      <td>20.0</td>\n",
       "      <td>20.0</td>\n",
       "      <td>11.0</td>\n",
       "      <td>11.0</td>\n",
       "      <td>15.0</td>\n",
       "      <td>15.0</td>\n",
       "    </tr>\n",
       "    <tr>\n",
       "      <th>Whippet</th>\n",
       "      <td>https://api-ninjas.com/images/dogs/whippet.jpg</td>\n",
       "      <td>5</td>\n",
       "      <td>5</td>\n",
       "      <td>2</td>\n",
       "      <td>1</td>\n",
       "      <td>1</td>\n",
       "      <td>1</td>\n",
       "      <td>3</td>\n",
       "      <td>4</td>\n",
       "      <td>3</td>\n",
       "      <td>...</td>\n",
       "      <td>12.0</td>\n",
       "      <td>15.0</td>\n",
       "      <td>22.0</td>\n",
       "      <td>22.0</td>\n",
       "      <td>40.0</td>\n",
       "      <td>40.0</td>\n",
       "      <td>19.0</td>\n",
       "      <td>19.0</td>\n",
       "      <td>25.0</td>\n",
       "      <td>25.0</td>\n",
       "    </tr>\n",
       "    <tr>\n",
       "      <th>Wire Fox Terrier</th>\n",
       "      <td>https://api-ninjas.com/images/dogs/wire_fox_te...</td>\n",
       "      <td>5</td>\n",
       "      <td>3</td>\n",
       "      <td>2</td>\n",
       "      <td>3</td>\n",
       "      <td>2</td>\n",
       "      <td>1</td>\n",
       "      <td>5</td>\n",
       "      <td>4</td>\n",
       "      <td>4</td>\n",
       "      <td>...</td>\n",
       "      <td>12.0</td>\n",
       "      <td>15.0</td>\n",
       "      <td>15.5</td>\n",
       "      <td>15.5</td>\n",
       "      <td>18.0</td>\n",
       "      <td>17.0</td>\n",
       "      <td>15.5</td>\n",
       "      <td>15.5</td>\n",
       "      <td>18.0</td>\n",
       "      <td>15.0</td>\n",
       "    </tr>\n",
       "    <tr>\n",
       "      <th>Yakutian Laika</th>\n",
       "      <td>https://api-ninjas.com/images/dogs/yakutian_la...</td>\n",
       "      <td>5</td>\n",
       "      <td>4</td>\n",
       "      <td>4</td>\n",
       "      <td>2</td>\n",
       "      <td>3</td>\n",
       "      <td>1</td>\n",
       "      <td>1</td>\n",
       "      <td>4</td>\n",
       "      <td>5</td>\n",
       "      <td>...</td>\n",
       "      <td>10.0</td>\n",
       "      <td>12.0</td>\n",
       "      <td>23.0</td>\n",
       "      <td>23.0</td>\n",
       "      <td>55.0</td>\n",
       "      <td>55.0</td>\n",
       "      <td>21.0</td>\n",
       "      <td>21.0</td>\n",
       "      <td>40.0</td>\n",
       "      <td>40.0</td>\n",
       "    </tr>\n",
       "    <tr>\n",
       "      <th>Yorkshire Terrier</th>\n",
       "      <td>https://api-ninjas.com/images/dogs/yorkshire_t...</td>\n",
       "      <td>5</td>\n",
       "      <td>3</td>\n",
       "      <td>1</td>\n",
       "      <td>5</td>\n",
       "      <td>1</td>\n",
       "      <td>1</td>\n",
       "      <td>5</td>\n",
       "      <td>4</td>\n",
       "      <td>5</td>\n",
       "      <td>...</td>\n",
       "      <td>11.0</td>\n",
       "      <td>15.0</td>\n",
       "      <td>8.0</td>\n",
       "      <td>8.0</td>\n",
       "      <td>7.0</td>\n",
       "      <td>7.0</td>\n",
       "      <td>7.0</td>\n",
       "      <td>7.0</td>\n",
       "      <td>7.0</td>\n",
       "      <td>7.0</td>\n",
       "    </tr>\n",
       "  </tbody>\n",
       "</table>\n",
       "<p>231 rows × 23 columns</p>\n",
       "</div>"
      ],
      "text/plain": [
       "                                                                    image_link  \\\n",
       "name                                                                             \n",
       "Afghan Hound                 https://api-ninjas.com/images/dogs/afghan_houn...   \n",
       "Airedale Terrier             https://api-ninjas.com/images/dogs/airedale_te...   \n",
       "Alaskan Malamute             https://api-ninjas.com/images/dogs/alaskan_mal...   \n",
       "American Eskimo Dog          https://api-ninjas.com/images/dogs/american_es...   \n",
       "American Hairless Terrier    https://api-ninjas.com/images/dogs/american_ha...   \n",
       "...                                                                        ...   \n",
       "West Highland White Terrier  https://api-ninjas.com/images/dogs/west_highla...   \n",
       "Whippet                         https://api-ninjas.com/images/dogs/whippet.jpg   \n",
       "Wire Fox Terrier             https://api-ninjas.com/images/dogs/wire_fox_te...   \n",
       "Yakutian Laika               https://api-ninjas.com/images/dogs/yakutian_la...   \n",
       "Yorkshire Terrier            https://api-ninjas.com/images/dogs/yorkshire_t...   \n",
       "\n",
       "                             good_with_children  good_with_other_dogs  \\\n",
       "name                                                                    \n",
       "Afghan Hound                                  3                     3   \n",
       "Airedale Terrier                              3                     3   \n",
       "Alaskan Malamute                              3                     3   \n",
       "American Eskimo Dog                           5                     3   \n",
       "American Hairless Terrier                     5                     3   \n",
       "...                                         ...                   ...   \n",
       "West Highland White Terrier                   5                     3   \n",
       "Whippet                                       5                     5   \n",
       "Wire Fox Terrier                              5                     3   \n",
       "Yakutian Laika                                5                     4   \n",
       "Yorkshire Terrier                             5                     3   \n",
       "\n",
       "                             shedding  grooming  drooling  coat_length  \\\n",
       "name                                                                     \n",
       "Afghan Hound                        1         4         1            1   \n",
       "Airedale Terrier                    1         3         1            2   \n",
       "Alaskan Malamute                    3         3         1            1   \n",
       "American Eskimo Dog                 3         3         1            1   \n",
       "American Hairless Terrier           1         1         1            1   \n",
       "...                               ...       ...       ...          ...   \n",
       "West Highland White Terrier         3         3         1            1   \n",
       "Whippet                             2         1         1            1   \n",
       "Wire Fox Terrier                    2         3         2            1   \n",
       "Yakutian Laika                      4         2         3            1   \n",
       "Yorkshire Terrier                   1         5         1            1   \n",
       "\n",
       "                             good_with_strangers  playfulness  protectiveness  \\\n",
       "name                                                                            \n",
       "Afghan Hound                                   3            3               3   \n",
       "Airedale Terrier                               3            3               5   \n",
       "Alaskan Malamute                               3            3               4   \n",
       "American Eskimo Dog                            5            3               3   \n",
       "American Hairless Terrier                      3            3               3   \n",
       "...                                          ...          ...             ...   \n",
       "West Highland White Terrier                    4            5               5   \n",
       "Whippet                                        3            4               3   \n",
       "Wire Fox Terrier                               5            4               4   \n",
       "Yakutian Laika                                 1            4               5   \n",
       "Yorkshire Terrier                              5            4               5   \n",
       "\n",
       "                             ...  min_life_expectancy  max_life_expectancy  \\\n",
       "name                         ...                                             \n",
       "Afghan Hound                 ...                 12.0                 18.0   \n",
       "Airedale Terrier             ...                 11.0                 14.0   \n",
       "Alaskan Malamute             ...                 10.0                 14.0   \n",
       "American Eskimo Dog          ...                 13.0                 15.0   \n",
       "American Hairless Terrier    ...                 14.0                 16.0   \n",
       "...                          ...                  ...                  ...   \n",
       "West Highland White Terrier  ...                 13.0                 15.0   \n",
       "Whippet                      ...                 12.0                 15.0   \n",
       "Wire Fox Terrier             ...                 12.0                 15.0   \n",
       "Yakutian Laika               ...                 10.0                 12.0   \n",
       "Yorkshire Terrier            ...                 11.0                 15.0   \n",
       "\n",
       "                             max_height_male  max_height_female  \\\n",
       "name                                                              \n",
       "Afghan Hound                            27.0               27.0   \n",
       "Airedale Terrier                        23.0               23.0   \n",
       "Alaskan Malamute                        25.0               25.0   \n",
       "American Eskimo Dog                     26.0               26.0   \n",
       "American Hairless Terrier               16.0               16.0   \n",
       "...                                      ...                ...   \n",
       "West Highland White Terrier             11.0               11.0   \n",
       "Whippet                                 22.0               22.0   \n",
       "Wire Fox Terrier                        15.5               15.5   \n",
       "Yakutian Laika                          23.0               23.0   \n",
       "Yorkshire Terrier                        8.0                8.0   \n",
       "\n",
       "                             max_weight_male  max_weight_female  \\\n",
       "name                                                              \n",
       "Afghan Hound                            60.0               60.0   \n",
       "Airedale Terrier                        70.0               70.0   \n",
       "Alaskan Malamute                        85.0               75.0   \n",
       "American Eskimo Dog                     65.0               65.0   \n",
       "American Hairless Terrier               16.0               16.0   \n",
       "...                                      ...                ...   \n",
       "West Highland White Terrier             20.0               20.0   \n",
       "Whippet                                 40.0               40.0   \n",
       "Wire Fox Terrier                        18.0               17.0   \n",
       "Yakutian Laika                          55.0               55.0   \n",
       "Yorkshire Terrier                        7.0                7.0   \n",
       "\n",
       "                             min_height_male  min_height_female  \\\n",
       "name                                                              \n",
       "Afghan Hound                            25.0               25.0   \n",
       "Airedale Terrier                        23.0               23.0   \n",
       "Alaskan Malamute                        25.0               25.0   \n",
       "American Eskimo Dog                     24.0               24.0   \n",
       "American Hairless Terrier               12.0               12.0   \n",
       "...                                      ...                ...   \n",
       "West Highland White Terrier             11.0               11.0   \n",
       "Whippet                                 19.0               19.0   \n",
       "Wire Fox Terrier                        15.5               15.5   \n",
       "Yakutian Laika                          21.0               21.0   \n",
       "Yorkshire Terrier                        7.0                7.0   \n",
       "\n",
       "                             min_weight_male  min_weight_female  \n",
       "name                                                             \n",
       "Afghan Hound                            50.0               50.0  \n",
       "Airedale Terrier                        50.0               50.0  \n",
       "Alaskan Malamute                        85.0               75.0  \n",
       "American Eskimo Dog                     45.0               45.0  \n",
       "American Hairless Terrier               12.0               12.0  \n",
       "...                                      ...                ...  \n",
       "West Highland White Terrier             15.0               15.0  \n",
       "Whippet                                 25.0               25.0  \n",
       "Wire Fox Terrier                        18.0               15.0  \n",
       "Yakutian Laika                          40.0               40.0  \n",
       "Yorkshire Terrier                        7.0                7.0  \n",
       "\n",
       "[231 rows x 23 columns]"
      ]
     },
     "metadata": {},
     "output_type": "display_data"
    }
   ],
   "source": [
    "data = data.sort_values(by='name').set_index('name')\n",
    "display(data)"
   ]
  },
  {
   "cell_type": "markdown",
   "id": "239e3c2c",
   "metadata": {},
   "source": [
    "<h2 style=\"color:#BC7E7E\">Feature Engineering</h2>"
   ]
  },
  {
   "cell_type": "markdown",
   "id": "77beae60",
   "metadata": {},
   "source": [
    "Life expectancy, height, and weight were over-represented in the dataset by having more than one column that described them. To address this, the team created a new column to represent the average of their values.\n",
    "* For life expectancy, the average of the min and max life expectancy was set as a new column called `ave_life_expectancy`.\n",
    "* For height and weight, the average of min and max for both sexes will be set as a new column called `ave_height` and `ave_weight`, respectively."
   ]
  },
  {
   "cell_type": "code",
   "execution_count": 12,
   "id": "cb53d18c",
   "metadata": {
    "ExecuteTime": {
     "end_time": "2022-12-06T09:54:33.805401Z",
     "start_time": "2022-12-06T09:54:33.796949Z"
    }
   },
   "outputs": [],
   "source": [
    "data['ave_life_expectancy'] = (data['min_life_expectancy'] +\n",
    "                               data['max_life_expectancy']) / 2\n",
    "data['ave_height'] = (data['max_height_male'] + data['max_height_female'] +\n",
    "                      data['min_height_male'] + data['min_height_female']) / 4\n",
    "data['ave_weight'] = (data['max_weight_male'] + data['max_weight_female'] +\n",
    "                      data['min_weight_male'] + data['min_weight_female']) / 4"
   ]
  },
  {
   "cell_type": "markdown",
   "id": "d55b3612",
   "metadata": {},
   "source": [
    "These three columns: `ave_life_expectancy`, `ave_height`, and `ave_weight`, represent a measurement that has a scale different from other columns, which has a scale of 1 to 5 (some start at 0). To solve this scaling issue, the team binned these measurements into discrete values of 1 to 5, with 5 being the highest value."
   ]
  },
  {
   "cell_type": "code",
   "execution_count": 13,
   "id": "e7d15311",
   "metadata": {
    "ExecuteTime": {
     "end_time": "2022-12-06T09:54:33.842438Z",
     "start_time": "2022-12-06T09:54:33.807767Z"
    }
   },
   "outputs": [],
   "source": [
    "dog_data = data.copy(deep=True)\n",
    "cols_bin = ['ave_life_expectancy', 'ave_height', 'ave_weight']\n",
    "labels = [1, 2, 3, 4, 5]\n",
    "\n",
    "for col in cols_bin:\n",
    "    boundaries = data[col].value_counts(bins=5, sort=False).index\n",
    "    bins = []\n",
    "    for i, boundary in enumerate(boundaries):\n",
    "        if i == 0:\n",
    "            bins.append(math.floor(boundary.left))\n",
    "        else:\n",
    "            bins.append(round(boundary.left))\n",
    "        if i == 4:\n",
    "            bins.append(math.floor(boundary.right))\n",
    "            \n",
    "    dog_data[col] = pd.cut(x=dog_data[col], bins=bins, labels=labels,\n",
    "                       include_lowest=True)\n",
    "\n",
    "# Change to int datatype\n",
    "dog_data = dog_data.astype({'ave_life_expectancy': 'int', 'ave_height': 'int',\n",
    "                    'ave_weight': 'int'})"
   ]
  },
  {
   "cell_type": "markdown",
   "id": "f91d2adc",
   "metadata": {
    "ExecuteTime": {
     "end_time": "2022-11-30T07:02:37.622307Z",
     "start_time": "2022-11-30T07:02:37.584532Z"
    }
   },
   "source": [
    "Next step is to drop any unnecessary/redundant columns, retaining only our 15 features as described in the Data Description section above."
   ]
  },
  {
   "cell_type": "code",
   "execution_count": 14,
   "id": "d06d901a",
   "metadata": {
    "ExecuteTime": {
     "end_time": "2022-12-06T09:54:33.862879Z",
     "start_time": "2022-12-06T09:54:33.845238Z"
    }
   },
   "outputs": [
    {
     "data": {
      "text/html": [
       "<div>\n",
       "<style scoped>\n",
       "    .dataframe tbody tr th:only-of-type {\n",
       "        vertical-align: middle;\n",
       "    }\n",
       "\n",
       "    .dataframe tbody tr th {\n",
       "        vertical-align: top;\n",
       "    }\n",
       "\n",
       "    .dataframe thead th {\n",
       "        text-align: right;\n",
       "    }\n",
       "</style>\n",
       "<table border=\"1\" class=\"dataframe\">\n",
       "  <thead>\n",
       "    <tr style=\"text-align: right;\">\n",
       "      <th></th>\n",
       "      <th>good_with_children</th>\n",
       "      <th>good_with_other_dogs</th>\n",
       "      <th>shedding</th>\n",
       "      <th>grooming</th>\n",
       "      <th>drooling</th>\n",
       "      <th>coat_length</th>\n",
       "      <th>good_with_strangers</th>\n",
       "      <th>playfulness</th>\n",
       "      <th>protectiveness</th>\n",
       "      <th>trainability</th>\n",
       "      <th>energy</th>\n",
       "      <th>barking</th>\n",
       "      <th>ave_life_expectancy</th>\n",
       "      <th>ave_height</th>\n",
       "      <th>ave_weight</th>\n",
       "    </tr>\n",
       "    <tr>\n",
       "      <th>name</th>\n",
       "      <th></th>\n",
       "      <th></th>\n",
       "      <th></th>\n",
       "      <th></th>\n",
       "      <th></th>\n",
       "      <th></th>\n",
       "      <th></th>\n",
       "      <th></th>\n",
       "      <th></th>\n",
       "      <th></th>\n",
       "      <th></th>\n",
       "      <th></th>\n",
       "      <th></th>\n",
       "      <th></th>\n",
       "      <th></th>\n",
       "    </tr>\n",
       "  </thead>\n",
       "  <tbody>\n",
       "    <tr>\n",
       "      <th>Afghan Hound</th>\n",
       "      <td>3</td>\n",
       "      <td>3</td>\n",
       "      <td>1</td>\n",
       "      <td>4</td>\n",
       "      <td>1</td>\n",
       "      <td>1</td>\n",
       "      <td>3</td>\n",
       "      <td>3</td>\n",
       "      <td>3</td>\n",
       "      <td>1</td>\n",
       "      <td>4</td>\n",
       "      <td>3</td>\n",
       "      <td>4</td>\n",
       "      <td>4</td>\n",
       "      <td>2</td>\n",
       "    </tr>\n",
       "    <tr>\n",
       "      <th>Airedale Terrier</th>\n",
       "      <td>3</td>\n",
       "      <td>3</td>\n",
       "      <td>1</td>\n",
       "      <td>3</td>\n",
       "      <td>1</td>\n",
       "      <td>2</td>\n",
       "      <td>3</td>\n",
       "      <td>3</td>\n",
       "      <td>5</td>\n",
       "      <td>3</td>\n",
       "      <td>3</td>\n",
       "      <td>3</td>\n",
       "      <td>3</td>\n",
       "      <td>4</td>\n",
       "      <td>2</td>\n",
       "    </tr>\n",
       "    <tr>\n",
       "      <th>Alaskan Malamute</th>\n",
       "      <td>3</td>\n",
       "      <td>3</td>\n",
       "      <td>3</td>\n",
       "      <td>3</td>\n",
       "      <td>1</td>\n",
       "      <td>1</td>\n",
       "      <td>3</td>\n",
       "      <td>3</td>\n",
       "      <td>4</td>\n",
       "      <td>5</td>\n",
       "      <td>4</td>\n",
       "      <td>3</td>\n",
       "      <td>3</td>\n",
       "      <td>4</td>\n",
       "      <td>3</td>\n",
       "    </tr>\n",
       "    <tr>\n",
       "      <th>American Eskimo Dog</th>\n",
       "      <td>5</td>\n",
       "      <td>3</td>\n",
       "      <td>3</td>\n",
       "      <td>3</td>\n",
       "      <td>1</td>\n",
       "      <td>1</td>\n",
       "      <td>5</td>\n",
       "      <td>3</td>\n",
       "      <td>3</td>\n",
       "      <td>4</td>\n",
       "      <td>4</td>\n",
       "      <td>3</td>\n",
       "      <td>4</td>\n",
       "      <td>4</td>\n",
       "      <td>2</td>\n",
       "    </tr>\n",
       "    <tr>\n",
       "      <th>American Hairless Terrier</th>\n",
       "      <td>5</td>\n",
       "      <td>3</td>\n",
       "      <td>1</td>\n",
       "      <td>1</td>\n",
       "      <td>1</td>\n",
       "      <td>1</td>\n",
       "      <td>3</td>\n",
       "      <td>3</td>\n",
       "      <td>3</td>\n",
       "      <td>5</td>\n",
       "      <td>3</td>\n",
       "      <td>3</td>\n",
       "      <td>4</td>\n",
       "      <td>2</td>\n",
       "      <td>1</td>\n",
       "    </tr>\n",
       "    <tr>\n",
       "      <th>...</th>\n",
       "      <td>...</td>\n",
       "      <td>...</td>\n",
       "      <td>...</td>\n",
       "      <td>...</td>\n",
       "      <td>...</td>\n",
       "      <td>...</td>\n",
       "      <td>...</td>\n",
       "      <td>...</td>\n",
       "      <td>...</td>\n",
       "      <td>...</td>\n",
       "      <td>...</td>\n",
       "      <td>...</td>\n",
       "      <td>...</td>\n",
       "      <td>...</td>\n",
       "      <td>...</td>\n",
       "    </tr>\n",
       "    <tr>\n",
       "      <th>West Highland White Terrier</th>\n",
       "      <td>5</td>\n",
       "      <td>3</td>\n",
       "      <td>3</td>\n",
       "      <td>3</td>\n",
       "      <td>1</td>\n",
       "      <td>1</td>\n",
       "      <td>4</td>\n",
       "      <td>5</td>\n",
       "      <td>5</td>\n",
       "      <td>3</td>\n",
       "      <td>4</td>\n",
       "      <td>5</td>\n",
       "      <td>4</td>\n",
       "      <td>1</td>\n",
       "      <td>1</td>\n",
       "    </tr>\n",
       "    <tr>\n",
       "      <th>Whippet</th>\n",
       "      <td>5</td>\n",
       "      <td>5</td>\n",
       "      <td>2</td>\n",
       "      <td>1</td>\n",
       "      <td>1</td>\n",
       "      <td>1</td>\n",
       "      <td>3</td>\n",
       "      <td>4</td>\n",
       "      <td>3</td>\n",
       "      <td>3</td>\n",
       "      <td>4</td>\n",
       "      <td>1</td>\n",
       "      <td>4</td>\n",
       "      <td>3</td>\n",
       "      <td>1</td>\n",
       "    </tr>\n",
       "    <tr>\n",
       "      <th>Wire Fox Terrier</th>\n",
       "      <td>5</td>\n",
       "      <td>3</td>\n",
       "      <td>2</td>\n",
       "      <td>3</td>\n",
       "      <td>2</td>\n",
       "      <td>1</td>\n",
       "      <td>5</td>\n",
       "      <td>4</td>\n",
       "      <td>4</td>\n",
       "      <td>4</td>\n",
       "      <td>4</td>\n",
       "      <td>4</td>\n",
       "      <td>4</td>\n",
       "      <td>2</td>\n",
       "      <td>1</td>\n",
       "    </tr>\n",
       "    <tr>\n",
       "      <th>Yakutian Laika</th>\n",
       "      <td>5</td>\n",
       "      <td>4</td>\n",
       "      <td>4</td>\n",
       "      <td>2</td>\n",
       "      <td>3</td>\n",
       "      <td>1</td>\n",
       "      <td>1</td>\n",
       "      <td>4</td>\n",
       "      <td>5</td>\n",
       "      <td>3</td>\n",
       "      <td>5</td>\n",
       "      <td>4</td>\n",
       "      <td>2</td>\n",
       "      <td>3</td>\n",
       "      <td>2</td>\n",
       "    </tr>\n",
       "    <tr>\n",
       "      <th>Yorkshire Terrier</th>\n",
       "      <td>5</td>\n",
       "      <td>3</td>\n",
       "      <td>1</td>\n",
       "      <td>5</td>\n",
       "      <td>1</td>\n",
       "      <td>1</td>\n",
       "      <td>5</td>\n",
       "      <td>4</td>\n",
       "      <td>5</td>\n",
       "      <td>4</td>\n",
       "      <td>4</td>\n",
       "      <td>4</td>\n",
       "      <td>3</td>\n",
       "      <td>1</td>\n",
       "      <td>1</td>\n",
       "    </tr>\n",
       "  </tbody>\n",
       "</table>\n",
       "<p>231 rows × 15 columns</p>\n",
       "</div>"
      ],
      "text/plain": [
       "                             good_with_children  good_with_other_dogs  \\\n",
       "name                                                                    \n",
       "Afghan Hound                                  3                     3   \n",
       "Airedale Terrier                              3                     3   \n",
       "Alaskan Malamute                              3                     3   \n",
       "American Eskimo Dog                           5                     3   \n",
       "American Hairless Terrier                     5                     3   \n",
       "...                                         ...                   ...   \n",
       "West Highland White Terrier                   5                     3   \n",
       "Whippet                                       5                     5   \n",
       "Wire Fox Terrier                              5                     3   \n",
       "Yakutian Laika                                5                     4   \n",
       "Yorkshire Terrier                             5                     3   \n",
       "\n",
       "                             shedding  grooming  drooling  coat_length  \\\n",
       "name                                                                     \n",
       "Afghan Hound                        1         4         1            1   \n",
       "Airedale Terrier                    1         3         1            2   \n",
       "Alaskan Malamute                    3         3         1            1   \n",
       "American Eskimo Dog                 3         3         1            1   \n",
       "American Hairless Terrier           1         1         1            1   \n",
       "...                               ...       ...       ...          ...   \n",
       "West Highland White Terrier         3         3         1            1   \n",
       "Whippet                             2         1         1            1   \n",
       "Wire Fox Terrier                    2         3         2            1   \n",
       "Yakutian Laika                      4         2         3            1   \n",
       "Yorkshire Terrier                   1         5         1            1   \n",
       "\n",
       "                             good_with_strangers  playfulness  protectiveness  \\\n",
       "name                                                                            \n",
       "Afghan Hound                                   3            3               3   \n",
       "Airedale Terrier                               3            3               5   \n",
       "Alaskan Malamute                               3            3               4   \n",
       "American Eskimo Dog                            5            3               3   \n",
       "American Hairless Terrier                      3            3               3   \n",
       "...                                          ...          ...             ...   \n",
       "West Highland White Terrier                    4            5               5   \n",
       "Whippet                                        3            4               3   \n",
       "Wire Fox Terrier                               5            4               4   \n",
       "Yakutian Laika                                 1            4               5   \n",
       "Yorkshire Terrier                              5            4               5   \n",
       "\n",
       "                             trainability  energy  barking  \\\n",
       "name                                                         \n",
       "Afghan Hound                            1       4        3   \n",
       "Airedale Terrier                        3       3        3   \n",
       "Alaskan Malamute                        5       4        3   \n",
       "American Eskimo Dog                     4       4        3   \n",
       "American Hairless Terrier               5       3        3   \n",
       "...                                   ...     ...      ...   \n",
       "West Highland White Terrier             3       4        5   \n",
       "Whippet                                 3       4        1   \n",
       "Wire Fox Terrier                        4       4        4   \n",
       "Yakutian Laika                          3       5        4   \n",
       "Yorkshire Terrier                       4       4        4   \n",
       "\n",
       "                             ave_life_expectancy  ave_height  ave_weight  \n",
       "name                                                                      \n",
       "Afghan Hound                                   4           4           2  \n",
       "Airedale Terrier                               3           4           2  \n",
       "Alaskan Malamute                               3           4           3  \n",
       "American Eskimo Dog                            4           4           2  \n",
       "American Hairless Terrier                      4           2           1  \n",
       "...                                          ...         ...         ...  \n",
       "West Highland White Terrier                    4           1           1  \n",
       "Whippet                                        4           3           1  \n",
       "Wire Fox Terrier                               4           2           1  \n",
       "Yakutian Laika                                 2           3           2  \n",
       "Yorkshire Terrier                              3           1           1  \n",
       "\n",
       "[231 rows x 15 columns]"
      ]
     },
     "metadata": {},
     "output_type": "display_data"
    }
   ],
   "source": [
    "# Drop the unnecessary columns\n",
    "df = dog_data.drop(columns=['image_link', 'min_life_expectancy',\n",
    "                        'max_life_expectancy', 'max_height_male',\n",
    "                        'max_height_female', 'min_height_male',\n",
    "                        'min_height_female', 'max_weight_male',\n",
    "                        'max_weight_female', 'min_weight_male',\n",
    "                        'min_weight_female'])\n",
    "display(df)"
   ]
  },
  {
   "cell_type": "code",
   "execution_count": 15,
   "id": "38e33c2e",
   "metadata": {
    "ExecuteTime": {
     "end_time": "2022-12-06T09:54:33.869926Z",
     "start_time": "2022-12-06T09:54:33.865148Z"
    }
   },
   "outputs": [],
   "source": [
    "# Set up of other necessary variables\n",
    "# Equivalent numpy of our dataframe.\n",
    "X = df.to_numpy()\n",
    "\n",
    "# Array of features\n",
    "feature_arr = np.array(list(df.columns))\n",
    "\n",
    "# List of string format features (english equivalent of column names)\n",
    "feature_str = ['Good with Children', 'Good with Other Dogs', 'Shedding',\n",
    "               'Grooming', 'Drooling', 'Coat Length', 'Good with Strangers',\n",
    "               'Playfulness', 'Protectiveness', 'Trainability', 'Energy',\n",
    "               'Barking', 'Average Life Expectancy', 'Average Height',\n",
    "               'Average Weight']\n",
    "\n",
    "# Array of dogs\n",
    "dog_arr = np.array(list(df.index))"
   ]
  },
  {
   "cell_type": "code",
   "execution_count": 16,
   "id": "25c89eee",
   "metadata": {
    "ExecuteTime": {
     "end_time": "2022-12-06T09:54:33.876482Z",
     "start_time": "2022-12-06T09:54:33.872438Z"
    }
   },
   "outputs": [],
   "source": [
    "# Figure caption\n",
    "fig_num = 1\n",
    "def fig_caption(title, caption):\n",
    "    \"\"\"Print figure caption on jupyter notebook\"\"\"\n",
    "    global fig_num\n",
    "    display(HTML(f\"\"\"<p style=\"font-size:11px;font-style:default;\"><b>\n",
    "                     Figure {fig_num}. {title}.</b><br>{caption}</p>\"\"\"))\n",
    "    fig_num += 1"
   ]
  },
  {
   "cell_type": "markdown",
   "id": "4f530187",
   "metadata": {},
   "source": [
    "<h2 style=\"color:#BC7E7E\">Exploratory Data Analysis</h2>"
   ]
  },
  {
   "cell_type": "markdown",
   "id": "0dface73",
   "metadata": {},
   "source": [
    "According to American Kennel Club these 15 features can be grouped together into 4 categories. Shown below are the category of each feature. [2]\n",
    "\n",
    "* Social\n",
    "    * Playfulness\n",
    "    * Good with Other Dogs\n",
    "    * Good with Stangers\n",
    "    * Good with Children\n",
    "* Personality\n",
    "    * Energy\n",
    "    * Barking\n",
    "    * Trainability\n",
    "    * Protectiveness\n",
    "* Physical\n",
    "    * Shedding\n",
    "    * Grooming\n",
    "    * Coat Length\n",
    "    * Drooling\n",
    "* Size and Life\n",
    "    * Life Expectancy\n",
    "    * Heigth\n",
    "    * Length\n",
    "\n",
    "The following plots shows the distributions of dogs according to each of those 15 features."
   ]
  },
  {
   "cell_type": "markdown",
   "id": "3c6b17d2",
   "metadata": {},
   "source": [
    "<h3 style=\"color:#AB8F8F\">Social</h3>"
   ]
  },
  {
   "cell_type": "code",
   "execution_count": 17,
   "id": "e815aca8",
   "metadata": {
    "ExecuteTime": {
     "end_time": "2022-12-06T09:54:34.483752Z",
     "start_time": "2022-12-06T09:54:33.878880Z"
    }
   },
   "outputs": [
    {
     "name": "stdout",
     "output_type": "stream",
     "text": [
      "\n",
      "\n",
      "\n"
     ]
    },
    {
     "data": {
      "image/png": "[encoded data removed]",
      "text/plain": [
       "<Figure size 576x360 with 1 Axes>"
      ]
     },
     "metadata": {
      "needs_background": "light"
     },
     "output_type": "display_data"
    },
    {
     "data": {
      "text/html": [
       "<p style=\"font-size:11px;font-style:default;\"><b>\n",
       "                     Figure 1. Distribution of Dogs with Good with Children scale.</b><br></p>"
      ],
      "text/plain": [
       "<IPython.core.display.HTML object>"
      ]
     },
     "metadata": {},
     "output_type": "display_data"
    },
    {
     "name": "stdout",
     "output_type": "stream",
     "text": [
      "\n",
      "\n",
      "\n"
     ]
    },
    {
     "data": {
      "image/png": "[encoded data removed]",
      "text/plain": [
       "<Figure size 576x360 with 1 Axes>"
      ]
     },
     "metadata": {
      "needs_background": "light"
     },
     "output_type": "display_data"
    },
    {
     "data": {
      "text/html": [
       "<p style=\"font-size:11px;font-style:default;\"><b>\n",
       "                     Figure 2. Distribution of Dogs with Good with Other Dogs scale.</b><br></p>"
      ],
      "text/plain": [
       "<IPython.core.display.HTML object>"
      ]
     },
     "metadata": {},
     "output_type": "display_data"
    },
    {
     "name": "stdout",
     "output_type": "stream",
     "text": [
      "\n",
      "\n",
      "\n"
     ]
    },
    {
     "data": {
      "image/png": "[encoded data removed]",
      "text/plain": [
       "<Figure size 576x360 with 1 Axes>"
      ]
     },
     "metadata": {
      "needs_background": "light"
     },
     "output_type": "display_data"
    },
    {
     "data": {
      "text/html": [
       "<p style=\"font-size:11px;font-style:default;\"><b>\n",
       "                     Figure 3. Distribution of Dogs with Good with Strangers scale.</b><br></p>"
      ],
      "text/plain": [
       "<IPython.core.display.HTML object>"
      ]
     },
     "metadata": {},
     "output_type": "display_data"
    },
    {
     "name": "stdout",
     "output_type": "stream",
     "text": [
      "\n",
      "\n",
      "\n"
     ]
    },
    {
     "data": {
      "image/png": "[encoded data removed]",
      "text/plain": [
       "<Figure size 576x360 with 1 Axes>"
      ]
     },
     "metadata": {
      "needs_background": "light"
     },
     "output_type": "display_data"
    },
    {
     "data": {
      "text/html": [
       "<p style=\"font-size:11px;font-style:default;\"><b>\n",
       "                     Figure 4. Distribution of Dogs with Playfulness scale.</b><br></p>"
      ],
      "text/plain": [
       "<IPython.core.display.HTML object>"
      ]
     },
     "metadata": {},
     "output_type": "display_data"
    }
   ],
   "source": [
    "cols_index = [0, 1, 6, 7]\n",
    "for col in cols_index:\n",
    "    sub_df = df[feature_arr[col]].value_counts().sort_index()\n",
    "    fig, ax = plt.subplots(figsize=(8, 5))\n",
    "    ax.bar(sub_df.index, sub_df.values, color=\"#DA5F70\")\n",
    "    print('\\n\\n')\n",
    "    ax.set_xlabel(f\"{feature_str[col]} scale\")\n",
    "    ax.set_ylabel('Dog Count')\n",
    "    ax.set_title(f'Distribution of Dogs with {feature_str[col]} scale')\n",
    "    ax.xaxis.set_major_locator(MaxNLocator(integer=True))\n",
    "    plt.show()\n",
    "    fig_caption(f'Distribution of Dogs with {feature_str[col]} scale', '')"
   ]
  },
  {
   "cell_type": "markdown",
   "id": "522e92a0",
   "metadata": {},
   "source": [
    "**Insights:**\n",
    "* On the four features for social traits, most dogs are classified as middle value.\n",
    "* There are few dogs that are socially not good with strangers, other dogs, and children."
   ]
  },
  {
   "cell_type": "markdown",
   "id": "a268adf1",
   "metadata": {},
   "source": [
    "<h3 style=\"color:#AB8F8F\">Personality</h3>"
   ]
  },
  {
   "cell_type": "code",
   "execution_count": 18,
   "id": "e35f7e52",
   "metadata": {
    "ExecuteTime": {
     "end_time": "2022-12-06T09:54:34.923201Z",
     "start_time": "2022-12-06T09:54:34.486604Z"
    }
   },
   "outputs": [
    {
     "name": "stdout",
     "output_type": "stream",
     "text": [
      "\n",
      "\n",
      "\n"
     ]
    },
    {
     "data": {
      "image/png": "[encoded data removed]",
      "text/plain": [
       "<Figure size 576x360 with 1 Axes>"
      ]
     },
     "metadata": {
      "needs_background": "light"
     },
     "output_type": "display_data"
    },
    {
     "data": {
      "text/html": [
       "<p style=\"font-size:11px;font-style:default;\"><b>\n",
       "                     Figure 5. Distribution of Dogs with Protectiveness scale.</b><br></p>"
      ],
      "text/plain": [
       "<IPython.core.display.HTML object>"
      ]
     },
     "metadata": {},
     "output_type": "display_data"
    },
    {
     "name": "stdout",
     "output_type": "stream",
     "text": [
      "\n",
      "\n",
      "\n"
     ]
    },
    {
     "data": {
      "image/png": "[encoded data removed]",
      "text/plain": [
       "<Figure size 576x360 with 1 Axes>"
      ]
     },
     "metadata": {
      "needs_background": "light"
     },
     "output_type": "display_data"
    },
    {
     "data": {
      "text/html": [
       "<p style=\"font-size:11px;font-style:default;\"><b>\n",
       "                     Figure 6. Distribution of Dogs with Trainability scale.</b><br></p>"
      ],
      "text/plain": [
       "<IPython.core.display.HTML object>"
      ]
     },
     "metadata": {},
     "output_type": "display_data"
    },
    {
     "name": "stdout",
     "output_type": "stream",
     "text": [
      "\n",
      "\n",
      "\n"
     ]
    },
    {
     "data": {
      "image/png": "[encoded data removed]",
      "text/plain": [
       "<Figure size 576x360 with 1 Axes>"
      ]
     },
     "metadata": {
      "needs_background": "light"
     },
     "output_type": "display_data"
    },
    {
     "data": {
      "text/html": [
       "<p style=\"font-size:11px;font-style:default;\"><b>\n",
       "                     Figure 7. Distribution of Dogs with Energy scale.</b><br></p>"
      ],
      "text/plain": [
       "<IPython.core.display.HTML object>"
      ]
     },
     "metadata": {},
     "output_type": "display_data"
    },
    {
     "name": "stdout",
     "output_type": "stream",
     "text": [
      "\n",
      "\n",
      "\n"
     ]
    },
    {
     "data": {
      "image/png": "[encoded data removed]",
      "text/plain": [
       "<Figure size 576x360 with 1 Axes>"
      ]
     },
     "metadata": {
      "needs_background": "light"
     },
     "output_type": "display_data"
    },
    {
     "data": {
      "text/html": [
       "<p style=\"font-size:11px;font-style:default;\"><b>\n",
       "                     Figure 8. Distribution of Dogs with Barking scale.</b><br></p>"
      ],
      "text/plain": [
       "<IPython.core.display.HTML object>"
      ]
     },
     "metadata": {},
     "output_type": "display_data"
    }
   ],
   "source": [
    "cols_index = [8, 9, 10, 11]\n",
    "for col in cols_index:\n",
    "    sub_df = df[feature_arr[col]].value_counts().sort_index()\n",
    "    fig, ax = plt.subplots(figsize=(8, 5))\n",
    "    ax.bar(sub_df.index, sub_df.values, color=\"#DA5F70\")\n",
    "    print('\\n\\n')\n",
    "    ax.set_xlabel(f\"{feature_str[col]} scale\")\n",
    "    ax.set_ylabel('Dog Count')\n",
    "    ax.set_title(f'Distribution of Dogs with {feature_str[col]} scale')\n",
    "    ax.xaxis.set_major_locator(MaxNLocator(integer=True))\n",
    "    plt.show()\n",
    "    fig_caption(f'Distribution of Dogs with {feature_str[col]} scale', '')"
   ]
  },
  {
   "cell_type": "markdown",
   "id": "5c996442",
   "metadata": {},
   "source": [
    "**Insights:**\n",
    "* Most dogs have protective nature.\n",
    "* There are about 57 very trainable dogs.\n",
    "* Most dogs have middle value of energy. There are five dogs who are the lowest in this scale. Upon further exploration these are: `Basset Hound`, `Broholmer`, `Neapolitan Mastiff`, `Perro de Presa Canario`, and `Pyrenean Mastiff`. \n",
    "* Most dogs have middle value of barking with almost balance count on both extremes."
   ]
  },
  {
   "cell_type": "markdown",
   "id": "4388044a",
   "metadata": {},
   "source": [
    "<h3 style=\"color:#AB8F8F\">Physical</h3>"
   ]
  },
  {
   "cell_type": "code",
   "execution_count": 19,
   "id": "5f673417",
   "metadata": {
    "ExecuteTime": {
     "end_time": "2022-12-06T09:54:35.499842Z",
     "start_time": "2022-12-06T09:54:34.927113Z"
    }
   },
   "outputs": [
    {
     "name": "stdout",
     "output_type": "stream",
     "text": [
      "\n",
      "\n",
      "\n"
     ]
    },
    {
     "data": {
      "image/png": "[encoded data removed]",
      "text/plain": [
       "<Figure size 576x360 with 1 Axes>"
      ]
     },
     "metadata": {
      "needs_background": "light"
     },
     "output_type": "display_data"
    },
    {
     "data": {
      "text/html": [
       "<p style=\"font-size:11px;font-style:default;\"><b>\n",
       "                     Figure 9. Distribution of Dogs with Shedding scale.</b><br></p>"
      ],
      "text/plain": [
       "<IPython.core.display.HTML object>"
      ]
     },
     "metadata": {},
     "output_type": "display_data"
    },
    {
     "name": "stdout",
     "output_type": "stream",
     "text": [
      "\n",
      "\n",
      "\n"
     ]
    },
    {
     "data": {
      "image/png": "[encoded data removed]",
      "text/plain": [
       "<Figure size 576x360 with 1 Axes>"
      ]
     },
     "metadata": {
      "needs_background": "light"
     },
     "output_type": "display_data"
    },
    {
     "data": {
      "text/html": [
       "<p style=\"font-size:11px;font-style:default;\"><b>\n",
       "                     Figure 10. Distribution of Dogs with Grooming scale.</b><br></p>"
      ],
      "text/plain": [
       "<IPython.core.display.HTML object>"
      ]
     },
     "metadata": {},
     "output_type": "display_data"
    },
    {
     "name": "stdout",
     "output_type": "stream",
     "text": [
      "\n",
      "\n",
      "\n"
     ]
    },
    {
     "data": {
      "image/png": "[encoded data removed]",
      "text/plain": [
       "<Figure size 576x360 with 1 Axes>"
      ]
     },
     "metadata": {
      "needs_background": "light"
     },
     "output_type": "display_data"
    },
    {
     "data": {
      "text/html": [
       "<p style=\"font-size:11px;font-style:default;\"><b>\n",
       "                     Figure 11. Distribution of Dogs with Drooling scale.</b><br></p>"
      ],
      "text/plain": [
       "<IPython.core.display.HTML object>"
      ]
     },
     "metadata": {},
     "output_type": "display_data"
    },
    {
     "name": "stdout",
     "output_type": "stream",
     "text": [
      "\n",
      "\n",
      "\n"
     ]
    },
    {
     "data": {
      "image/png": "[encoded data removed]",
      "text/plain": [
       "<Figure size 576x360 with 1 Axes>"
      ]
     },
     "metadata": {
      "needs_background": "light"
     },
     "output_type": "display_data"
    },
    {
     "data": {
      "text/html": [
       "<p style=\"font-size:11px;font-style:default;\"><b>\n",
       "                     Figure 12. Distribution of Dogs with Coat Length scale.</b><br></p>"
      ],
      "text/plain": [
       "<IPython.core.display.HTML object>"
      ]
     },
     "metadata": {},
     "output_type": "display_data"
    }
   ],
   "source": [
    "cols_index = [2, 3, 4, 5]\n",
    "for col in cols_index:\n",
    "    sub_df = df[feature_arr[col]].value_counts().sort_index()\n",
    "    fig, ax = plt.subplots(figsize=(8, 5))\n",
    "    ax.bar(sub_df.index, sub_df.values, color=\"#DA5F70\")\n",
    "    print('\\n\\n')\n",
    "    ax.set_xlabel(f\"{feature_str[col]} scale\")\n",
    "    ax.set_ylabel('Dog Count')\n",
    "    ax.set_title(f'Distribution of Dogs with {feature_str[col]} scale')\n",
    "    ax.xaxis.set_major_locator(MaxNLocator(integer=True))\n",
    "    plt.show()\n",
    "    fig_caption(f'Distribution of Dogs with {feature_str[col]} scale', '')"
   ]
  },
  {
   "cell_type": "markdown",
   "id": "43bb1f6e",
   "metadata": {},
   "source": [
    "**Insights:**\n",
    "* Most dogs have middle value in shedding. Very few have high shedding value these are: `Bernese Mountain Dog`, and `Czechoslovakian Vlcak`.\n",
    "* Most dogs requires less grooming. Very few requires high maintenance in grooming these are: `Bichon Frise`, and `Yorkshire Terrier`.\n",
    "* Most dogs drool less. Very few are the dogs that are always drooling, these are: `Bloodhound`, `Dogue de Bordeaux`, `Neapolitan Mastiff`, `Newfoundland`, `Pyrenean Mastiff`, `Saint Bernard`, and `Spanish Mastiff`.\n",
    "* Almost all dogs have coat length 1. Very few dogs have coat length 2, these are: `Airedale Terrier`, `Barbet`, `Black Russian Terrier`, `Brussels Griffon`, `Chihuahua`, `Chinese Crested`, `Collie`, `Dachshund`, and `English Cocker Spaniel`."
   ]
  },
  {
   "cell_type": "markdown",
   "id": "c7022391",
   "metadata": {},
   "source": [
    "<h3 style=\"color:#AB8F8F\">Size and Life</h3>"
   ]
  },
  {
   "cell_type": "code",
   "execution_count": 20,
   "id": "9258666e",
   "metadata": {
    "ExecuteTime": {
     "end_time": "2022-12-06T09:54:35.858399Z",
     "start_time": "2022-12-06T09:54:35.502271Z"
    }
   },
   "outputs": [
    {
     "name": "stdout",
     "output_type": "stream",
     "text": [
      "\n",
      "\n",
      "\n"
     ]
    },
    {
     "data": {
      "image/png": "[encoded data removed]",
      "text/plain": [
       "<Figure size 576x360 with 1 Axes>"
      ]
     },
     "metadata": {
      "needs_background": "light"
     },
     "output_type": "display_data"
    },
    {
     "data": {
      "text/html": [
       "<p style=\"font-size:11px;font-style:default;\"><b>\n",
       "                     Figure 13. Distribution of Dogs with Average Life Expectancy scale.</b><br></p>"
      ],
      "text/plain": [
       "<IPython.core.display.HTML object>"
      ]
     },
     "metadata": {},
     "output_type": "display_data"
    },
    {
     "name": "stdout",
     "output_type": "stream",
     "text": [
      "\n",
      "\n",
      "\n"
     ]
    },
    {
     "data": {
      "image/png": "[encoded data removed]",
      "text/plain": [
       "<Figure size 576x360 with 1 Axes>"
      ]
     },
     "metadata": {
      "needs_background": "light"
     },
     "output_type": "display_data"
    },
    {
     "data": {
      "text/html": [
       "<p style=\"font-size:11px;font-style:default;\"><b>\n",
       "                     Figure 14. Distribution of Dogs with Average Height scale.</b><br></p>"
      ],
      "text/plain": [
       "<IPython.core.display.HTML object>"
      ]
     },
     "metadata": {},
     "output_type": "display_data"
    },
    {
     "name": "stdout",
     "output_type": "stream",
     "text": [
      "\n",
      "\n",
      "\n"
     ]
    },
    {
     "data": {
      "image/png": "[encoded data removed]",
      "text/plain": [
       "<Figure size 576x360 with 1 Axes>"
      ]
     },
     "metadata": {
      "needs_background": "light"
     },
     "output_type": "display_data"
    },
    {
     "data": {
      "text/html": [
       "<p style=\"font-size:11px;font-style:default;\"><b>\n",
       "                     Figure 15. Distribution of Dogs with Average Weight scale.</b><br></p>"
      ],
      "text/plain": [
       "<IPython.core.display.HTML object>"
      ]
     },
     "metadata": {},
     "output_type": "display_data"
    }
   ],
   "source": [
    "cols_index = [12, 13, 14]\n",
    "for col in cols_index:\n",
    "    sub_df = df[feature_arr[col]].value_counts().sort_index()\n",
    "    fig, ax = plt.subplots(figsize=(8, 5))\n",
    "    ax.bar(sub_df.index, sub_df.values, color=\"#DA5F70\")\n",
    "    print('\\n\\n')\n",
    "    ax.set_xlabel(f\"{feature_str[col]} scale\")\n",
    "    ax.set_ylabel('Dog Count')\n",
    "    ax.set_title(f'Distribution of Dogs with {feature_str[col]} scale')\n",
    "    ax.xaxis.set_major_locator(MaxNLocator(integer=True))\n",
    "    plt.show()\n",
    "    fig_caption(f'Distribution of Dogs with {feature_str[col]} scale', '')"
   ]
  },
  {
   "cell_type": "markdown",
   "id": "8da8bd31",
   "metadata": {},
   "source": [
    "**Insights:**\n",
    "* The `ave_life_expectancy` scale of dogs are mostly on 3 and 4.\n",
    "* The most common `ave_height` scale of dogs is 4 while the least common is 5. There are only few breeds of dogs which are the tallest on the the `ave_height` scale.\n",
    "* The `ave_weight` scale of dogs are mostly on 1 and 2. There are only few breeds of dogs which are the heaviest on the the `ave_weight` scale."
   ]
  },
  {
   "cell_type": "markdown",
   "id": "80111be3",
   "metadata": {},
   "source": [
    "<h3 style=\"color:#AB8F8F\">Features Correlation Heatmap</h3>"
   ]
  },
  {
   "cell_type": "markdown",
   "id": "18893743",
   "metadata": {},
   "source": [
    "The team looked into the correlations to determine the relationships between features. Shown below is the correlation heatmap of the dataset."
   ]
  },
  {
   "cell_type": "code",
   "execution_count": 21,
   "id": "36fb30ee",
   "metadata": {
    "ExecuteTime": {
     "end_time": "2022-12-06T09:54:36.603241Z",
     "start_time": "2022-12-06T09:54:35.860655Z"
    }
   },
   "outputs": [
    {
     "data": {
      "image/png": "[encoded data removed]",
      "text/plain": [
       "<Figure size 1296x648 with 2 Axes>"
      ]
     },
     "metadata": {
      "needs_background": "light"
     },
     "output_type": "display_data"
    },
    {
     "data": {
      "text/html": [
       "<p style=\"font-size:11px;font-style:default;\"><b>\n",
       "                     Figure 16. Correlation Heatmap of Features.</b><br></p>"
      ],
      "text/plain": [
       "<IPython.core.display.HTML object>"
      ]
     },
     "metadata": {},
     "output_type": "display_data"
    }
   ],
   "source": [
    "corr = df.corr()\n",
    "mask = np.triu(np.ones_like(corr))\n",
    "fig, ax = plt.subplots(figsize=(18, 9))\n",
    "ax = sns.heatmap(corr, annot=True, center=0, cmap='coolwarm_r', mask=mask,\n",
    "                 yticklabels=feature_str, xticklabels=feature_str)\n",
    "ax.tick_params(axis='y')\n",
    "ax.tick_params(axis='x', labelrotation=45)\n",
    "plt.show()\n",
    "fig_caption(f'Correlation Heatmap of Features', '')"
   ]
  },
  {
   "cell_type": "markdown",
   "id": "c583612c",
   "metadata": {},
   "source": [
    "**Insights:**\n",
    "* Average height strongly correlated with average weight. These are eminent on breeds such as Neapolitan Mastiff, Newfoundland, and Pyrenean Mastiff.\n",
    "* Dogs that are playful are generally also good with strangers. Dogs that are good with other dogs are good with kids as well. \n",
    "* Some features are negatively correlated such as protectiveness and good with other dogs, as protective dogs that guard their owners well are not receptive with other dogs.\n",
    "* Heavy dogs tend to have lower life expectancies as well. One reason for this is that larger dogs die earlier because they age significantly faster compared to smaller dogs."
   ]
  },
  {
   "cell_type": "markdown",
   "id": "873f06a5",
   "metadata": {},
   "source": [
    "<h3 style=\"color:#AB8F8F\">Height and Weight Relationship Plot</h3>"
   ]
  },
  {
   "cell_type": "markdown",
   "id": "e2c9e94e",
   "metadata": {},
   "source": [
    "The team looked into the specific relationship of height and weight."
   ]
  },
  {
   "cell_type": "code",
   "execution_count": 22,
   "id": "dfbcd010",
   "metadata": {
    "ExecuteTime": {
     "end_time": "2022-12-06T09:54:37.159264Z",
     "start_time": "2022-12-06T09:54:36.606914Z"
    }
   },
   "outputs": [
    {
     "data": {
      "image/png": "[encoded data removed]",
      "text/plain": [
       "<Figure size 864x432 with 1 Axes>"
      ]
     },
     "metadata": {
      "needs_background": "light"
     },
     "output_type": "display_data"
    }
   ],
   "source": [
    "# Height vs Weight (Positive Correlation)\n",
    "fig, ax = plt.subplots(figsize=(12, 6))\n",
    "ax = sns.regplot(x=data['ave_weight'], y=data['ave_height'], color=\"#DA5F70\")\n",
    "ax.set_title('Height vs Weight Scatter Diagram')\n",
    "ax.set_xlabel('Average Weight')\n",
    "ax.set_ylabel('Average Height')\n",
    "plt.show()"
   ]
  },
  {
   "cell_type": "markdown",
   "id": "207e93cb",
   "metadata": {},
   "source": [
    "**Insight:**\n",
    "* There is a  linear relationship between the variables ( Average weight against average height)\n",
    "* It can be seen that some dogs have heaver weight but have the same height with dogs with lighter weight, since we are only getting the height of dogs and didn't include their width/length."
   ]
  },
  {
   "cell_type": "markdown",
   "id": "f32d225f",
   "metadata": {},
   "source": [
    "<h1 style=\"color:#DA5F70\">Results and Discussion</h1>"
   ]
  },
  {
   "cell_type": "markdown",
   "id": "fa200a52",
   "metadata": {},
   "source": [
    "<h2 style=\"color:#BC7E7E\">Dimensionality Reduction</h2>"
   ]
  },
  {
   "cell_type": "markdown",
   "id": "f516daec",
   "metadata": {},
   "source": [
    "<h3 style=\"color:#AB8F8F\">Principal Component Analysis (PCA)</h3>"
   ]
  },
  {
   "cell_type": "markdown",
   "id": "d6369500",
   "metadata": {},
   "source": [
    "The team used Principal Component Analysis or PCA to determine the top features that defines most of the variance. `sklearn PCA` method was used."
   ]
  },
  {
   "cell_type": "code",
   "execution_count": 23,
   "id": "e5799ca1",
   "metadata": {
    "ExecuteTime": {
     "end_time": "2022-12-06T09:54:37.167625Z",
     "start_time": "2022-12-06T09:54:37.161577Z"
    }
   },
   "outputs": [],
   "source": [
    "# PCA\n",
    "pca = PCA()\n",
    "X_center = (X - X.mean(axis=0)) / X.std(axis=0)\n",
    "pca.fit_transform(X_center)\n",
    "var_exp = pca.explained_variance_ratio_\n",
    "w = pca.components_\n",
    "X_new = np.dot(X_center, w)"
   ]
  },
  {
   "cell_type": "markdown",
   "id": "231dc101",
   "metadata": {},
   "source": [
    "The team determined the minimum value of principal components (PCs) to achieved 80% cumulative variance explained. Shown below are the plot for the variance explained ratio and its cumulative."
   ]
  },
  {
   "cell_type": "code",
   "execution_count": 24,
   "id": "77582e6f",
   "metadata": {
    "ExecuteTime": {
     "end_time": "2022-12-06T09:54:37.321982Z",
     "start_time": "2022-12-06T09:54:37.169827Z"
    }
   },
   "outputs": [
    {
     "data": {
      "image/png": "[encoded data removed]",
      "text/plain": [
       "<Figure size 576x360 with 1 Axes>"
      ]
     },
     "metadata": {
      "needs_background": "light"
     },
     "output_type": "display_data"
    },
    {
     "data": {
      "text/html": [
       "<p style=\"font-size:11px;font-style:default;\"><b>\n",
       "                     Figure 17. Variance Explained and Cumulative Variance Explained of PCs.</b><br></p>"
      ],
      "text/plain": [
       "<IPython.core.display.HTML object>"
      ]
     },
     "metadata": {},
     "output_type": "display_data"
    }
   ],
   "source": [
    "# Plot of variance explained and Cummulative Variance Explained\n",
    "fig, ax = plt.subplots(figsize=(8, 5))\n",
    "ax.plot(range(1, len(var_exp)+1), var_exp.cumsum(), 'o-', label='cumulative')\n",
    "ax.plot(range(1, len(var_exp)+1), var_exp, 'o-', label='individual')\n",
    "\n",
    "ax.set_ylim(0, 1.05)\n",
    "ax.axhline(0.8, ls='--', color='#DA5F70')\n",
    "ax.axvline(8, ls='--', color='#DA5F70')\n",
    "ax.set_xlabel('Principal Component')\n",
    "ax.set_ylabel('Variance Explained')\n",
    "ax.set_title('Variance Explained and Cumulative Variance Explained of PCs')\n",
    "ax.legend()\n",
    "plt.show()\n",
    "fig_caption('Variance Explained and Cumulative Variance Explained of PCs', '')"
   ]
  },
  {
   "cell_type": "code",
   "execution_count": 25,
   "id": "2429aab4",
   "metadata": {
    "ExecuteTime": {
     "end_time": "2022-12-06T09:54:37.330438Z",
     "start_time": "2022-12-06T09:54:37.324343Z"
    }
   },
   "outputs": [
    {
     "name": "stdout",
     "output_type": "stream",
     "text": [
      "The minimum PCs to achieve at least 80% cummulative variance explained is 8.\n"
     ]
    }
   ],
   "source": [
    "min_pcs = np.argmax(var_exp.cumsum() >= 0.80) + 1\n",
    "print(f\"The minimum PCs to achieve at least 80% cummulative variance explained is \"\n",
    "      f\"{min_pcs}.\")"
   ]
  },
  {
   "cell_type": "markdown",
   "id": "c195a91e",
   "metadata": {},
   "source": [
    "The team plotted the transformed original features onto the first two PCs."
   ]
  },
  {
   "cell_type": "code",
   "execution_count": 26,
   "id": "f6c8a539",
   "metadata": {
    "ExecuteTime": {
     "end_time": "2022-12-06T09:54:37.539266Z",
     "start_time": "2022-12-06T09:54:37.332483Z"
    }
   },
   "outputs": [
    {
     "data": {
      "image/png": "[encoded data removed]",
      "text/plain": [
       "<Figure size 720x720 with 1 Axes>"
      ]
     },
     "metadata": {
      "needs_background": "light"
     },
     "output_type": "display_data"
    },
    {
     "data": {
      "text/html": [
       "<p style=\"font-size:11px;font-style:default;\"><b>\n",
       "                     Figure 18. Dogs Dataset on PC1 and PC2 axis.</b><br></p>"
      ],
      "text/plain": [
       "<IPython.core.display.HTML object>"
      ]
     },
     "metadata": {},
     "output_type": "display_data"
    }
   ],
   "source": [
    "# Plot the transformed data on the first 2 PCs w/ transformed features\n",
    "fig, ax = plt.subplots(1, 1, subplot_kw=dict(aspect='equal'), figsize=(10, 10))\n",
    "ax.scatter(X_new[:,0], X_new[:,1])\n",
    "for feature, vec in zip(feature_arr, w):\n",
    "    ax.arrow(0, 0, 5*vec[0], 5*vec[1], width=0.02, ec='none', fc='r')\n",
    "    ax.text(5.5*vec[0], 5.5*vec[1], feature, ha='center', color='r', size=10)\n",
    "ax.set_xlabel('PC1', size=15)\n",
    "ax.set_ylabel('PC2', size=15)\n",
    "ax.set_title('Dogs Dataset on PC1 and PC2 axis', size=20)\n",
    "plt.show()\n",
    "fig_caption('Dogs Dataset on PC1 and PC2 axis', '')"
   ]
  },
  {
   "cell_type": "markdown",
   "id": "d1d4f4c7",
   "metadata": {},
   "source": [
    "**Insights:**\n",
    "\n",
    "*Coordinates*\n",
    "* Positive PC1 is mainly described by high values of features: `good_with_other_dogs`, `good_with_strangers`, `barking`.\n",
    "* Negative PC1 is mainy described by high values of features: `energy`, and `protectiveness`.\n",
    "* Negative PC2 is mainly described by high values of features: `barking`, `trainability`.\n",
    "* Positive PC2 is mainly described by high values of features: `grooming`, `good_with_other_dogs`.\n",
    "\n",
    "*Correlations*\n",
    "* `protectiveness`, and `energy` are fairly correlated. These features are anticorrelated to `good_with_strangers`.\n",
    "* `grooming` and `good_with_other_dogs` are fairly correlated.\n",
    "* `barking` and `trainability` are fairly correlated.\n",
    "* `grooming` and `good_with_other_dogs` is fairly orthogonal to `trainability` and `barking`. This suggest independence between those features.\n",
    "\n",
    "*Clusters*\n",
    "* There are no observable clustering in the data points.\n",
    "\n",
    "*Funnels*\n",
    "* There are no observable funneling in the data points.\n",
    "\n",
    "*Voids*\n",
    "* There are no observable voids in the data points. This suggests that all combination of features are possible."
   ]
  },
  {
   "cell_type": "markdown",
   "id": "350a0175",
   "metadata": {},
   "source": [
    "The following plots shows the feature contributing to the first 8 PCs."
   ]
  },
  {
   "cell_type": "code",
   "execution_count": 27,
   "id": "a39fe352",
   "metadata": {
    "ExecuteTime": {
     "end_time": "2022-12-06T09:54:38.639791Z",
     "start_time": "2022-12-06T09:54:37.548595Z"
    },
    "scrolled": true
   },
   "outputs": [
    {
     "data": {
      "image/png": "[encoded data removed]",
      "text/plain": [
       "<Figure size 432x288 with 1 Axes>"
      ]
     },
     "metadata": {
      "needs_background": "light"
     },
     "output_type": "display_data"
    },
    {
     "data": {
      "image/png": "[encoded data removed]",
      "text/plain": [
       "<Figure size 432x288 with 1 Axes>"
      ]
     },
     "metadata": {
      "needs_background": "light"
     },
     "output_type": "display_data"
    },
    {
     "data": {
      "image/png": "[encoded data removed]",
      "text/plain": [
       "<Figure size 432x288 with 1 Axes>"
      ]
     },
     "metadata": {
      "needs_background": "light"
     },
     "output_type": "display_data"
    },
    {
     "data": {
      "image/png": "[encoded data removed]",
      "text/plain": [
       "<Figure size 432x288 with 1 Axes>"
      ]
     },
     "metadata": {
      "needs_background": "light"
     },
     "output_type": "display_data"
    },
    {
     "data": {
      "image/png": "[encoded data removed]",
      "text/plain": [
       "<Figure size 432x288 with 1 Axes>"
      ]
     },
     "metadata": {
      "needs_background": "light"
     },
     "output_type": "display_data"
    },
    {
     "data": {
      "image/png": "[encoded data removed]",
      "text/plain": [
       "<Figure size 432x288 with 1 Axes>"
      ]
     },
     "metadata": {
      "needs_background": "light"
     },
     "output_type": "display_data"
    },
    {
     "data": {
      "image/png": "[encoded data removed]",
      "text/plain": [
       "<Figure size 432x288 with 1 Axes>"
      ]
     },
     "metadata": {
      "needs_background": "light"
     },
     "output_type": "display_data"
    },
    {
     "data": {
      "image/png": "[encoded data removed]",
      "text/plain": [
       "<Figure size 432x288 with 1 Axes>"
      ]
     },
     "metadata": {
      "needs_background": "light"
     },
     "output_type": "display_data"
    }
   ],
   "source": [
    "for i in range(min_pcs):\n",
    "    fig, ax = plt.subplots()\n",
    "    order = np.argsort(np.abs(w[:, i]))[-5:]\n",
    "    ax.barh([feature_arr[o] for o in order], w[order, i])\n",
    "    ax.set_title(f'PC{i+1}')\n",
    "    ax.set_xlabel('Feature Factor')"
   ]
  },
  {
   "cell_type": "markdown",
   "id": "219db9e5",
   "metadata": {},
   "source": [
    "**Insights:**\n",
    "* PC1 - Negative PC1 corresponds to `energy` and `protectiveness` while positive PC1 corresponds to `good_with_other_dogs` and `barking`.\n",
    "* PC2 - Negative PC2 corresponds to `barking` and `trainability` while positive PC2 corresponds to `grooming`, and `good_with_other_dogs`.\n",
    "* PC3 - Negative PC3 corresponds to `coat_length` and `energy` while positive PC3 corresponds to `protectiveness`, and `good_with_other_dogs`.\n",
    "* PC4 - Negative PC4 corresponds to `shedding` while positive PC4 corresponds to `protectiveness`, and `good_with_strangers`.\n",
    "* PC5 - Negative PC5 corresponds to `playfulness` and `shedding` while positive PC5 corresponds to `ave_life_expectancy`, and `good_with_children`.\n",
    "* PC6 - Negative PC6 corresponds to `good_with_strangers` and `shedding` while positive PC6 corresponds to `drooling`, and `grooming`.\n",
    "* PC7 - Negative PC7 corresponds to `ave_height` and `good_with_strangers` while positive PC7 corresponds to `trainability`, and `energy`.\n",
    "* PC8 - Negative PC8 corresponds to `good_with_strangers` and `good_with_children` while positive PC8 corresponds to `ave_height`, and `good_with_other_dogs`."
   ]
  },
  {
   "cell_type": "markdown",
   "id": "3d222cca",
   "metadata": {},
   "source": [
    "Shown below are the top influencing features per PCs."
   ]
  },
  {
   "cell_type": "code",
   "execution_count": 28,
   "id": "db760bb3",
   "metadata": {
    "ExecuteTime": {
     "end_time": "2022-12-06T09:54:38.661781Z",
     "start_time": "2022-12-06T09:54:38.642043Z"
    }
   },
   "outputs": [
    {
     "data": {
      "text/html": [
       "<div>\n",
       "<style scoped>\n",
       "    .dataframe tbody tr th:only-of-type {\n",
       "        vertical-align: middle;\n",
       "    }\n",
       "\n",
       "    .dataframe tbody tr th {\n",
       "        vertical-align: top;\n",
       "    }\n",
       "\n",
       "    .dataframe thead th {\n",
       "        text-align: right;\n",
       "    }\n",
       "</style>\n",
       "<table border=\"1\" class=\"dataframe\">\n",
       "  <thead>\n",
       "    <tr style=\"text-align: right;\">\n",
       "      <th></th>\n",
       "      <th>PC1</th>\n",
       "      <th>PC2</th>\n",
       "      <th>PC3</th>\n",
       "      <th>PC4</th>\n",
       "      <th>PC5</th>\n",
       "      <th>PC6</th>\n",
       "      <th>PC7</th>\n",
       "      <th>PC8</th>\n",
       "      <th>PC9</th>\n",
       "      <th>PC10</th>\n",
       "      <th>PC11</th>\n",
       "      <th>PC12</th>\n",
       "      <th>PC13</th>\n",
       "      <th>PC14</th>\n",
       "      <th>PC15</th>\n",
       "    </tr>\n",
       "  </thead>\n",
       "  <tbody>\n",
       "    <tr>\n",
       "      <th>0</th>\n",
       "      <td>energy</td>\n",
       "      <td>barking</td>\n",
       "      <td>protectiveness</td>\n",
       "      <td>shedding</td>\n",
       "      <td>ave_life_expectancy</td>\n",
       "      <td>drooling</td>\n",
       "      <td>ave_height</td>\n",
       "      <td>ave_height</td>\n",
       "      <td>shedding</td>\n",
       "      <td>coat_length</td>\n",
       "      <td>playfulness</td>\n",
       "      <td>good_with_strangers</td>\n",
       "      <td>trainability</td>\n",
       "      <td>ave_weight</td>\n",
       "      <td>ave_weight</td>\n",
       "    </tr>\n",
       "    <tr>\n",
       "      <th>1</th>\n",
       "      <td>protectiveness</td>\n",
       "      <td>grooming</td>\n",
       "      <td>coat_length</td>\n",
       "      <td>protectiveness</td>\n",
       "      <td>good_with_children</td>\n",
       "      <td>good_with_strangers</td>\n",
       "      <td>energy</td>\n",
       "      <td>good_with_strangers</td>\n",
       "      <td>grooming</td>\n",
       "      <td>playfulness</td>\n",
       "      <td>grooming</td>\n",
       "      <td>coat_length</td>\n",
       "      <td>barking</td>\n",
       "      <td>good_with_children</td>\n",
       "      <td>good_with_children</td>\n",
       "    </tr>\n",
       "    <tr>\n",
       "      <th>2</th>\n",
       "      <td>good_with_other_dogs</td>\n",
       "      <td>good_with_other_dogs</td>\n",
       "      <td>energy</td>\n",
       "      <td>good_with_strangers</td>\n",
       "      <td>barking</td>\n",
       "      <td>grooming</td>\n",
       "      <td>good_with_other_dogs</td>\n",
       "      <td>shedding</td>\n",
       "      <td>protectiveness</td>\n",
       "      <td>good_with_other_dogs</td>\n",
       "      <td>ave_height</td>\n",
       "      <td>drooling</td>\n",
       "      <td>good_with_children</td>\n",
       "      <td>trainability</td>\n",
       "      <td>trainability</td>\n",
       "    </tr>\n",
       "    <tr>\n",
       "      <th>3</th>\n",
       "      <td>good_with_strangers</td>\n",
       "      <td>trainability</td>\n",
       "      <td>good_with_other_dogs</td>\n",
       "      <td>playfulness</td>\n",
       "      <td>playfulness</td>\n",
       "      <td>shedding</td>\n",
       "      <td>trainability</td>\n",
       "      <td>good_with_other_dogs</td>\n",
       "      <td>ave_life_expectancy</td>\n",
       "      <td>drooling</td>\n",
       "      <td>shedding</td>\n",
       "      <td>energy</td>\n",
       "      <td>good_with_other_dogs</td>\n",
       "      <td>playfulness</td>\n",
       "      <td>energy</td>\n",
       "    </tr>\n",
       "    <tr>\n",
       "      <th>4</th>\n",
       "      <td>grooming</td>\n",
       "      <td>ave_life_expectancy</td>\n",
       "      <td>trainability</td>\n",
       "      <td>coat_length</td>\n",
       "      <td>good_with_other_dogs</td>\n",
       "      <td>trainability</td>\n",
       "      <td>good_with_strangers</td>\n",
       "      <td>good_with_children</td>\n",
       "      <td>energy</td>\n",
       "      <td>grooming</td>\n",
       "      <td>ave_life_expectancy</td>\n",
       "      <td>good_with_children</td>\n",
       "      <td>ave_life_expectancy</td>\n",
       "      <td>energy</td>\n",
       "      <td>good_with_other_dogs</td>\n",
       "    </tr>\n",
       "    <tr>\n",
       "      <th>5</th>\n",
       "      <td>barking</td>\n",
       "      <td>shedding</td>\n",
       "      <td>grooming</td>\n",
       "      <td>grooming</td>\n",
       "      <td>shedding</td>\n",
       "      <td>good_with_other_dogs</td>\n",
       "      <td>shedding</td>\n",
       "      <td>playfulness</td>\n",
       "      <td>barking</td>\n",
       "      <td>barking</td>\n",
       "      <td>good_with_other_dogs</td>\n",
       "      <td>grooming</td>\n",
       "      <td>ave_height</td>\n",
       "      <td>ave_height</td>\n",
       "      <td>playfulness</td>\n",
       "    </tr>\n",
       "    <tr>\n",
       "      <th>6</th>\n",
       "      <td>trainability</td>\n",
       "      <td>coat_length</td>\n",
       "      <td>good_with_children</td>\n",
       "      <td>barking</td>\n",
       "      <td>energy</td>\n",
       "      <td>energy</td>\n",
       "      <td>good_with_children</td>\n",
       "      <td>trainability</td>\n",
       "      <td>good_with_children</td>\n",
       "      <td>ave_life_expectancy</td>\n",
       "      <td>good_with_children</td>\n",
       "      <td>protectiveness</td>\n",
       "      <td>protectiveness</td>\n",
       "      <td>ave_life_expectancy</td>\n",
       "      <td>ave_life_expectancy</td>\n",
       "    </tr>\n",
       "    <tr>\n",
       "      <th>7</th>\n",
       "      <td>good_with_children</td>\n",
       "      <td>good_with_children</td>\n",
       "      <td>playfulness</td>\n",
       "      <td>good_with_children</td>\n",
       "      <td>trainability</td>\n",
       "      <td>playfulness</td>\n",
       "      <td>drooling</td>\n",
       "      <td>ave_life_expectancy</td>\n",
       "      <td>ave_height</td>\n",
       "      <td>good_with_children</td>\n",
       "      <td>drooling</td>\n",
       "      <td>ave_life_expectancy</td>\n",
       "      <td>grooming</td>\n",
       "      <td>good_with_other_dogs</td>\n",
       "      <td>ave_height</td>\n",
       "    </tr>\n",
       "    <tr>\n",
       "      <th>8</th>\n",
       "      <td>ave_weight</td>\n",
       "      <td>playfulness</td>\n",
       "      <td>drooling</td>\n",
       "      <td>ave_height</td>\n",
       "      <td>protectiveness</td>\n",
       "      <td>ave_life_expectancy</td>\n",
       "      <td>ave_life_expectancy</td>\n",
       "      <td>grooming</td>\n",
       "      <td>coat_length</td>\n",
       "      <td>ave_weight</td>\n",
       "      <td>coat_length</td>\n",
       "      <td>playfulness</td>\n",
       "      <td>ave_weight</td>\n",
       "      <td>coat_length</td>\n",
       "      <td>protectiveness</td>\n",
       "    </tr>\n",
       "    <tr>\n",
       "      <th>9</th>\n",
       "      <td>drooling</td>\n",
       "      <td>drooling</td>\n",
       "      <td>ave_height</td>\n",
       "      <td>ave_life_expectancy</td>\n",
       "      <td>grooming</td>\n",
       "      <td>barking</td>\n",
       "      <td>grooming</td>\n",
       "      <td>drooling</td>\n",
       "      <td>trainability</td>\n",
       "      <td>trainability</td>\n",
       "      <td>ave_weight</td>\n",
       "      <td>barking</td>\n",
       "      <td>good_with_strangers</td>\n",
       "      <td>drooling</td>\n",
       "      <td>good_with_strangers</td>\n",
       "    </tr>\n",
       "    <tr>\n",
       "      <th>10</th>\n",
       "      <td>ave_life_expectancy</td>\n",
       "      <td>ave_weight</td>\n",
       "      <td>shedding</td>\n",
       "      <td>energy</td>\n",
       "      <td>coat_length</td>\n",
       "      <td>protectiveness</td>\n",
       "      <td>playfulness</td>\n",
       "      <td>barking</td>\n",
       "      <td>good_with_strangers</td>\n",
       "      <td>ave_height</td>\n",
       "      <td>trainability</td>\n",
       "      <td>trainability</td>\n",
       "      <td>drooling</td>\n",
       "      <td>barking</td>\n",
       "      <td>grooming</td>\n",
       "    </tr>\n",
       "    <tr>\n",
       "      <th>11</th>\n",
       "      <td>coat_length</td>\n",
       "      <td>good_with_strangers</td>\n",
       "      <td>ave_life_expectancy</td>\n",
       "      <td>trainability</td>\n",
       "      <td>ave_height</td>\n",
       "      <td>good_with_children</td>\n",
       "      <td>barking</td>\n",
       "      <td>coat_length</td>\n",
       "      <td>playfulness</td>\n",
       "      <td>energy</td>\n",
       "      <td>protectiveness</td>\n",
       "      <td>shedding</td>\n",
       "      <td>energy</td>\n",
       "      <td>good_with_strangers</td>\n",
       "      <td>shedding</td>\n",
       "    </tr>\n",
       "    <tr>\n",
       "      <th>12</th>\n",
       "      <td>playfulness</td>\n",
       "      <td>protectiveness</td>\n",
       "      <td>good_with_strangers</td>\n",
       "      <td>good_with_other_dogs</td>\n",
       "      <td>ave_weight</td>\n",
       "      <td>ave_height</td>\n",
       "      <td>protectiveness</td>\n",
       "      <td>energy</td>\n",
       "      <td>drooling</td>\n",
       "      <td>protectiveness</td>\n",
       "      <td>good_with_strangers</td>\n",
       "      <td>ave_height</td>\n",
       "      <td>shedding</td>\n",
       "      <td>shedding</td>\n",
       "      <td>drooling</td>\n",
       "    </tr>\n",
       "    <tr>\n",
       "      <th>13</th>\n",
       "      <td>shedding</td>\n",
       "      <td>energy</td>\n",
       "      <td>ave_weight</td>\n",
       "      <td>drooling</td>\n",
       "      <td>good_with_strangers</td>\n",
       "      <td>coat_length</td>\n",
       "      <td>coat_length</td>\n",
       "      <td>protectiveness</td>\n",
       "      <td>ave_weight</td>\n",
       "      <td>shedding</td>\n",
       "      <td>energy</td>\n",
       "      <td>good_with_other_dogs</td>\n",
       "      <td>coat_length</td>\n",
       "      <td>protectiveness</td>\n",
       "      <td>coat_length</td>\n",
       "    </tr>\n",
       "    <tr>\n",
       "      <th>14</th>\n",
       "      <td>ave_height</td>\n",
       "      <td>ave_height</td>\n",
       "      <td>barking</td>\n",
       "      <td>ave_weight</td>\n",
       "      <td>drooling</td>\n",
       "      <td>ave_weight</td>\n",
       "      <td>ave_weight</td>\n",
       "      <td>ave_weight</td>\n",
       "      <td>good_with_other_dogs</td>\n",
       "      <td>good_with_strangers</td>\n",
       "      <td>barking</td>\n",
       "      <td>ave_weight</td>\n",
       "      <td>playfulness</td>\n",
       "      <td>grooming</td>\n",
       "      <td>barking</td>\n",
       "    </tr>\n",
       "  </tbody>\n",
       "</table>\n",
       "</div>"
      ],
      "text/plain": [
       "                     PC1                   PC2                   PC3  \\\n",
       "0                 energy               barking        protectiveness   \n",
       "1         protectiveness              grooming           coat_length   \n",
       "2   good_with_other_dogs  good_with_other_dogs                energy   \n",
       "3    good_with_strangers          trainability  good_with_other_dogs   \n",
       "4               grooming   ave_life_expectancy          trainability   \n",
       "5                barking              shedding              grooming   \n",
       "6           trainability           coat_length    good_with_children   \n",
       "7     good_with_children    good_with_children           playfulness   \n",
       "8             ave_weight           playfulness              drooling   \n",
       "9               drooling              drooling            ave_height   \n",
       "10   ave_life_expectancy            ave_weight              shedding   \n",
       "11           coat_length   good_with_strangers   ave_life_expectancy   \n",
       "12           playfulness        protectiveness   good_with_strangers   \n",
       "13              shedding                energy            ave_weight   \n",
       "14            ave_height            ave_height               barking   \n",
       "\n",
       "                     PC4                   PC5                   PC6  \\\n",
       "0               shedding   ave_life_expectancy              drooling   \n",
       "1         protectiveness    good_with_children   good_with_strangers   \n",
       "2    good_with_strangers               barking              grooming   \n",
       "3            playfulness           playfulness              shedding   \n",
       "4            coat_length  good_with_other_dogs          trainability   \n",
       "5               grooming              shedding  good_with_other_dogs   \n",
       "6                barking                energy                energy   \n",
       "7     good_with_children          trainability           playfulness   \n",
       "8             ave_height        protectiveness   ave_life_expectancy   \n",
       "9    ave_life_expectancy              grooming               barking   \n",
       "10                energy           coat_length        protectiveness   \n",
       "11          trainability            ave_height    good_with_children   \n",
       "12  good_with_other_dogs            ave_weight            ave_height   \n",
       "13              drooling   good_with_strangers           coat_length   \n",
       "14            ave_weight              drooling            ave_weight   \n",
       "\n",
       "                     PC7                   PC8                   PC9  \\\n",
       "0             ave_height            ave_height              shedding   \n",
       "1                 energy   good_with_strangers              grooming   \n",
       "2   good_with_other_dogs              shedding        protectiveness   \n",
       "3           trainability  good_with_other_dogs   ave_life_expectancy   \n",
       "4    good_with_strangers    good_with_children                energy   \n",
       "5               shedding           playfulness               barking   \n",
       "6     good_with_children          trainability    good_with_children   \n",
       "7               drooling   ave_life_expectancy            ave_height   \n",
       "8    ave_life_expectancy              grooming           coat_length   \n",
       "9               grooming              drooling          trainability   \n",
       "10           playfulness               barking   good_with_strangers   \n",
       "11               barking           coat_length           playfulness   \n",
       "12        protectiveness                energy              drooling   \n",
       "13           coat_length        protectiveness            ave_weight   \n",
       "14            ave_weight            ave_weight  good_with_other_dogs   \n",
       "\n",
       "                    PC10                  PC11                  PC12  \\\n",
       "0            coat_length           playfulness   good_with_strangers   \n",
       "1            playfulness              grooming           coat_length   \n",
       "2   good_with_other_dogs            ave_height              drooling   \n",
       "3               drooling              shedding                energy   \n",
       "4               grooming   ave_life_expectancy    good_with_children   \n",
       "5                barking  good_with_other_dogs              grooming   \n",
       "6    ave_life_expectancy    good_with_children        protectiveness   \n",
       "7     good_with_children              drooling   ave_life_expectancy   \n",
       "8             ave_weight           coat_length           playfulness   \n",
       "9           trainability            ave_weight               barking   \n",
       "10            ave_height          trainability          trainability   \n",
       "11                energy        protectiveness              shedding   \n",
       "12        protectiveness   good_with_strangers            ave_height   \n",
       "13              shedding                energy  good_with_other_dogs   \n",
       "14   good_with_strangers               barking            ave_weight   \n",
       "\n",
       "                    PC13                  PC14                  PC15  \n",
       "0           trainability            ave_weight            ave_weight  \n",
       "1                barking    good_with_children    good_with_children  \n",
       "2     good_with_children          trainability          trainability  \n",
       "3   good_with_other_dogs           playfulness                energy  \n",
       "4    ave_life_expectancy                energy  good_with_other_dogs  \n",
       "5             ave_height            ave_height           playfulness  \n",
       "6         protectiveness   ave_life_expectancy   ave_life_expectancy  \n",
       "7               grooming  good_with_other_dogs            ave_height  \n",
       "8             ave_weight           coat_length        protectiveness  \n",
       "9    good_with_strangers              drooling   good_with_strangers  \n",
       "10              drooling               barking              grooming  \n",
       "11                energy   good_with_strangers              shedding  \n",
       "12              shedding              shedding              drooling  \n",
       "13           coat_length        protectiveness           coat_length  \n",
       "14           playfulness              grooming               barking  "
      ]
     },
     "metadata": {},
     "output_type": "display_data"
    }
   ],
   "source": [
    "pc_dict = {}\n",
    "for i in range(len(w)):\n",
    "    pc_dict.update({f\"PC{i+1}\": feature_arr[(np.argsort(-np.abs(w[:, i])))]})\n",
    "pc_features = pd.DataFrame(pc_dict)\n",
    "display(pc_features)"
   ]
  },
  {
   "cell_type": "markdown",
   "id": "24471584",
   "metadata": {},
   "source": [
    "Here are the exact values:"
   ]
  },
  {
   "cell_type": "code",
   "execution_count": 29,
   "id": "e485fbb9",
   "metadata": {
    "ExecuteTime": {
     "end_time": "2022-12-06T09:54:38.684295Z",
     "start_time": "2022-12-06T09:54:38.663978Z"
    }
   },
   "outputs": [
    {
     "data": {
      "text/html": [
       "<div>\n",
       "<style scoped>\n",
       "    .dataframe tbody tr th:only-of-type {\n",
       "        vertical-align: middle;\n",
       "    }\n",
       "\n",
       "    .dataframe tbody tr th {\n",
       "        vertical-align: top;\n",
       "    }\n",
       "\n",
       "    .dataframe thead th {\n",
       "        text-align: right;\n",
       "    }\n",
       "</style>\n",
       "<table border=\"1\" class=\"dataframe\">\n",
       "  <thead>\n",
       "    <tr style=\"text-align: right;\">\n",
       "      <th></th>\n",
       "      <th>PC1</th>\n",
       "      <th>PC2</th>\n",
       "      <th>PC3</th>\n",
       "      <th>PC4</th>\n",
       "      <th>PC5</th>\n",
       "      <th>PC6</th>\n",
       "      <th>PC7</th>\n",
       "      <th>PC8</th>\n",
       "      <th>PC9</th>\n",
       "      <th>PC10</th>\n",
       "      <th>PC11</th>\n",
       "      <th>PC12</th>\n",
       "      <th>PC13</th>\n",
       "      <th>PC14</th>\n",
       "      <th>PC15</th>\n",
       "    </tr>\n",
       "  </thead>\n",
       "  <tbody>\n",
       "    <tr>\n",
       "      <th>good_with_children</th>\n",
       "      <td>-0.160541</td>\n",
       "      <td>-0.176219</td>\n",
       "      <td>0.184019</td>\n",
       "      <td>-0.127312</td>\n",
       "      <td>0.363049</td>\n",
       "      <td>-0.046402</td>\n",
       "      <td>-0.231098</td>\n",
       "      <td>-0.282218</td>\n",
       "      <td>0.205967</td>\n",
       "      <td>-0.096251</td>\n",
       "      <td>-0.157469</td>\n",
       "      <td>-0.267301</td>\n",
       "      <td>-0.351708</td>\n",
       "      <td>0.394059</td>\n",
       "      <td>0.446293</td>\n",
       "    </tr>\n",
       "    <tr>\n",
       "      <th>good_with_other_dogs</th>\n",
       "      <td>0.399890</td>\n",
       "      <td>0.350810</td>\n",
       "      <td>0.327433</td>\n",
       "      <td>-0.037437</td>\n",
       "      <td>0.217724</td>\n",
       "      <td>-0.148224</td>\n",
       "      <td>0.360254</td>\n",
       "      <td>0.307486</td>\n",
       "      <td>-0.057176</td>\n",
       "      <td>0.338139</td>\n",
       "      <td>0.265830</td>\n",
       "      <td>0.023760</td>\n",
       "      <td>-0.240086</td>\n",
       "      <td>0.203908</td>\n",
       "      <td>0.163233</td>\n",
       "    </tr>\n",
       "    <tr>\n",
       "      <th>shedding</th>\n",
       "      <td>-0.025017</td>\n",
       "      <td>0.252219</td>\n",
       "      <td>0.034583</td>\n",
       "      <td>-0.561584</td>\n",
       "      <td>-0.208100</td>\n",
       "      <td>-0.190142</td>\n",
       "      <td>-0.280774</td>\n",
       "      <td>-0.308293</td>\n",
       "      <td>-0.484769</td>\n",
       "      <td>-0.016553</td>\n",
       "      <td>0.315913</td>\n",
       "      <td>-0.117248</td>\n",
       "      <td>0.044778</td>\n",
       "      <td>0.101944</td>\n",
       "      <td>-0.068027</td>\n",
       "    </tr>\n",
       "    <tr>\n",
       "      <th>grooming</th>\n",
       "      <td>0.319901</td>\n",
       "      <td>0.406983</td>\n",
       "      <td>-0.290013</td>\n",
       "      <td>0.151247</td>\n",
       "      <td>0.137359</td>\n",
       "      <td>0.242260</td>\n",
       "      <td>0.100974</td>\n",
       "      <td>-0.153986</td>\n",
       "      <td>-0.399877</td>\n",
       "      <td>-0.242079</td>\n",
       "      <td>-0.477493</td>\n",
       "      <td>-0.202785</td>\n",
       "      <td>-0.139025</td>\n",
       "      <td>-0.037102</td>\n",
       "      <td>0.072462</td>\n",
       "    </tr>\n",
       "    <tr>\n",
       "      <th>drooling</th>\n",
       "      <td>-0.063943</td>\n",
       "      <td>0.074566</td>\n",
       "      <td>0.098394</td>\n",
       "      <td>0.019605</td>\n",
       "      <td>0.022577</td>\n",
       "      <td>0.792664</td>\n",
       "      <td>-0.203393</td>\n",
       "      <td>-0.144982</td>\n",
       "      <td>-0.075306</td>\n",
       "      <td>0.269286</td>\n",
       "      <td>0.152566</td>\n",
       "      <td>0.401578</td>\n",
       "      <td>-0.069952</td>\n",
       "      <td>0.138179</td>\n",
       "      <td>0.048559</td>\n",
       "    </tr>\n",
       "    <tr>\n",
       "      <th>coat_length</th>\n",
       "      <td>0.041804</td>\n",
       "      <td>-0.238559</td>\n",
       "      <td>-0.473752</td>\n",
       "      <td>0.249285</td>\n",
       "      <td>-0.136292</td>\n",
       "      <td>-0.023066</td>\n",
       "      <td>-0.039739</td>\n",
       "      <td>-0.072435</td>\n",
       "      <td>-0.129494</td>\n",
       "      <td>0.631701</td>\n",
       "      <td>0.116970</td>\n",
       "      <td>-0.404100</td>\n",
       "      <td>-0.037346</td>\n",
       "      <td>0.183057</td>\n",
       "      <td>0.033564</td>\n",
       "    </tr>\n",
       "    <tr>\n",
       "      <th>good_with_strangers</th>\n",
       "      <td>0.332890</td>\n",
       "      <td>-0.050228</td>\n",
       "      <td>0.013994</td>\n",
       "      <td>0.446193</td>\n",
       "      <td>0.054883</td>\n",
       "      <td>-0.413835</td>\n",
       "      <td>-0.317289</td>\n",
       "      <td>-0.334605</td>\n",
       "      <td>-0.115453</td>\n",
       "      <td>-0.001864</td>\n",
       "      <td>0.022930</td>\n",
       "      <td>0.507561</td>\n",
       "      <td>0.089011</td>\n",
       "      <td>0.104856</td>\n",
       "      <td>0.100397</td>\n",
       "    </tr>\n",
       "    <tr>\n",
       "      <th>playfulness</th>\n",
       "      <td>0.031125</td>\n",
       "      <td>0.129661</td>\n",
       "      <td>-0.175307</td>\n",
       "      <td>0.329565</td>\n",
       "      <td>-0.228758</td>\n",
       "      <td>0.132418</td>\n",
       "      <td>-0.093270</td>\n",
       "      <td>0.210904</td>\n",
       "      <td>0.084093</td>\n",
       "      <td>-0.528938</td>\n",
       "      <td>0.539032</td>\n",
       "      <td>-0.172374</td>\n",
       "      <td>-0.035315</td>\n",
       "      <td>0.291829</td>\n",
       "      <td>0.162180</td>\n",
       "    </tr>\n",
       "    <tr>\n",
       "      <th>protectiveness</th>\n",
       "      <td>0.434381</td>\n",
       "      <td>-0.045310</td>\n",
       "      <td>-0.541739</td>\n",
       "      <td>-0.489492</td>\n",
       "      <td>0.168559</td>\n",
       "      <td>0.047918</td>\n",
       "      <td>-0.042256</td>\n",
       "      <td>0.040906</td>\n",
       "      <td>0.389140</td>\n",
       "      <td>-0.038007</td>\n",
       "      <td>0.050031</td>\n",
       "      <td>0.196055</td>\n",
       "      <td>0.172304</td>\n",
       "      <td>0.065410</td>\n",
       "      <td>0.119276</td>\n",
       "    </tr>\n",
       "    <tr>\n",
       "      <th>trainability</th>\n",
       "      <td>0.259305</td>\n",
       "      <td>-0.330389</td>\n",
       "      <td>0.303720</td>\n",
       "      <td>-0.039158</td>\n",
       "      <td>-0.178477</td>\n",
       "      <td>0.171747</td>\n",
       "      <td>0.360177</td>\n",
       "      <td>-0.184367</td>\n",
       "      <td>-0.129280</td>\n",
       "      <td>-0.089459</td>\n",
       "      <td>-0.084572</td>\n",
       "      <td>-0.137948</td>\n",
       "      <td>0.577699</td>\n",
       "      <td>0.294782</td>\n",
       "      <td>0.182276</td>\n",
       "    </tr>\n",
       "    <tr>\n",
       "      <th>energy</th>\n",
       "      <td>-0.508529</td>\n",
       "      <td>-0.030969</td>\n",
       "      <td>-0.345327</td>\n",
       "      <td>-0.042143</td>\n",
       "      <td>0.201047</td>\n",
       "      <td>-0.137600</td>\n",
       "      <td>0.435412</td>\n",
       "      <td>0.059913</td>\n",
       "      <td>-0.322003</td>\n",
       "      <td>-0.066112</td>\n",
       "      <td>0.022426</td>\n",
       "      <td>0.377764</td>\n",
       "      <td>0.049278</td>\n",
       "      <td>0.288202</td>\n",
       "      <td>0.173587</td>\n",
       "    </tr>\n",
       "    <tr>\n",
       "      <th>barking</th>\n",
       "      <td>0.261144</td>\n",
       "      <td>-0.584430</td>\n",
       "      <td>-0.005905</td>\n",
       "      <td>-0.150545</td>\n",
       "      <td>-0.240520</td>\n",
       "      <td>0.049460</td>\n",
       "      <td>0.088661</td>\n",
       "      <td>0.139496</td>\n",
       "      <td>-0.306532</td>\n",
       "      <td>-0.171489</td>\n",
       "      <td>0.014352</td>\n",
       "      <td>0.163273</td>\n",
       "      <td>-0.559640</td>\n",
       "      <td>-0.124034</td>\n",
       "      <td>0.033408</td>\n",
       "    </tr>\n",
       "    <tr>\n",
       "      <th>ave_life_expectancy</th>\n",
       "      <td>0.063340</td>\n",
       "      <td>-0.277501</td>\n",
       "      <td>0.028141</td>\n",
       "      <td>0.057615</td>\n",
       "      <td>0.706019</td>\n",
       "      <td>0.092934</td>\n",
       "      <td>-0.177724</td>\n",
       "      <td>0.165325</td>\n",
       "      <td>-0.323671</td>\n",
       "      <td>-0.096580</td>\n",
       "      <td>0.292604</td>\n",
       "      <td>-0.177155</td>\n",
       "      <td>0.224756</td>\n",
       "      <td>-0.220322</td>\n",
       "      <td>-0.136763</td>\n",
       "    </tr>\n",
       "    <tr>\n",
       "      <th>ave_height</th>\n",
       "      <td>-0.017368</td>\n",
       "      <td>0.000023</td>\n",
       "      <td>0.051776</td>\n",
       "      <td>-0.070804</td>\n",
       "      <td>-0.118322</td>\n",
       "      <td>-0.039756</td>\n",
       "      <td>-0.461990</td>\n",
       "      <td>0.660985</td>\n",
       "      <td>-0.201927</td>\n",
       "      <td>0.072164</td>\n",
       "      <td>-0.379169</td>\n",
       "      <td>0.054135</td>\n",
       "      <td>0.187400</td>\n",
       "      <td>0.288001</td>\n",
       "      <td>0.123871</td>\n",
       "    </tr>\n",
       "    <tr>\n",
       "      <th>ave_weight</th>\n",
       "      <td>-0.081817</td>\n",
       "      <td>0.063957</td>\n",
       "      <td>-0.009238</td>\n",
       "      <td>0.000920</td>\n",
       "      <td>-0.114858</td>\n",
       "      <td>-0.000490</td>\n",
       "      <td>-0.038522</td>\n",
       "      <td>0.037343</td>\n",
       "      <td>-0.072371</td>\n",
       "      <td>0.091759</td>\n",
       "      <td>0.094591</td>\n",
       "      <td>-0.008961</td>\n",
       "      <td>0.131096</td>\n",
       "      <td>-0.567012</td>\n",
       "      <td>0.782103</td>\n",
       "    </tr>\n",
       "  </tbody>\n",
       "</table>\n",
       "</div>"
      ],
      "text/plain": [
       "                           PC1       PC2       PC3       PC4       PC5  \\\n",
       "good_with_children   -0.160541 -0.176219  0.184019 -0.127312  0.363049   \n",
       "good_with_other_dogs  0.399890  0.350810  0.327433 -0.037437  0.217724   \n",
       "shedding             -0.025017  0.252219  0.034583 -0.561584 -0.208100   \n",
       "grooming              0.319901  0.406983 -0.290013  0.151247  0.137359   \n",
       "drooling             -0.063943  0.074566  0.098394  0.019605  0.022577   \n",
       "coat_length           0.041804 -0.238559 -0.473752  0.249285 -0.136292   \n",
       "good_with_strangers   0.332890 -0.050228  0.013994  0.446193  0.054883   \n",
       "playfulness           0.031125  0.129661 -0.175307  0.329565 -0.228758   \n",
       "protectiveness        0.434381 -0.045310 -0.541739 -0.489492  0.168559   \n",
       "trainability          0.259305 -0.330389  0.303720 -0.039158 -0.178477   \n",
       "energy               -0.508529 -0.030969 -0.345327 -0.042143  0.201047   \n",
       "barking               0.261144 -0.584430 -0.005905 -0.150545 -0.240520   \n",
       "ave_life_expectancy   0.063340 -0.277501  0.028141  0.057615  0.706019   \n",
       "ave_height           -0.017368  0.000023  0.051776 -0.070804 -0.118322   \n",
       "ave_weight           -0.081817  0.063957 -0.009238  0.000920 -0.114858   \n",
       "\n",
       "                           PC6       PC7       PC8       PC9      PC10  \\\n",
       "good_with_children   -0.046402 -0.231098 -0.282218  0.205967 -0.096251   \n",
       "good_with_other_dogs -0.148224  0.360254  0.307486 -0.057176  0.338139   \n",
       "shedding             -0.190142 -0.280774 -0.308293 -0.484769 -0.016553   \n",
       "grooming              0.242260  0.100974 -0.153986 -0.399877 -0.242079   \n",
       "drooling              0.792664 -0.203393 -0.144982 -0.075306  0.269286   \n",
       "coat_length          -0.023066 -0.039739 -0.072435 -0.129494  0.631701   \n",
       "good_with_strangers  -0.413835 -0.317289 -0.334605 -0.115453 -0.001864   \n",
       "playfulness           0.132418 -0.093270  0.210904  0.084093 -0.528938   \n",
       "protectiveness        0.047918 -0.042256  0.040906  0.389140 -0.038007   \n",
       "trainability          0.171747  0.360177 -0.184367 -0.129280 -0.089459   \n",
       "energy               -0.137600  0.435412  0.059913 -0.322003 -0.066112   \n",
       "barking               0.049460  0.088661  0.139496 -0.306532 -0.171489   \n",
       "ave_life_expectancy   0.092934 -0.177724  0.165325 -0.323671 -0.096580   \n",
       "ave_height           -0.039756 -0.461990  0.660985 -0.201927  0.072164   \n",
       "ave_weight           -0.000490 -0.038522  0.037343 -0.072371  0.091759   \n",
       "\n",
       "                          PC11      PC12      PC13      PC14      PC15  \n",
       "good_with_children   -0.157469 -0.267301 -0.351708  0.394059  0.446293  \n",
       "good_with_other_dogs  0.265830  0.023760 -0.240086  0.203908  0.163233  \n",
       "shedding              0.315913 -0.117248  0.044778  0.101944 -0.068027  \n",
       "grooming             -0.477493 -0.202785 -0.139025 -0.037102  0.072462  \n",
       "drooling              0.152566  0.401578 -0.069952  0.138179  0.048559  \n",
       "coat_length           0.116970 -0.404100 -0.037346  0.183057  0.033564  \n",
       "good_with_strangers   0.022930  0.507561  0.089011  0.104856  0.100397  \n",
       "playfulness           0.539032 -0.172374 -0.035315  0.291829  0.162180  \n",
       "protectiveness        0.050031  0.196055  0.172304  0.065410  0.119276  \n",
       "trainability         -0.084572 -0.137948  0.577699  0.294782  0.182276  \n",
       "energy                0.022426  0.377764  0.049278  0.288202  0.173587  \n",
       "barking               0.014352  0.163273 -0.559640 -0.124034  0.033408  \n",
       "ave_life_expectancy   0.292604 -0.177155  0.224756 -0.220322 -0.136763  \n",
       "ave_height           -0.379169  0.054135  0.187400  0.288001  0.123871  \n",
       "ave_weight            0.094591 -0.008961  0.131096 -0.567012  0.782103  "
      ]
     },
     "metadata": {},
     "output_type": "display_data"
    }
   ],
   "source": [
    "pc_dict = {}\n",
    "for i in range(len(w)):\n",
    "    pc_dict.update({f\"PC{i+1}\": w[:, i]})\n",
    "pc_values = pd.DataFrame(pc_dict, index=feature_arr)\n",
    "display(pc_values)"
   ]
  },
  {
   "cell_type": "markdown",
   "id": "3adb056f",
   "metadata": {},
   "source": [
    "Using the first 8 PCs, the top features were determined to create to reduced-dimension dataframe."
   ]
  },
  {
   "cell_type": "code",
   "execution_count": 30,
   "id": "4d8cd9aa",
   "metadata": {
    "ExecuteTime": {
     "end_time": "2022-12-06T09:54:38.691832Z",
     "start_time": "2022-12-06T09:54:38.686652Z"
    }
   },
   "outputs": [
    {
     "name": "stdout",
     "output_type": "stream",
     "text": [
      "The reduced-dimension has 8 important features.\n"
     ]
    }
   ],
   "source": [
    "imp_feature = []\n",
    "for col_i in range(min_pcs):\n",
    "    for row_i in range(len(pc_features)):\n",
    "        if pc_features.iloc[row_i, col_i] not in imp_feature:\n",
    "            imp_feature.append(pc_features.iloc[row_i, col_i])\n",
    "            break\n",
    "print(f\"The reduced-dimension has {len(imp_feature)} important features.\")"
   ]
  },
  {
   "cell_type": "markdown",
   "id": "38d2d179",
   "metadata": {},
   "source": [
    "**Insights:**\n",
    "* The team looked at the top features per principal component and they are energy, barking, protectiveness, shedding, average life expectancy, drooling, average height, and good with strangers, respectively.\n",
    "* For PC1, this principal component increases as energy decreases, while for PC2, the PC increases as barking decreases.\n",
    "* PC3 increases as protectiveness decreases, PC4 increases as shedding decreases, PC5 increases as average life expectancy increases, and PC6 increases as drooling decreases.\n",
    "* PC7 increases as average height decreases and while energy increases, and lastly PC8 increases as average height increases and good with strangers decreases."
   ]
  },
  {
   "cell_type": "markdown",
   "id": "fa7b5884",
   "metadata": {},
   "source": [
    "The reduced feature dataframe is shown below."
   ]
  },
  {
   "cell_type": "code",
   "execution_count": 31,
   "id": "c7903fb6",
   "metadata": {
    "ExecuteTime": {
     "end_time": "2022-12-06T09:54:38.706604Z",
     "start_time": "2022-12-06T09:54:38.693983Z"
    }
   },
   "outputs": [
    {
     "data": {
      "text/html": [
       "<div>\n",
       "<style scoped>\n",
       "    .dataframe tbody tr th:only-of-type {\n",
       "        vertical-align: middle;\n",
       "    }\n",
       "\n",
       "    .dataframe tbody tr th {\n",
       "        vertical-align: top;\n",
       "    }\n",
       "\n",
       "    .dataframe thead th {\n",
       "        text-align: right;\n",
       "    }\n",
       "</style>\n",
       "<table border=\"1\" class=\"dataframe\">\n",
       "  <thead>\n",
       "    <tr style=\"text-align: right;\">\n",
       "      <th></th>\n",
       "      <th>energy</th>\n",
       "      <th>barking</th>\n",
       "      <th>protectiveness</th>\n",
       "      <th>shedding</th>\n",
       "      <th>ave_life_expectancy</th>\n",
       "      <th>drooling</th>\n",
       "      <th>ave_height</th>\n",
       "      <th>good_with_strangers</th>\n",
       "    </tr>\n",
       "    <tr>\n",
       "      <th>name</th>\n",
       "      <th></th>\n",
       "      <th></th>\n",
       "      <th></th>\n",
       "      <th></th>\n",
       "      <th></th>\n",
       "      <th></th>\n",
       "      <th></th>\n",
       "      <th></th>\n",
       "    </tr>\n",
       "  </thead>\n",
       "  <tbody>\n",
       "    <tr>\n",
       "      <th>Afghan Hound</th>\n",
       "      <td>4</td>\n",
       "      <td>3</td>\n",
       "      <td>3</td>\n",
       "      <td>1</td>\n",
       "      <td>4</td>\n",
       "      <td>1</td>\n",
       "      <td>4</td>\n",
       "      <td>3</td>\n",
       "    </tr>\n",
       "    <tr>\n",
       "      <th>Airedale Terrier</th>\n",
       "      <td>3</td>\n",
       "      <td>3</td>\n",
       "      <td>5</td>\n",
       "      <td>1</td>\n",
       "      <td>3</td>\n",
       "      <td>1</td>\n",
       "      <td>4</td>\n",
       "      <td>3</td>\n",
       "    </tr>\n",
       "    <tr>\n",
       "      <th>Alaskan Malamute</th>\n",
       "      <td>4</td>\n",
       "      <td>3</td>\n",
       "      <td>4</td>\n",
       "      <td>3</td>\n",
       "      <td>3</td>\n",
       "      <td>1</td>\n",
       "      <td>4</td>\n",
       "      <td>3</td>\n",
       "    </tr>\n",
       "    <tr>\n",
       "      <th>American Eskimo Dog</th>\n",
       "      <td>4</td>\n",
       "      <td>3</td>\n",
       "      <td>3</td>\n",
       "      <td>3</td>\n",
       "      <td>4</td>\n",
       "      <td>1</td>\n",
       "      <td>4</td>\n",
       "      <td>5</td>\n",
       "    </tr>\n",
       "    <tr>\n",
       "      <th>American Hairless Terrier</th>\n",
       "      <td>3</td>\n",
       "      <td>3</td>\n",
       "      <td>3</td>\n",
       "      <td>1</td>\n",
       "      <td>4</td>\n",
       "      <td>1</td>\n",
       "      <td>2</td>\n",
       "      <td>3</td>\n",
       "    </tr>\n",
       "    <tr>\n",
       "      <th>...</th>\n",
       "      <td>...</td>\n",
       "      <td>...</td>\n",
       "      <td>...</td>\n",
       "      <td>...</td>\n",
       "      <td>...</td>\n",
       "      <td>...</td>\n",
       "      <td>...</td>\n",
       "      <td>...</td>\n",
       "    </tr>\n",
       "    <tr>\n",
       "      <th>West Highland White Terrier</th>\n",
       "      <td>4</td>\n",
       "      <td>5</td>\n",
       "      <td>5</td>\n",
       "      <td>3</td>\n",
       "      <td>4</td>\n",
       "      <td>1</td>\n",
       "      <td>1</td>\n",
       "      <td>4</td>\n",
       "    </tr>\n",
       "    <tr>\n",
       "      <th>Whippet</th>\n",
       "      <td>4</td>\n",
       "      <td>1</td>\n",
       "      <td>3</td>\n",
       "      <td>2</td>\n",
       "      <td>4</td>\n",
       "      <td>1</td>\n",
       "      <td>3</td>\n",
       "      <td>3</td>\n",
       "    </tr>\n",
       "    <tr>\n",
       "      <th>Wire Fox Terrier</th>\n",
       "      <td>4</td>\n",
       "      <td>4</td>\n",
       "      <td>4</td>\n",
       "      <td>2</td>\n",
       "      <td>4</td>\n",
       "      <td>2</td>\n",
       "      <td>2</td>\n",
       "      <td>5</td>\n",
       "    </tr>\n",
       "    <tr>\n",
       "      <th>Yakutian Laika</th>\n",
       "      <td>5</td>\n",
       "      <td>4</td>\n",
       "      <td>5</td>\n",
       "      <td>4</td>\n",
       "      <td>2</td>\n",
       "      <td>3</td>\n",
       "      <td>3</td>\n",
       "      <td>1</td>\n",
       "    </tr>\n",
       "    <tr>\n",
       "      <th>Yorkshire Terrier</th>\n",
       "      <td>4</td>\n",
       "      <td>4</td>\n",
       "      <td>5</td>\n",
       "      <td>1</td>\n",
       "      <td>3</td>\n",
       "      <td>1</td>\n",
       "      <td>1</td>\n",
       "      <td>5</td>\n",
       "    </tr>\n",
       "  </tbody>\n",
       "</table>\n",
       "<p>231 rows × 8 columns</p>\n",
       "</div>"
      ],
      "text/plain": [
       "                             energy  barking  protectiveness  shedding  \\\n",
       "name                                                                     \n",
       "Afghan Hound                      4        3               3         1   \n",
       "Airedale Terrier                  3        3               5         1   \n",
       "Alaskan Malamute                  4        3               4         3   \n",
       "American Eskimo Dog               4        3               3         3   \n",
       "American Hairless Terrier         3        3               3         1   \n",
       "...                             ...      ...             ...       ...   \n",
       "West Highland White Terrier       4        5               5         3   \n",
       "Whippet                           4        1               3         2   \n",
       "Wire Fox Terrier                  4        4               4         2   \n",
       "Yakutian Laika                    5        4               5         4   \n",
       "Yorkshire Terrier                 4        4               5         1   \n",
       "\n",
       "                             ave_life_expectancy  drooling  ave_height  \\\n",
       "name                                                                     \n",
       "Afghan Hound                                   4         1           4   \n",
       "Airedale Terrier                               3         1           4   \n",
       "Alaskan Malamute                               3         1           4   \n",
       "American Eskimo Dog                            4         1           4   \n",
       "American Hairless Terrier                      4         1           2   \n",
       "...                                          ...       ...         ...   \n",
       "West Highland White Terrier                    4         1           1   \n",
       "Whippet                                        4         1           3   \n",
       "Wire Fox Terrier                               4         2           2   \n",
       "Yakutian Laika                                 2         3           3   \n",
       "Yorkshire Terrier                              3         1           1   \n",
       "\n",
       "                             good_with_strangers  \n",
       "name                                              \n",
       "Afghan Hound                                   3  \n",
       "Airedale Terrier                               3  \n",
       "Alaskan Malamute                               3  \n",
       "American Eskimo Dog                            5  \n",
       "American Hairless Terrier                      3  \n",
       "...                                          ...  \n",
       "West Highland White Terrier                    4  \n",
       "Whippet                                        3  \n",
       "Wire Fox Terrier                               5  \n",
       "Yakutian Laika                                 1  \n",
       "Yorkshire Terrier                              5  \n",
       "\n",
       "[231 rows x 8 columns]"
      ]
     },
     "metadata": {},
     "output_type": "display_data"
    }
   ],
   "source": [
    "# Get the reduced dataset\n",
    "df_red = df.copy(deep=True)[imp_feature]\n",
    "X_red = df_red.to_numpy()\n",
    "display(df_red)"
   ]
  },
  {
   "cell_type": "markdown",
   "id": "8d6047ba",
   "metadata": {
    "ExecuteTime": {
     "end_time": "2022-12-06T07:14:00.939580Z",
     "start_time": "2022-12-06T07:14:00.931612Z"
    }
   },
   "source": [
    "<h3 style=\"color:#AB8F8F\">Non-negative Matrix-Factorization (NMF)</h3>"
   ]
  },
  {
   "cell_type": "markdown",
   "id": "6d71768d",
   "metadata": {},
   "source": [
    "The team used Non-negative matrix-factorization (NMF) to determine the features cluster and dog clusters. First in order to determine the number of latent factor, the team used Frobenius norm of the original matrix vs the reconstructed matrix at different values of latent factors (k). Shown below is the plot of Frobenius norm at k value from 2 to 15."
   ]
  },
  {
   "cell_type": "code",
   "execution_count": 32,
   "id": "d316c030",
   "metadata": {
    "ExecuteTime": {
     "end_time": "2022-12-06T09:54:52.436276Z",
     "start_time": "2022-12-06T09:54:38.708760Z"
    }
   },
   "outputs": [],
   "source": [
    "f_norm = []\n",
    "for k in range(2, len(feature_arr) + 1):\n",
    "    nmf = NMF(n_components=k, max_iter=10_000)\n",
    "    U = nmf.fit_transform(X)\n",
    "    V = nmf.components_.T\n",
    "    f_norm.append(((X - U @ V.T) ** 2).sum())"
   ]
  },
  {
   "cell_type": "code",
   "execution_count": 33,
   "id": "df13ad68",
   "metadata": {
    "ExecuteTime": {
     "end_time": "2022-12-06T09:54:52.800069Z",
     "start_time": "2022-12-06T09:54:52.530264Z"
    }
   },
   "outputs": [
    {
     "data": {
      "image/png": "[encoded data removed]",
      "text/plain": [
       "<Figure size 432x288 with 1 Axes>"
      ]
     },
     "metadata": {
      "needs_background": "light"
     },
     "output_type": "display_data"
    },
    {
     "data": {
      "text/html": [
       "<p style=\"font-size:11px;font-style:default;\"><b>\n",
       "                     Figure 19. Frobenius norm vs Latent Factors (k).</b><br></p>"
      ],
      "text/plain": [
       "<IPython.core.display.HTML object>"
      ]
     },
     "metadata": {},
     "output_type": "display_data"
    }
   ],
   "source": [
    "# Plot Frobenius norm\n",
    "fig, ax = plt.subplots()\n",
    "ax.plot(range(2, len(f_norm) + 2), f_norm, 'o-')\n",
    "ax.set_xlabel('k')\n",
    "ax.set_ylabel('Frobenius norm')\n",
    "ax.set_title('Frobenius norm vs Latent Factors (k)')\n",
    "plt.show()\n",
    "fig_caption('Frobenius norm vs Latent Factors (k)', '')"
   ]
  },
  {
   "cell_type": "markdown",
   "id": "eb4b04cb",
   "metadata": {},
   "source": [
    "The \"knee\" of the plot is not clearly defined. So, the team proceed to analyze the numerical value of frobenius norm to determine at whch value of k that the reduction of reconstruction error has diminishing returns."
   ]
  },
  {
   "cell_type": "code",
   "execution_count": 34,
   "id": "8a40f8be",
   "metadata": {
    "ExecuteTime": {
     "end_time": "2022-12-06T09:54:52.807619Z",
     "start_time": "2022-12-06T09:54:52.802511Z"
    }
   },
   "outputs": [
    {
     "name": "stdout",
     "output_type": "stream",
     "text": [
      "The optimal number of latent factors is 8.\n"
     ]
    }
   ],
   "source": [
    "# Analyzing the number\n",
    "f_diff = np.array([f_norm[i-1] - f_norm[i]\n",
    "                   for i in range(1, len(f_norm))])\n",
    "min_lfs = np.where(f_diff < 150)[0][0] + 3  # f_diff starts at LF 3\n",
    "print(f\"The optimal number of latent factors is {min_lfs}.\")"
   ]
  },
  {
   "cell_type": "markdown",
   "id": "ee56ce6b",
   "metadata": {},
   "source": [
    "Shown below is the plot of latent factors vs Original Dimensions, where white box corresponds to the zero (0) factor."
   ]
  },
  {
   "cell_type": "code",
   "execution_count": 35,
   "id": "03783684",
   "metadata": {
    "ExecuteTime": {
     "end_time": "2022-12-06T09:54:52.831343Z",
     "start_time": "2022-12-06T09:54:52.809713Z"
    }
   },
   "outputs": [],
   "source": [
    "nmf = NMF(n_components=min_lfs, max_iter=1_000)\n",
    "U = nmf.fit_transform(df)\n",
    "V = nmf.components_.T"
   ]
  },
  {
   "cell_type": "code",
   "execution_count": 36,
   "id": "14aeddbd",
   "metadata": {
    "ExecuteTime": {
     "end_time": "2022-12-06T09:54:53.097716Z",
     "start_time": "2022-12-06T09:54:52.833571Z"
    }
   },
   "outputs": [
    {
     "data": {
      "image/png": "[encoded data removed]",
      "text/plain": [
       "<Figure size 576x576 with 1 Axes>"
      ]
     },
     "metadata": {
      "needs_background": "light"
     },
     "output_type": "display_data"
    },
    {
     "data": {
      "text/html": [
       "<p style=\"font-size:11px;font-style:default;\"><b>\n",
       "                     Figure 20. Latent Factors vs Original Dimensions.</b><br></p>"
      ],
      "text/plain": [
       "<IPython.core.display.HTML object>"
      ]
     },
     "metadata": {},
     "output_type": "display_data"
    }
   ],
   "source": [
    "fig, ax = plt.subplots(figsize=(8, 8))\n",
    "ax.spy(V)\n",
    "ax.set_xticks(range(len(feature_arr)))\n",
    "ax.set_yticks(range(len(feature_arr)))\n",
    "ax.set_yticklabels(feature_arr)\n",
    "ax.set_title('Latent Factors vs Original Dimensions')\n",
    "plt.show()\n",
    "fig_caption('Latent Factors vs Original Dimensions', '')"
   ]
  },
  {
   "cell_type": "markdown",
   "id": "5151a394",
   "metadata": {
    "ExecuteTime": {
     "end_time": "2022-12-06T07:06:00.312563Z",
     "start_time": "2022-12-06T07:06:00.305677Z"
    }
   },
   "source": [
    "Now using seven latent factors, the team determined the defining characteristics and labeled each clusters."
   ]
  },
  {
   "cell_type": "code",
   "execution_count": 37,
   "id": "4efe5dd0",
   "metadata": {
    "ExecuteTime": {
     "end_time": "2022-12-06T09:54:54.177556Z",
     "start_time": "2022-12-06T09:54:53.099885Z"
    },
    "scrolled": true
   },
   "outputs": [
    {
     "data": {
      "image/png": "[encoded data removed]",
      "text/plain": [
       "<Figure size 432x288 with 1 Axes>"
      ]
     },
     "metadata": {
      "needs_background": "light"
     },
     "output_type": "display_data"
    },
    {
     "data": {
      "image/png": "[encoded data removed]",
      "text/plain": [
       "<Figure size 432x288 with 1 Axes>"
      ]
     },
     "metadata": {
      "needs_background": "light"
     },
     "output_type": "display_data"
    },
    {
     "data": {
      "image/png": "[encoded data removed]",
      "text/plain": [
       "<Figure size 432x288 with 1 Axes>"
      ]
     },
     "metadata": {
      "needs_background": "light"
     },
     "output_type": "display_data"
    },
    {
     "data": {
      "image/png": "[encoded data removed]",
      "text/plain": [
       "<Figure size 432x288 with 1 Axes>"
      ]
     },
     "metadata": {
      "needs_background": "light"
     },
     "output_type": "display_data"
    },
    {
     "data": {
      "image/png": "[encoded data removed]",
      "text/plain": [
       "<Figure size 432x288 with 1 Axes>"
      ]
     },
     "metadata": {
      "needs_background": "light"
     },
     "output_type": "display_data"
    },
    {
     "data": {
      "image/png": "[encoded data removed]",
      "text/plain": [
       "<Figure size 432x288 with 1 Axes>"
      ]
     },
     "metadata": {
      "needs_background": "light"
     },
     "output_type": "display_data"
    },
    {
     "data": {
      "image/png": "[encoded data removed]",
      "text/plain": [
       "<Figure size 432x288 with 1 Axes>"
      ]
     },
     "metadata": {
      "needs_background": "light"
     },
     "output_type": "display_data"
    },
    {
     "data": {
      "image/png": "[encoded data removed]",
      "text/plain": [
       "<Figure size 432x288 with 1 Axes>"
      ]
     },
     "metadata": {
      "needs_background": "light"
     },
     "output_type": "display_data"
    },
    {
     "data": {
      "text/html": [
       "<p style=\"font-size:11px;font-style:default;\"><b>\n",
       "                     Figure 21. Top Feature Contributor of LF1 to LF8.</b><br></p>"
      ],
      "text/plain": [
       "<IPython.core.display.HTML object>"
      ]
     },
     "metadata": {},
     "output_type": "display_data"
    }
   ],
   "source": [
    "# Plot of feature influence on Latent Factors\n",
    "for i in range(min_lfs):\n",
    "    fig, ax = plt.subplots()\n",
    "    order = np.argsort(np.abs(V[:, i]))[-10:]\n",
    "    ax.barh([feature_arr[o] for o in order], V[order, i])\n",
    "    ax.set_title(f'Top Feature Contributor on LF{i+1}')\n",
    "    ax.set_xlabel('Affinity Value')\n",
    "plt.show()\n",
    "fig_caption('Top Feature Contributor of LF1 to LF8', '')"
   ]
  },
  {
   "cell_type": "markdown",
   "id": "5ed67e99",
   "metadata": {
    "slideshow": {
     "slide_type": "slide"
    }
   },
   "source": [
    "**Insights:**\n",
    "* Latent Factor 1 - Energetic Big Child-friendly Dogs\n",
    "* Latent Factor 2 - Big Protective Dogs\n",
    "* Latent Factor 3 - High Maintenance Socially Well Dogs\n",
    "* Latent Factor 4 - Loud Dogs\n",
    "* Latent Factor 5 - Energetic Tall Dogs\n",
    "* Latent Factor 6 - Protective yet Playful Dogs\n",
    "* Latent Factor 7 - Easily Trained ActiveDogs\n",
    "* Latent Factor 8 - Socially Behaved Dogs"
   ]
  },
  {
   "cell_type": "code",
   "execution_count": 38,
   "id": "2267244c",
   "metadata": {
    "ExecuteTime": {
     "end_time": "2022-12-06T09:54:54.183112Z",
     "start_time": "2022-12-06T09:54:54.179635Z"
    }
   },
   "outputs": [],
   "source": [
    "lf_labels = ['Energetic Big Child-friendly Dogs', 'Big Protective Dogs',\n",
    "             'High Maintenance Socially Well Dogs',\n",
    "             'Very Vocal Dogs', 'Energetic Tall Dogs',\n",
    "             'Protective yet Playful Dogs', 'Easily Trained ActiveDogs',\n",
    "             'Socially Behaved Dogs']"
   ]
  },
  {
   "cell_type": "markdown",
   "id": "a6cf52f4",
   "metadata": {
    "ExecuteTime": {
     "end_time": "2022-12-06T07:19:17.304132Z",
     "start_time": "2022-12-06T07:19:17.297570Z"
    }
   },
   "source": [
    "Using these latent factors labels, the affinity of each dog to a cluster was determined. Shown below is the translated value into first 2 PCs with color representing unique cluster"
   ]
  },
  {
   "cell_type": "code",
   "execution_count": 39,
   "id": "cace3eb7",
   "metadata": {
    "ExecuteTime": {
     "end_time": "2022-12-06T09:54:54.326966Z",
     "start_time": "2022-12-06T09:54:54.185253Z"
    }
   },
   "outputs": [
    {
     "data": {
      "image/png": "[encoded data removed]",
      "text/plain": [
       "<Figure size 576x432 with 1 Axes>"
      ]
     },
     "metadata": {
      "needs_background": "light"
     },
     "output_type": "display_data"
    },
    {
     "data": {
      "text/html": [
       "<p style=\"font-size:11px;font-style:default;\"><b>\n",
       "                     Figure 22. PC Axis with Clustering.</b><br></p>"
      ],
      "text/plain": [
       "<IPython.core.display.HTML object>"
      ]
     },
     "metadata": {},
     "output_type": "display_data"
    }
   ],
   "source": [
    "# Clustering by assigning them to the latent factor with the highest weight\n",
    "fig, ax = plt.subplots(figsize=(8, 6))\n",
    "pca_nmf = PCA(2)\n",
    "ax.scatter(*pca_nmf.fit_transform(X_center).T,\n",
    "           c=U.argmax(axis=1), cmap='Set1')\n",
    "ax.set_xlabel('PC1')\n",
    "ax.set_ylabel('PC2')\n",
    "ax.set_title('PC Axis with Clustering')\n",
    "plt.show()\n",
    "fig_caption('PC Axis with Clustering', '')"
   ]
  },
  {
   "cell_type": "markdown",
   "id": "42ab6c50",
   "metadata": {},
   "source": [
    "The clusters of each dog was determined. Some cluster doesn't have any member this is because dogs that might be classified into these clusters have more affinity towards other clusters."
   ]
  },
  {
   "cell_type": "code",
   "execution_count": 40,
   "id": "4fede02d",
   "metadata": {
    "ExecuteTime": {
     "end_time": "2022-12-06T09:54:54.340690Z",
     "start_time": "2022-12-06T09:54:54.329087Z"
    }
   },
   "outputs": [
    {
     "name": "stdout",
     "output_type": "stream",
     "text": [
      "Energetic Big Child-friendly Dogs:\n",
      " []\n",
      "\n",
      "Big Protective Dogs:\n",
      " []\n",
      "\n",
      "High Maintenance Socially Well Dogs:\n",
      " ['Basset Hound', 'Pyrenean Mastiff']\n",
      "\n",
      "Very Vocal Dogs:\n",
      " ['Barbado da Terceira', 'Chinook', 'Volpino Italiano']\n",
      "\n",
      "Energetic Tall Dogs:\n",
      " ['Afghan Hound', 'Airedale Terrier', 'Barbet', 'Bichon Frise', 'Briard', 'Coton de Tulear', 'Eurasier', 'Glen of Imaal Terrier', 'Maltese']\n",
      "\n",
      "Protective yet Playful Dogs:\n",
      " ['American Leopard Hound', 'American Staffordshire Terrier', 'Anatolian Shepherd Dog', 'Australian Cattle Dog', 'Australian Stumpy Tail Cattle Dog', 'Australian Terrier', 'Azawakh', 'Basenji', 'Bedlington Terrier', 'Bergamasco Sheepdog', 'Cairn Terrier', 'Canaan Dog', 'Cardigan Welsh Corgi', 'Central Asian Shepherd Dog', 'Cesky Terrier', 'Chihuahua', 'Croatian Sheepdog', 'Czechoslovakian Vlcak', 'Dachshund', 'Estrela Mountain Dog', 'Hokkaido', 'Irish Terrier', 'Jindo', 'Kai Ken', 'Kerry Blue Terrier', 'Lakeland Terrier', 'Lhasa Apso', 'Löwchen', 'Manchester Terrier (Standard)', 'Manchester Terrier (Toy)', 'Miniature Bull Terrier', 'Miniature Pinscher', 'Norfolk Terrier', 'Norwegian Buhund', 'Norwegian Elkhound', 'Norwich Terrier', 'Pekingese', 'Perro de Presa Canario', 'Pomeranian', 'Pyrenean Shepherd', 'Romanian Mioritic Shepherd Dog', 'Russian Toy', 'Schipperke', 'Scottish Terrier', 'Sealyham Terrier', 'Shetland Sheepdog', 'Silky Terrier', 'Slovensky Cuvac', 'Smooth Fox Terrier', 'West Highland White Terrier', 'Yakutian Laika']\n",
      "\n",
      "Easily Trained ActiveDogs:\n",
      " ['Alaskan Malamute', 'American Eskimo Dog', 'American Hairless Terrier', 'American Water Spaniel', 'Australian Shepherd', 'Belgian Laekenois', 'Belgian Malinois', 'Belgian Sheepdog', 'Belgian Tervuren', 'Black Russian Terrier', 'Boerboel', 'Bohemian Shepherd', 'Bolognese', 'Border Collie', 'Border Terrier', 'Boston Terrier', 'Bouvier des Flandres', 'Boxer', 'Bracco Italiano', 'Braque du Bourbonnais', 'Brittany', 'Bull Terrier', 'Bulldog', 'Bullmastiff', 'Cane Corso', 'Catahoula Leopard Dog', 'Caucasian Shepherd Dog', 'Chesapeake Bay Retriever', 'Chinese Crested', 'Chow Chow', 'Clumber Spaniel', 'Collie', 'Curly-Coated Retriever', 'Dandie Dinmont Terrier', 'Deutscher Wachtelhund', 'Doberman Pinscher', 'Drentsche Patrijshond', 'Dutch Shepherd', 'Field Spaniel', 'German Longhaired Pointer', 'German Pinscher', 'German Shepherd Dog', 'German Shorthaired Pointer', 'German Wirehaired Pointer', 'Giant Schnauzer', 'Gordon Setter', 'Greater Swiss Mountain Dog', 'Hamiltonstovare', 'Icelandic Sheepdog', 'Irish Water Spaniel', 'Komondor', 'Kromfohrlander', 'Kuvasz', 'Leonberger', 'Mastiff', 'Miniature American Shepherd', 'Miniature Schnauzer', 'Mudi', 'Nederlandse Kooikerhondje', 'Nova Scotia Duck Tolling Retriever', 'Old English Sheepdog', 'Papillon', 'Polish Lowland Sheepdog', 'Poodle (Miniature)', 'Poodle (Standard)', 'Poodle (Toy)', 'Rafeiro do Alentejo', 'Rhodesian Ridgeback', 'Rottweiler', 'Russian Tsvetnaya Bolonka', 'Saint Bernard', 'Samoyed', 'Small Munsterlander', 'Swedish Lapphund', 'Welsh Terrier', 'Wire Fox Terrier', 'Yorkshire Terrier']\n",
      "\n",
      "Socially Behaved Dogs:\n",
      " ['Appenzeller Sennenhund', 'Australian Kelpie', 'Basset Fauve de Bretagne', 'Bavarian Mountain Scent Hound', 'Beagle', 'Bearded Collie', 'Beauceron', 'Berger Picard', 'Bernese Mountain Dog', 'Biewer Terrier', 'Black and Tan Coonhound', 'Bloodhound', 'Bluetick Coonhound', 'Borzoi', 'Boykin Spaniel', 'Braque Francais Pyrenean', 'Broholmer', 'Brussels Griffon', 'Carolina Dog', 'Cavalier King Charles Spaniel', 'Chinese Shar-Pei', 'Cirneco dell’Etna', 'Cocker Spaniel', 'Dalmatian', 'Danish-Swedish Farmdog', 'Dogo Argentino', 'Dogue de Bordeaux', 'Drever', 'English Cocker Spaniel', 'English Foxhound', 'English Setter', 'English Springer Spaniel', 'English Toy Spaniel', 'Entlebucher Mountain Dog', 'Finnish Lapphund', 'Finnish Spitz', 'Flat-Coated Retriever', 'French Bulldog', 'French Spaniel', 'German Spitz', 'Golden Retriever', 'Grand Basset Griffon Vendéen', 'Great Dane', 'Great Pyrenees', 'Greyhound', 'Hanoverian Scenthound', 'Harrier', 'Havanese', 'Hovawart', 'Ibizan Hound', 'Irish Red and White Setter', 'Irish Setter', 'Irish Wolfhound', 'Italian Greyhound', 'Jagdterrier', 'Japanese Chin', 'Japanese Spitz', 'Karelian Bear Dog', 'Keeshond', 'Kishu Ken', 'Labrador Retriever', 'Lagotto Romagnolo', 'Lancashire Heeler', 'Lapponian Herder', 'Mountain Cur', 'Neapolitan Mastiff', 'Newfoundland', 'Norrbottenspets', 'Norwegian Lundehund', 'Otterhound', 'Parson Russell Terrier', 'Pembroke Welsh Corgi', 'Peruvian Inca Orchid', 'Petit Basset Griffon Vendéen', 'Porcelaine', 'Pug', 'Redbone Coonhound', 'Russell Terrier', 'Scottish Deerhound', 'Segugio Italiano', 'Siberian Husky', 'Sloughi', 'Spanish Mastiff', 'Spinone Italiano', 'Teddy Roosevelt Terrier', 'Transylvanian Hound', 'Treeing Tennessee Brindle', 'Treeing Walker Coonhound', 'Whippet']\n",
      "\n"
     ]
    }
   ],
   "source": [
    "# Clustering\n",
    "df_cluster = df.copy()\n",
    "df_cluster['nmf_cluster'] = U.argmax(axis=1)\n",
    "\n",
    "for i in range(8):\n",
    "    nmf_cluster = list(df_cluster[df_cluster['nmf_cluster'] == i].index)\n",
    "    print(f\"{lf_labels[i]}:\\n {nmf_cluster}\\n\")"
   ]
  },
  {
   "cell_type": "markdown",
   "id": "15c2ea01",
   "metadata": {},
   "source": [
    "<h2 style=\"color:#BC7E7E\">Information Retrieval (IR)</h2>"
   ]
  },
  {
   "cell_type": "markdown",
   "id": "7c399d65",
   "metadata": {},
   "source": [
    "To determine the performance of dimensionality reduction the team perform information retrieval on both datasets that are full 15 features and reduced to 8 features. The similarity score used for information retrival is cosine distance because all of the data in our dataset are non-negative."
   ]
  },
  {
   "cell_type": "code",
   "execution_count": 41,
   "id": "ff8569d6",
   "metadata": {
    "ExecuteTime": {
     "end_time": "2022-12-06T09:54:54.346784Z",
     "start_time": "2022-12-06T09:54:54.342927Z"
    }
   },
   "outputs": [],
   "source": [
    "def nearest_dog(query, obj, dog_arr, k):\n",
    "    \"\"\"Returns the top k nearest dog to the query from the obj.\"\"\"\n",
    "    near_k = np.argsort([distance.cosine(query, vec) for vec in obj])[:k]\n",
    "    near_dog = dog_arr[near_k]\n",
    "    return near_dog"
   ]
  },
  {
   "cell_type": "code",
   "execution_count": 42,
   "id": "1c5de886",
   "metadata": {
    "ExecuteTime": {
     "end_time": "2022-12-06T09:54:54.352522Z",
     "start_time": "2022-12-06T09:54:54.348832Z"
    }
   },
   "outputs": [
    {
     "name": "stdout",
     "output_type": "stream",
     "text": [
      "IR will retrieved the top 10 nearest dog from the query. The sample dog querry is Neapolitan Mastiff.\n"
     ]
    }
   ],
   "source": [
    "top_count = 10\n",
    "dog_index = 167\n",
    "print(f\"IR will retrieved the top {top_count} nearest dog from the query. The \"\n",
    "      f\"sample dog querry is {dog_arr[dog_index]}.\")"
   ]
  },
  {
   "cell_type": "markdown",
   "id": "872304f8",
   "metadata": {},
   "source": [
    "Instead of asking for the 15 features to come up with a recommended dog, the team reduced it to 8 questions (features). This reduced questions still yields a significant % accuracy base from the original dimensions results."
   ]
  },
  {
   "cell_type": "code",
   "execution_count": 43,
   "id": "be6fb816",
   "metadata": {
    "ExecuteTime": {
     "end_time": "2022-12-06T09:54:54.388023Z",
     "start_time": "2022-12-06T09:54:54.354710Z"
    }
   },
   "outputs": [
    {
     "name": "stdout",
     "output_type": "stream",
     "text": [
      "The top 10 nearest dog from our query are:\n",
      "\n",
      "['Neapolitan Mastiff' 'Spanish Mastiff' 'Saint Bernard' 'Broholmer'\n",
      " 'Pyrenean Mastiff' 'Mastiff' 'Dogue de Bordeaux' 'Caucasian Shepherd Dog'\n",
      " 'Newfoundland' 'Great Pyrenees']\n",
      "\n",
      "\n",
      "Using the reduced features, the top 10 nearest dog from our query are:\n",
      "\n",
      "['Neapolitan Mastiff' 'Saint Bernard' 'Spanish Mastiff' 'Mastiff'\n",
      " 'Broholmer' 'Pyrenean Mastiff' 'Newfoundland' 'Dogue de Bordeaux'\n",
      " 'Rottweiler' 'Caucasian Shepherd Dog']\n",
      "\n",
      "\n",
      "The percent match between the original search and reduced-dimension search is 90%\n"
     ]
    }
   ],
   "source": [
    "# Sample original dimension query\n",
    "sample_orig = X[dog_index, :]\n",
    "\n",
    "# Get the top 20% nearest from the query\n",
    "search_orig = nearest_dog(sample_orig, X, dog_arr, top_count)\n",
    "print(f\"The top {top_count} nearest dog from our query \"\n",
    "      f\"are:\\n\\n{search_orig}\\n\\n\")\n",
    "\n",
    "# Sample reduced-dimension query\n",
    "sample_red = X_red[dog_index, :]\n",
    "\n",
    "# Get the top 20% nearest from the query\n",
    "search_red = nearest_dog(sample_red, X_red, dog_arr, top_count)\n",
    "print(f\"Using the reduced features, the top {top_count} nearest dog from \"\n",
    "     f\"our query are:\\n\\n{search_red}\\n\\n\")\n",
    "\n",
    "# Get the % match between the original and reduced-dimension\n",
    "count = 0\n",
    "for i in search_orig:\n",
    "    if i in search_red:\n",
    "        count += 1\n",
    "pct_match = count / top_count * 100\n",
    "print(f\"The percent match between the original search and reduced-dimension \"\n",
    "      f\"search is {pct_match:.0f}%\")"
   ]
  },
  {
   "cell_type": "markdown",
   "id": "947b627f",
   "metadata": {},
   "source": [
    "This high percentage match indicates that instead of asking for all 15 features the program could focus only on the 8 important features."
   ]
  },
  {
   "cell_type": "markdown",
   "id": "7a033310",
   "metadata": {},
   "source": [
    "<h2 style=\"color:#BC7E7E\">Which Dog Should I Select?</h2>"
   ]
  },
  {
   "cell_type": "markdown",
   "id": "a7e90e4b",
   "metadata": {},
   "source": [
    "Going back to the question \"Which Dog Should I Select\", the team develop an interactive jupyter notebook widget. This interface will return the top 3 recommended dogs base on the user input."
   ]
  },
  {
   "cell_type": "code",
   "execution_count": 44,
   "id": "ae34ac20",
   "metadata": {
    "ExecuteTime": {
     "end_time": "2022-12-06T09:54:54.394911Z",
     "start_time": "2022-12-06T09:54:54.390212Z"
    },
    "scrolled": true
   },
   "outputs": [],
   "source": [
    "def search_query():\n",
    "    user_query = np.array([energy.value, barking.value, protectiveness.value,\n",
    "                           shedding.value, ave_life_expectancy.value,\n",
    "                           drooling.value, ave_height.value,\n",
    "                           good_with_strangers.value])\n",
    "\n",
    "    # Search the top 3 dogs\n",
    "    search_results = nearest_dog(user_query, X_red, dog_arr, 3)\n",
    "\n",
    "    # Display the dog image\n",
    "    for dog_name in search_results:\n",
    "        resp = requests.get(data.loc[dog_name, 'image_link'])\n",
    "        img = Image.open(BytesIO(resp.content))\n",
    "        print(dog_name)\n",
    "        display(img)"
   ]
  },
  {
   "cell_type": "code",
   "execution_count": 45,
   "id": "b4d295ed",
   "metadata": {
    "ExecuteTime": {
     "end_time": "2022-12-06T09:54:54.447106Z",
     "start_time": "2022-12-06T09:54:54.396839Z"
    }
   },
   "outputs": [],
   "source": [
    "# Input set up\n",
    "# style = {'description_width': 'initial'}\n",
    "style = {'description_width': '150px'}\n",
    "layout = {'width': '400px'}\n",
    "\n",
    "ave_life_expectancy = widgets.IntSlider(\n",
    "    min=1, max=5,step=1, description='Average Life Expectancy:', \n",
    "    style=style, layout=layout)\n",
    "\n",
    "ave_height = widgets.IntSlider(\n",
    "    min=1, max=5,step=1, description='Average Height:', \n",
    "    style=style, layout=layout)\n",
    "\n",
    "good_with_strangers = widgets.IntSlider(\n",
    "    min=1, max=5,step=1, description='Good w/Stranger:', \n",
    "    style=style, layout=layout)\n",
    "\n",
    "protectiveness = widgets.IntSlider(\n",
    "    min=1, max=5,step=1, description='Protectiveness:', \n",
    "    style=style, layout=layout)\n",
    "\n",
    "energy = widgets.IntSlider(\n",
    "    min=1, max=5,step=1, description='Energy:', \n",
    "    style=style, layout=layout)\n",
    "\n",
    "barking = widgets.IntSlider(\n",
    "    min=1, max=5,step=1, description='Barking:', \n",
    "    style=style, layout=layout)\n",
    "\n",
    "drooling = widgets.IntSlider(\n",
    "    min=1, max=5,step=1, description='Drooling:', \n",
    "    style=style, layout=layout)\n",
    "\n",
    "shedding = widgets.IntSlider(\n",
    "    min=1, max=5,step=1, description='Shedding:', \n",
    "    style=style, layout=layout)"
   ]
  },
  {
   "cell_type": "code",
   "execution_count": 46,
   "id": "a7e36b6a",
   "metadata": {
    "ExecuteTime": {
     "end_time": "2022-12-06T09:54:54.481049Z",
     "start_time": "2022-12-06T09:54:54.449056Z"
    },
    "scrolled": false
   },
   "outputs": [
    {
     "name": "stdout",
     "output_type": "stream",
     "text": [
      "Adjust the slider and click the \"Search for Dogs\" button:\n"
     ]
    },
    {
     "data": {
      "application/vnd.jupyter.widget-view+json": {
       "model_id": "bc5ced18663b48529cb3bde0e2493b2f",
       "version_major": 2,
       "version_minor": 0
      },
      "text/plain": [
       "VBox(children=(IntSlider(value=1, description='Average Life Expectancy:', layout=Layout(width='400px'), max=5,…"
      ]
     },
     "metadata": {},
     "output_type": "display_data"
    }
   ],
   "source": [
    "# Button and Output\n",
    "butt = widgets.Button(description='Search for Dogs')\n",
    "outt = widgets.Output()\n",
    "layout = widgets.Layout(align_items='center')\n",
    "\n",
    "\n",
    "def on_butt_clicked(b):\n",
    "    with outt:\n",
    "        clear_output()\n",
    "        search_query()\n",
    "\n",
    "\n",
    "butt.on_click(on_butt_clicked)\n",
    "\n",
    "\n",
    "# Display Interactive Widgets\n",
    "print('Adjust the slider and click the \"Search for Dogs\" button:')\n",
    "widgets.VBox([ave_life_expectancy, ave_height, good_with_strangers,\n",
    "              protectiveness, energy, barking, drooling, shedding,\n",
    "              butt, outt], layout=layout)"
   ]
  },
  {
   "cell_type": "markdown",
   "id": "1bfd4629",
   "metadata": {},
   "source": [
    "<h1 style=\"color:#DA5F70\">Conclusion</h1>"
   ]
  },
  {
   "cell_type": "markdown",
   "id": "ae38ebc8",
   "metadata": {},
   "source": [
    "The team looked at 231 different breeds of dogs and found that there are features that contribute the most in selecting the preferred dogs. These features are namely energy, barking, protectiveness, shedding, average life expectancy, drooling, average height, and good with strangers. There are features that correlate positively with other features - for example, dogs that are playful are generally also good with strangers. Dogs that are good with other dogs are good with kids as well. Heavy dogs tend to have lower life expectancies as well.\n",
    "\n",
    "Using the top features that emerged from doing the Principal Components Analysis, the team did Information Retrieval, looked at the top 10 results, and compared it with the Information Retrieval using all the features. Interestingly, 90% of the results matched. We can now answer the question \"Which dog should I select?\" by asking the features that contribute the most in selecting the right dog breed.\n",
    "\n",
    "So if you ever find yourself paw-sing and reflecting on getting a furry friend, give our team a call. We’re the right tree to bark up. We’re excited to be part of your journey in selecting the paw-fect dog for you."
   ]
  },
  {
   "cell_type": "markdown",
   "id": "e9fe81c0",
   "metadata": {},
   "source": [
    "<h1 style=\"color:#DA5F70\">Recommendations</h1>"
   ]
  },
  {
   "cell_type": "markdown",
   "id": "d582982b",
   "metadata": {},
   "source": [
    "The system may be further improved by conducting the following:\n",
    "* Other clustering methods may be explored outside of NMF. K-means clustering or Density based clustering methods such as DBSCAN or OPTICS may be considered in grouping the different breeds of dogs before doing the information retrieval. With this, the system can determine the preferred characteristics of the person and then look at the dogs within specific clusters, not necessarily looking into the whole dataset every query.\n",
    "* Aside from only looking at the top features per principal component, future studies may consider on taking into account 'obvious' values on select features. For example, the most preferred average life expectancy is 5, since people generally want their dogs to live the longest.\n",
    "* Adding other relevant features such as price and availability in the region or country may also be considered."
   ]
  },
  {
   "cell_type": "markdown",
   "id": "c99b81f7",
   "metadata": {},
   "source": [
    "<h1 style=\"color:#DA5F70\">References</h1>"
   ]
  },
  {
   "cell_type": "markdown",
   "id": "be386fd6",
   "metadata": {
    "ExecuteTime": {
     "end_time": "2022-12-06T08:33:08.430571Z",
     "start_time": "2022-12-06T08:33:08.421534Z"
    }
   },
   "source": [
    "[1] api-ninjas.com (n.d.) *Build Real Projects with Real Data*. Retrieved November 25, 2022 at https://api-ninjas.com/api/dogs <br><br>\n",
    "[2] yahoo.com (2020, July 22) *Here's Why Your Dog Knows When It's Time For Food and Walks, According to Experts*. Retrieved December 1, 2022 at https://www.yahoo.com/lifestyle/am-imagining-things-dog-tell-200136032.html <br><br>\n",
    "[3] bing.com (n.d.) *What breed is that dog?*. Retrieved December 6, 2022 at https://www.bing.com/visualsearch/Microsoft/WhatDog <br><br>\n",
    "[4] American Knnel Club (n.d.) *Dog Breeds*. Retrieved December 6, 2022, from https://www.akc.org/dog-breeds/ <br><br>\n",
    "[5] dogtime.com (n.d.) *Small Munsterlander Pointer*. Retrieved November 30, 2022 at https://dogtime.com/dog-breeds/small-munsterlander-pointer#/slide/1. <br><br>"
   ]
  }
 ],
 "metadata": {
  "kernelspec": {
   "display_name": "Python 3 (ipykernel)",
   "language": "python",
   "name": "python3"
  },
  "language_info": {
   "codemirror_mode": {
    "name": "ipython",
    "version": 3
   },
   "file_extension": ".py",
   "mimetype": "text/x-python",
   "name": "python",
   "nbconvert_exporter": "python",
   "pygments_lexer": "ipython3",
   "version": "3.9.13"
  },
  "toc": {
   "base_numbering": 1,
   "nav_menu": {},
   "number_sections": true,
   "sideBar": true,
   "skip_h1_title": false,
   "title_cell": "Table of Contents",
   "title_sidebar": "Contents",
   "toc_cell": false,
   "toc_position": {
    "height": "calc(100% - 180px)",
    "left": "10px",
    "top": "150px",
    "width": "303.825px"
   },
   "toc_section_display": true,
   "toc_window_display": true
  }
 },
 "nbformat": 4,
 "nbformat_minor": 5
}
